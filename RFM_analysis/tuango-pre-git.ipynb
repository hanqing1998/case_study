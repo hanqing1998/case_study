{
 "cells": [
  {
   "cell_type": "markdown",
   "metadata": {},
   "source": [
    "# T Company - RFM Analysis for Mobile App Push Messaging"
   ]
  },
  {
   "cell_type": "code",
   "execution_count": 1,
   "metadata": {},
   "outputs": [],
   "source": [
    "#pip install --user 'pyrsm>=0.5.3'"
   ]
  },
  {
   "cell_type": "markdown",
   "metadata": {},
   "source": [
    "## Part 0. Data Import and Validation"
   ]
  },
  {
   "cell_type": "code",
   "execution_count": 2,
   "metadata": {},
   "outputs": [],
   "source": [
    "import numpy as np\n",
    "import pandas as pd\n",
    "import pyrsm as rsm\n",
    "import seaborn as sns\n",
    "import matplotlib.pyplot as plt"
   ]
  },
  {
   "cell_type": "code",
   "execution_count": 3,
   "metadata": {},
   "outputs": [],
   "source": [
    "tuango = pd.read_pickle(\"data/tuango_pre.pkl\")"
   ]
  },
  {
   "cell_type": "code",
   "execution_count": 4,
   "metadata": {},
   "outputs": [
    {
     "data": {
      "text/html": [
       "<div>\n",
       "<style scoped>\n",
       "    .dataframe tbody tr th:only-of-type {\n",
       "        vertical-align: middle;\n",
       "    }\n",
       "\n",
       "    .dataframe tbody tr th {\n",
       "        vertical-align: top;\n",
       "    }\n",
       "\n",
       "    .dataframe thead th {\n",
       "        text-align: right;\n",
       "    }\n",
       "</style>\n",
       "<table border=\"1\" class=\"dataframe\">\n",
       "  <thead>\n",
       "    <tr style=\"text-align: right;\">\n",
       "      <th></th>\n",
       "      <th>userid</th>\n",
       "      <th>recency</th>\n",
       "      <th>frequency</th>\n",
       "      <th>monetary</th>\n",
       "      <th>rfm_iq_pre</th>\n",
       "      <th>buyer</th>\n",
       "      <th>ordersize</th>\n",
       "      <th>platform</th>\n",
       "      <th>category</th>\n",
       "      <th>mobile_os</th>\n",
       "      <th>training</th>\n",
       "    </tr>\n",
       "  </thead>\n",
       "  <tbody>\n",
       "    <tr>\n",
       "      <th>0</th>\n",
       "      <td>U12617430</td>\n",
       "      <td>309</td>\n",
       "      <td>7</td>\n",
       "      <td>39.8</td>\n",
       "      <td>514</td>\n",
       "      <td>no</td>\n",
       "      <td>0.0</td>\n",
       "      <td>App</td>\n",
       "      <td>3</td>\n",
       "      <td>android</td>\n",
       "      <td>1</td>\n",
       "    </tr>\n",
       "    <tr>\n",
       "      <th>1</th>\n",
       "      <td>U63302737</td>\n",
       "      <td>297</td>\n",
       "      <td>8</td>\n",
       "      <td>39.8</td>\n",
       "      <td>514</td>\n",
       "      <td>no</td>\n",
       "      <td>0.0</td>\n",
       "      <td>Browser</td>\n",
       "      <td>3</td>\n",
       "      <td>android</td>\n",
       "      <td>1</td>\n",
       "    </tr>\n",
       "    <tr>\n",
       "      <th>2</th>\n",
       "      <td>U77095928</td>\n",
       "      <td>295</td>\n",
       "      <td>1</td>\n",
       "      <td>72.9</td>\n",
       "      <td>553</td>\n",
       "      <td>no</td>\n",
       "      <td>0.0</td>\n",
       "      <td>Browser</td>\n",
       "      <td>3</td>\n",
       "      <td>android</td>\n",
       "      <td>1</td>\n",
       "    </tr>\n",
       "    <tr>\n",
       "      <th>3</th>\n",
       "      <td>U43509181</td>\n",
       "      <td>277</td>\n",
       "      <td>1</td>\n",
       "      <td>40.0</td>\n",
       "      <td>554</td>\n",
       "      <td>no</td>\n",
       "      <td>0.0</td>\n",
       "      <td>Browser</td>\n",
       "      <td>3</td>\n",
       "      <td>android</td>\n",
       "      <td>1</td>\n",
       "    </tr>\n",
       "    <tr>\n",
       "      <th>4</th>\n",
       "      <td>U23195941</td>\n",
       "      <td>259</td>\n",
       "      <td>1</td>\n",
       "      <td>21.0</td>\n",
       "      <td>555</td>\n",
       "      <td>no</td>\n",
       "      <td>0.0</td>\n",
       "      <td>App</td>\n",
       "      <td>3</td>\n",
       "      <td>android</td>\n",
       "      <td>1</td>\n",
       "    </tr>\n",
       "  </tbody>\n",
       "</table>\n",
       "</div>"
      ],
      "text/plain": [
       "      userid  recency  frequency  monetary rfm_iq_pre buyer  ordersize  \\\n",
       "0  U12617430      309          7      39.8        514    no        0.0   \n",
       "1  U63302737      297          8      39.8        514    no        0.0   \n",
       "2  U77095928      295          1      72.9        553    no        0.0   \n",
       "3  U43509181      277          1      40.0        554    no        0.0   \n",
       "4  U23195941      259          1      21.0        555    no        0.0   \n",
       "\n",
       "  platform  category mobile_os  training  \n",
       "0      App         3   android         1  \n",
       "1  Browser         3   android         1  \n",
       "2  Browser         3   android         1  \n",
       "3  Browser         3   android         1  \n",
       "4      App         3   android         1  "
      ]
     },
     "execution_count": 4,
     "metadata": {},
     "output_type": "execute_result"
    }
   ],
   "source": [
    "tuango.head(5)"
   ]
  },
  {
   "cell_type": "markdown",
   "metadata": {},
   "source": [
    "### 1.1 Check null Value"
   ]
  },
  {
   "cell_type": "code",
   "execution_count": 5,
   "metadata": {},
   "outputs": [
    {
     "data": {
      "text/plain": [
       "userid             0\n",
       "recency            0\n",
       "frequency          0\n",
       "monetary           0\n",
       "rfm_iq_pre         0\n",
       "buyer         250902\n",
       "ordersize     250902\n",
       "platform           0\n",
       "category           0\n",
       "mobile_os          0\n",
       "training           0\n",
       "dtype: int64"
      ]
     },
     "execution_count": 5,
     "metadata": {},
     "output_type": "execute_result"
    }
   ],
   "source": [
    "tuango.isna().sum()"
   ]
  },
  {
   "cell_type": "markdown",
   "metadata": {},
   "source": [
    "Except `buyer` and `ordersize` column, all variables don't contain empty value."
   ]
  },
  {
   "cell_type": "markdown",
   "metadata": {},
   "source": [
    "### 1.2 Check training data and testing data"
   ]
  },
  {
   "cell_type": "code",
   "execution_count": 6,
   "metadata": {},
   "outputs": [
    {
     "data": {
      "text/html": [
       "<div>\n",
       "<style scoped>\n",
       "    .dataframe tbody tr th:only-of-type {\n",
       "        vertical-align: middle;\n",
       "    }\n",
       "\n",
       "    .dataframe tbody tr th {\n",
       "        vertical-align: top;\n",
       "    }\n",
       "\n",
       "    .dataframe thead th {\n",
       "        text-align: right;\n",
       "    }\n",
       "</style>\n",
       "<table border=\"1\" class=\"dataframe\">\n",
       "  <thead>\n",
       "    <tr style=\"text-align: right;\">\n",
       "      <th></th>\n",
       "      <th>n_obs</th>\n",
       "      <th>perc</th>\n",
       "    </tr>\n",
       "    <tr>\n",
       "      <th>training</th>\n",
       "      <th></th>\n",
       "      <th></th>\n",
       "    </tr>\n",
       "  </thead>\n",
       "  <tbody>\n",
       "    <tr>\n",
       "      <th>0</th>\n",
       "      <td>250902</td>\n",
       "      <td>90.0%</td>\n",
       "    </tr>\n",
       "    <tr>\n",
       "      <th>1</th>\n",
       "      <td>27878</td>\n",
       "      <td>10.0%</td>\n",
       "    </tr>\n",
       "  </tbody>\n",
       "</table>\n",
       "</div>"
      ],
      "text/plain": [
       "           n_obs   perc\n",
       "training               \n",
       "0         250902  90.0%\n",
       "1          27878  10.0%"
      ]
     },
     "execution_count": 6,
     "metadata": {},
     "output_type": "execute_result"
    }
   ],
   "source": [
    "overview = tuango.groupby('training')['userid'].agg(n_obs='count')\n",
    "overview['perc'] = (100 * overview / overview.sum()).round(2).astype(str) + \"%\"\n",
    "overview"
   ]
  },
  {
   "cell_type": "code",
   "execution_count": 7,
   "metadata": {},
   "outputs": [
    {
     "data": {
      "text/html": [
       "<div>\n",
       "<style scoped>\n",
       "    .dataframe tbody tr th:only-of-type {\n",
       "        vertical-align: middle;\n",
       "    }\n",
       "\n",
       "    .dataframe tbody tr th {\n",
       "        vertical-align: top;\n",
       "    }\n",
       "\n",
       "    .dataframe thead th {\n",
       "        text-align: right;\n",
       "    }\n",
       "</style>\n",
       "<table border=\"1\" class=\"dataframe\">\n",
       "  <thead>\n",
       "    <tr style=\"text-align: right;\">\n",
       "      <th></th>\n",
       "      <th>userid</th>\n",
       "      <th>recency</th>\n",
       "      <th>frequency</th>\n",
       "      <th>monetary</th>\n",
       "      <th>rfm_iq_pre</th>\n",
       "      <th>buyer</th>\n",
       "      <th>ordersize</th>\n",
       "      <th>platform</th>\n",
       "      <th>category</th>\n",
       "      <th>mobile_os</th>\n",
       "      <th>training</th>\n",
       "    </tr>\n",
       "  </thead>\n",
       "  <tbody>\n",
       "    <tr>\n",
       "      <th>27878</th>\n",
       "      <td>U19852740</td>\n",
       "      <td>33</td>\n",
       "      <td>1</td>\n",
       "      <td>22.50</td>\n",
       "      <td>455</td>\n",
       "      <td>NaN</td>\n",
       "      <td>NaN</td>\n",
       "      <td>App</td>\n",
       "      <td>17</td>\n",
       "      <td>android</td>\n",
       "      <td>0</td>\n",
       "    </tr>\n",
       "    <tr>\n",
       "      <th>27879</th>\n",
       "      <td>U27655800</td>\n",
       "      <td>12</td>\n",
       "      <td>2</td>\n",
       "      <td>109.00</td>\n",
       "      <td>242</td>\n",
       "      <td>NaN</td>\n",
       "      <td>NaN</td>\n",
       "      <td>App</td>\n",
       "      <td>11</td>\n",
       "      <td>android</td>\n",
       "      <td>0</td>\n",
       "    </tr>\n",
       "    <tr>\n",
       "      <th>27880</th>\n",
       "      <td>U35335304</td>\n",
       "      <td>27</td>\n",
       "      <td>7</td>\n",
       "      <td>34.82</td>\n",
       "      <td>314</td>\n",
       "      <td>NaN</td>\n",
       "      <td>NaN</td>\n",
       "      <td>App</td>\n",
       "      <td>9</td>\n",
       "      <td>android</td>\n",
       "      <td>0</td>\n",
       "    </tr>\n",
       "    <tr>\n",
       "      <th>27881</th>\n",
       "      <td>U78305281</td>\n",
       "      <td>9</td>\n",
       "      <td>1</td>\n",
       "      <td>49.90</td>\n",
       "      <td>153</td>\n",
       "      <td>NaN</td>\n",
       "      <td>NaN</td>\n",
       "      <td>App</td>\n",
       "      <td>9</td>\n",
       "      <td>android</td>\n",
       "      <td>0</td>\n",
       "    </tr>\n",
       "    <tr>\n",
       "      <th>27882</th>\n",
       "      <td>U52954892</td>\n",
       "      <td>83</td>\n",
       "      <td>1</td>\n",
       "      <td>6.80</td>\n",
       "      <td>555</td>\n",
       "      <td>NaN</td>\n",
       "      <td>NaN</td>\n",
       "      <td>App</td>\n",
       "      <td>9</td>\n",
       "      <td>android</td>\n",
       "      <td>0</td>\n",
       "    </tr>\n",
       "  </tbody>\n",
       "</table>\n",
       "</div>"
      ],
      "text/plain": [
       "          userid  recency  frequency  monetary rfm_iq_pre buyer  ordersize  \\\n",
       "27878  U19852740       33          1     22.50        455   NaN        NaN   \n",
       "27879  U27655800       12          2    109.00        242   NaN        NaN   \n",
       "27880  U35335304       27          7     34.82        314   NaN        NaN   \n",
       "27881  U78305281        9          1     49.90        153   NaN        NaN   \n",
       "27882  U52954892       83          1      6.80        555   NaN        NaN   \n",
       "\n",
       "      platform  category mobile_os  training  \n",
       "27878      App        17   android         0  \n",
       "27879      App        11   android         0  \n",
       "27880      App         9   android         0  \n",
       "27881      App         9   android         0  \n",
       "27882      App         9   android         0  "
      ]
     },
     "execution_count": 7,
     "metadata": {},
     "output_type": "execute_result"
    }
   ],
   "source": [
    "tuango[tuango['training']==0].head()"
   ]
  },
  {
   "cell_type": "code",
   "execution_count": 8,
   "metadata": {},
   "outputs": [
    {
     "data": {
      "text/plain": [
       "250902"
      ]
     },
     "execution_count": 8,
     "metadata": {},
     "output_type": "execute_result"
    }
   ],
   "source": [
    "tuango[tuango['training']==0]['buyer'].isna().sum()"
   ]
  },
  {
   "cell_type": "code",
   "execution_count": 9,
   "metadata": {},
   "outputs": [
    {
     "data": {
      "text/plain": [
       "250902"
      ]
     },
     "execution_count": 9,
     "metadata": {},
     "output_type": "execute_result"
    }
   ],
   "source": [
    "tuango[tuango['training']==0]['ordersize'].isna().sum()"
   ]
  },
  {
   "cell_type": "markdown",
   "metadata": {},
   "source": [
    "- Training column only contains 0 and 1: Pass\n",
    "- 10% of dataset is training data: Pass\n",
    "- all null value for `buyer` and `ordersize` column from the testing data: Pass"
   ]
  },
  {
   "cell_type": "code",
   "execution_count": 10,
   "metadata": {},
   "outputs": [],
   "source": [
    "## transform buyer column to numeric format for calculation convenience\n",
    "tuango['buyer_num']=rsm.ifelse(tuango.buyer=='yes',1,rsm.ifelse(tuango.buyer=='no',0,np.nan))"
   ]
  },
  {
   "cell_type": "markdown",
   "metadata": {},
   "source": [
    "## Part I:  Preliminary and Quintile Analysis\n",
    "\n",
    "### 1. What percentage of customers responded (i.e., bought anything) after the push message?"
   ]
  },
  {
   "cell_type": "code",
   "execution_count": 11,
   "metadata": {},
   "outputs": [],
   "source": [
    "q1 = tuango[tuango['training']==1].groupby('buyer')['buyer'].agg(n_obs='count')\n",
    "q1['perc'] = (100 *q1/q1.sum()).round(2).astype(str) + \"%\""
   ]
  },
  {
   "cell_type": "code",
   "execution_count": 12,
   "metadata": {},
   "outputs": [
    {
     "data": {
      "text/html": [
       "<div>\n",
       "<style scoped>\n",
       "    .dataframe tbody tr th:only-of-type {\n",
       "        vertical-align: middle;\n",
       "    }\n",
       "\n",
       "    .dataframe tbody tr th {\n",
       "        vertical-align: top;\n",
       "    }\n",
       "\n",
       "    .dataframe thead th {\n",
       "        text-align: right;\n",
       "    }\n",
       "</style>\n",
       "<table border=\"1\" class=\"dataframe\">\n",
       "  <thead>\n",
       "    <tr style=\"text-align: right;\">\n",
       "      <th></th>\n",
       "      <th>n_obs</th>\n",
       "      <th>perc</th>\n",
       "    </tr>\n",
       "    <tr>\n",
       "      <th>buyer</th>\n",
       "      <th></th>\n",
       "      <th></th>\n",
       "    </tr>\n",
       "  </thead>\n",
       "  <tbody>\n",
       "    <tr>\n",
       "      <th>yes</th>\n",
       "      <td>831</td>\n",
       "      <td>2.98%</td>\n",
       "    </tr>\n",
       "    <tr>\n",
       "      <th>no</th>\n",
       "      <td>27047</td>\n",
       "      <td>97.02%</td>\n",
       "    </tr>\n",
       "  </tbody>\n",
       "</table>\n",
       "</div>"
      ],
      "text/plain": [
       "       n_obs    perc\n",
       "buyer               \n",
       "yes      831   2.98%\n",
       "no     27047  97.02%"
      ]
     },
     "execution_count": 12,
     "metadata": {},
     "output_type": "execute_result"
    }
   ],
   "source": [
    "q1"
   ]
  },
  {
   "cell_type": "markdown",
   "metadata": {},
   "source": [
    "If T-company pushes message randomly, 2.98% of customers respond"
   ]
  },
  {
   "cell_type": "markdown",
   "metadata": {},
   "source": [
    "\n",
    "### 2. What was the average amount spent on the Karaoke deal by customers that bought one (or more)? "
   ]
  },
  {
   "cell_type": "code",
   "execution_count": 13,
   "metadata": {},
   "outputs": [
    {
     "data": {
      "text/html": [
       "<div>\n",
       "<style scoped>\n",
       "    .dataframe tbody tr th:only-of-type {\n",
       "        vertical-align: middle;\n",
       "    }\n",
       "\n",
       "    .dataframe tbody tr th {\n",
       "        vertical-align: top;\n",
       "    }\n",
       "\n",
       "    .dataframe thead th {\n",
       "        text-align: right;\n",
       "    }\n",
       "</style>\n",
       "<table border=\"1\" class=\"dataframe\">\n",
       "  <thead>\n",
       "    <tr style=\"text-align: right;\">\n",
       "      <th></th>\n",
       "      <th>count</th>\n",
       "      <th>mean</th>\n",
       "      <th>std</th>\n",
       "    </tr>\n",
       "    <tr>\n",
       "      <th>buyer</th>\n",
       "      <th></th>\n",
       "      <th></th>\n",
       "      <th></th>\n",
       "    </tr>\n",
       "  </thead>\n",
       "  <tbody>\n",
       "    <tr>\n",
       "      <th>yes</th>\n",
       "      <td>831</td>\n",
       "      <td>202.128761</td>\n",
       "      <td>40.48003</td>\n",
       "    </tr>\n",
       "    <tr>\n",
       "      <th>no</th>\n",
       "      <td>27047</td>\n",
       "      <td>0.000000</td>\n",
       "      <td>0.00000</td>\n",
       "    </tr>\n",
       "  </tbody>\n",
       "</table>\n",
       "</div>"
      ],
      "text/plain": [
       "       count        mean       std\n",
       "buyer                             \n",
       "yes      831  202.128761  40.48003\n",
       "no     27047    0.000000   0.00000"
      ]
     },
     "execution_count": 13,
     "metadata": {},
     "output_type": "execute_result"
    }
   ],
   "source": [
    "q2 = tuango.query('training == 1').groupby('buyer')['ordersize'].agg([\"count\", \"mean\", 'std'])\n",
    "\n",
    "q2"
   ]
  },
  {
   "cell_type": "markdown",
   "metadata": {},
   "source": [
    "The average amount spent on the Karaoke deal is 202RMB"
   ]
  },
  {
   "cell_type": "markdown",
   "metadata": {},
   "source": [
    "### 3.\tShow response rate for this deal per (independent) recency, frequency and monetary quintile"
   ]
  },
  {
   "cell_type": "code",
   "execution_count": 14,
   "metadata": {},
   "outputs": [],
   "source": [
    "tuango[\"rec_iq\"] = rsm.xtile(tuango[\"recency\"], 5)\n",
    "tuango[\"freq_iq\"] = rsm.xtile(tuango[\"frequency\"], 5, rev = True)\n",
    "tuango[\"mon_iq\"] = rsm.xtile(tuango[\"monetary\"], 5, rev = True) "
   ]
  },
  {
   "cell_type": "code",
   "execution_count": 15,
   "metadata": {},
   "outputs": [],
   "source": [
    "## create a separate dataframe for convience\n",
    "train = tuango.query('training==1')"
   ]
  },
  {
   "cell_type": "code",
   "execution_count": 16,
   "metadata": {},
   "outputs": [
    {
     "data": {
      "image/png": "[encoded data removed]",
      "text/plain": [
       "<Figure size 432x288 with 1 Axes>"
      ]
     },
     "metadata": {
      "needs_background": "light"
     },
     "output_type": "display_data"
    }
   ],
   "source": [
    "# insert code here\n",
    "# recency\n",
    "fig = rsm.prop_plot(train, \"rec_iq\", \"buyer\", \"yes\")\n",
    "fig = fig.set(xlabel=\"Recency quintiles (rec_iq)\", title='Recency')"
   ]
  },
  {
   "cell_type": "code",
   "execution_count": 17,
   "metadata": {},
   "outputs": [
    {
     "data": {
      "image/png": "[encoded data removed]",
      "text/plain": [
       "<Figure size 432x288 with 1 Axes>"
      ]
     },
     "metadata": {
      "needs_background": "light"
     },
     "output_type": "display_data"
    }
   ],
   "source": [
    "# frequency\n",
    "fig = rsm.prop_plot(train, \"freq_iq\", \"buyer\", \"yes\")\n",
    "fig = fig.set(xlabel=\"Frequency quintiles (freq_iq)\", title='Frequency')"
   ]
  },
  {
   "cell_type": "code",
   "execution_count": 18,
   "metadata": {},
   "outputs": [
    {
     "data": {
      "image/png": "[encoded data removed]",
      "text/plain": [
       "<Figure size 432x288 with 1 Axes>"
      ]
     },
     "metadata": {
      "needs_background": "light"
     },
     "output_type": "display_data"
    }
   ],
   "source": [
    "# monetary\n",
    "fig = rsm.prop_plot(train, \"mon_iq\", \"buyer\", \"yes\")\n",
    "fig = fig.set(xlabel=\"Monetary quintiles (mon_iq)\", title='Monetary')"
   ]
  },
  {
   "cell_type": "markdown",
   "metadata": {},
   "source": [
    "Group 1,which indicates the most active groups of users have a higher response rate as our expectation"
   ]
  },
  {
   "cell_type": "markdown",
   "metadata": {},
   "source": [
    "### 5.\tCould RFM predicts the ordersize?"
   ]
  },
  {
   "cell_type": "code",
   "execution_count": 19,
   "metadata": {},
   "outputs": [],
   "source": [
    "## create a separate dataframe for convience\n",
    "buy_yes = train.query(\"buyer=='yes'\")"
   ]
  },
  {
   "cell_type": "code",
   "execution_count": 20,
   "metadata": {},
   "outputs": [
    {
     "data": {
      "text/plain": [
       "[Text(0.5, 0, 'Recency quintiles (rec_iq)'),\n",
       " Text(0, 0.5, 'Average Amount Spend (RMB)'),\n",
       " Text(0.5, 1.0, 'Revenue by Recency')]"
      ]
     },
     "execution_count": 20,
     "metadata": {},
     "output_type": "execute_result"
    },
    {
     "data": {
      "image/png": "[encoded data removed]",
      "text/plain": [
       "<Figure size 432x288 with 1 Axes>"
      ]
     },
     "metadata": {
      "needs_background": "light"
     },
     "output_type": "display_data"
    }
   ],
   "source": [
    "# insert code here\n",
    "## Recency\n",
    "df = buy_yes.groupby('rec_iq')['ordersize'].mean().to_frame().reset_index()\n",
    "fig = sns.barplot(x='rec_iq',y='ordersize',data=df, color= \"slateblue\")\n",
    "fig.set(xlabel=\"Recency quintiles (rec_iq)\", ylabel=\"Average Amount Spend (RMB)\", title=\"Revenue by Recency\")"
   ]
  },
  {
   "cell_type": "code",
   "execution_count": 21,
   "metadata": {},
   "outputs": [
    {
     "data": {
      "text/plain": [
       "[Text(0.5, 0, 'Frequency quintiles (freq_iq)'),\n",
       " Text(0, 0.5, 'Average Amount Spend (RMB)'),\n",
       " Text(0.5, 1.0, 'Revenue by Frequency')]"
      ]
     },
     "execution_count": 21,
     "metadata": {},
     "output_type": "execute_result"
    },
    {
     "data": {
      "image/png": "[encoded data removed]",
      "text/plain": [
       "<Figure size 432x288 with 1 Axes>"
      ]
     },
     "metadata": {
      "needs_background": "light"
     },
     "output_type": "display_data"
    }
   ],
   "source": [
    "## Frequency\n",
    "df = buy_yes.groupby('freq_iq')['ordersize'].mean().to_frame().reset_index()\n",
    "fig = sns.barplot(x='freq_iq',y='ordersize',data=df, color= \"slateblue\")\n",
    "fig.set(xlabel=\"Frequency quintiles (freq_iq)\", ylabel=\"Average Amount Spend (RMB)\", title=\"Revenue by Frequency\")"
   ]
  },
  {
   "cell_type": "code",
   "execution_count": 22,
   "metadata": {},
   "outputs": [
    {
     "data": {
      "text/plain": [
       "[Text(0.5, 0, 'Monetary quintiles (mon_iq)'),\n",
       " Text(0, 0.5, 'Average Amount Spend (RMB)'),\n",
       " Text(0.5, 1.0, 'Revenue by Monetary')]"
      ]
     },
     "execution_count": 22,
     "metadata": {},
     "output_type": "execute_result"
    },
    {
     "data": {
      "image/png": "[encoded data removed]",
      "text/plain": [
       "<Figure size 432x288 with 1 Axes>"
      ]
     },
     "metadata": {
      "needs_background": "light"
     },
     "output_type": "display_data"
    }
   ],
   "source": [
    "## Monetary\n",
    "df = buy_yes.groupby('mon_iq')['ordersize'].mean().to_frame().reset_index()\n",
    "fig = sns.barplot(x='mon_iq',y='ordersize',data=df, color= \"slateblue\")\n",
    "fig.set(xlabel=\"Monetary quintiles (mon_iq)\", ylabel=\"Average Amount Spend (RMB)\", title=\"Revenue by Monetary\")"
   ]
  },
  {
   "cell_type": "markdown",
   "metadata": {},
   "source": [
    "The answer is no, we could clearly see that the ordersize doesn't change accordingly with the group number"
   ]
  },
  {
   "cell_type": "markdown",
   "metadata": {},
   "source": [
    "## Part II: Profitability Analysis "
   ]
  },
  {
   "cell_type": "markdown",
   "metadata": {},
   "source": [
    "### 6.  The break-even response rate"
   ]
  },
  {
   "cell_type": "code",
   "execution_count": 23,
   "metadata": {},
   "outputs": [
    {
     "data": {
      "text/plain": [
       "0.02473670736862159"
      ]
     },
     "execution_count": 23,
     "metadata": {},
     "output_type": "execute_result"
    }
   ],
   "source": [
    "cost = 2.5 \n",
    "revenue = tuango[tuango['buyer']=='yes']['ordersize'].agg(np.nanmean)\n",
    "margin =  revenue * 0.5 \n",
    "breakeven =  cost/margin\n",
    "breakeven"
   ]
  },
  {
   "cell_type": "markdown",
   "metadata": {},
   "source": [
    "The breakeven is 2.47%. The methodology behind the calculation is that we expect `response_rate * profit per person > cost`, so the response rate should be greater than cost/profit"
   ]
  },
  {
   "cell_type": "markdown",
   "metadata": {},
   "source": [
    "### 7. What is the projected profit in RMB and the return on marketing expenditures if you offer the deal to all 250,902 remaining customers? (No Targeting)"
   ]
  },
  {
   "cell_type": "code",
   "execution_count": 24,
   "metadata": {},
   "outputs": [
    {
     "name": "stdout",
     "output_type": "stream",
     "text": [
      "nr_sms_nt:250902\n",
      "sms_cost_nt:627255.0\n",
      "nr_responses_nt:7479.0\n",
      "response_rate_nt:0.02980845110840089\n",
      "revenue_nt:1511721.0\n",
      "profit_nt:128605.5\n",
      "ROME_nt:0.20502905516895042\n"
     ]
    }
   ],
   "source": [
    "# _nt stands for 'no targeting'\n",
    "\n",
    "cost = 2.5\n",
    "revenue = tuango[tuango['buyer']=='yes']['ordersize'].agg(np.nanmean)\n",
    "\n",
    "nr_sms_nt = len(tuango.query('training==0')) # total number of SMSs that would be sent out\n",
    "sms_cost_nt =  cost * nr_sms_nt # Total cost of sending sms messages to selected customers (float)\n",
    "response_rate_nt = tuango['buyer_num'].agg(np.nanmean) # expressed as a proportion (no rounding)\n",
    "nr_responses_nt =  response_rate_nt * nr_sms_nt # total number of positive responses\n",
    "\n",
    "revenue_nt = nr_responses_nt * revenue  # total revenue in RMB (no rounding)\n",
    "profit_nt = revenue_nt * 0.5 - sms_cost_nt  # total profit in RMB (no rounding)\n",
    "ROME_nt = profit_nt/ sms_cost_nt# Return on Marketing Expenditures expressed as a proportion (no rounding)\n",
    "\n",
    "\n",
    "print( f'nr_sms_nt:{nr_sms_nt}' )\n",
    "print( f'sms_cost_nt:{sms_cost_nt}' )\n",
    "print( f'nr_responses_nt:{nr_responses_nt}' )\n",
    "print( f'response_rate_nt:{response_rate_nt}' )\n",
    "print( f'revenue_nt:{revenue_nt}' )\n",
    "print( f'profit_nt:{profit_nt}' )\n",
    "print( f'ROME_nt:{ROME_nt}' )"
   ]
  },
  {
   "cell_type": "markdown",
   "metadata": {},
   "source": [
    "### 8. Evaluate the performance implications of offering the deal to only those customers (out of 250,902) in RFM cells with a response rate greater than the breakeven response rate"
   ]
  },
  {
   "cell_type": "markdown",
   "metadata": {},
   "source": [
    "For RFM, we have independent quintile and sequential quintile, we will calculate the projected profit and ROME for both of them"
   ]
  },
  {
   "cell_type": "code",
   "execution_count": 25,
   "metadata": {},
   "outputs": [],
   "source": [
    "# add `rfm_iq` to the tuango dataset\n",
    "tuango['rfm_iq'] = tuango['rec_iq'].astype('str') + tuango['freq_iq'].astype('str') + tuango['mon_iq'].astype('str')"
   ]
  },
  {
   "cell_type": "code",
   "execution_count": 26,
   "metadata": {},
   "outputs": [
    {
     "name": "stdout",
     "output_type": "stream",
     "text": [
      "False\n",
      "278780\n"
     ]
    }
   ],
   "source": [
    "# Validaton \n",
    "print((tuango.rfm_iq_pre != tuango.rfm_iq).any()) # False : Pass\n",
    "print((tuango.rfm_iq_pre == tuango.rfm_iq).sum()) # 278780 : Pass"
   ]
  },
  {
   "cell_type": "code",
   "execution_count": 27,
   "metadata": {},
   "outputs": [],
   "source": [
    "# determine which customers to sms based on independent quintiles RFM\n",
    "tuango['rfm_iq_resp'] = tuango.groupby(\"rfm_iq\")['buyer_num'].transform(np.nanmean)\n",
    "tuango[\"smsto_iq\"] = tuango['rfm_iq_resp'] > breakeven\n",
    "# tuango"
   ]
  },
  {
   "cell_type": "code",
   "execution_count": 28,
   "metadata": {},
   "outputs": [],
   "source": [
    "# insert calculation code to add columns `freq_sq`, and `mon_sq`\n",
    "# to the `tuango` DataFrame\n",
    "# Note that pandas `assign` method doesn't allow you to use variables created in the same call to assign\n",
    "\n",
    "tuango['rec_sq'] = tuango['rec_iq']\n",
    "tuango[\"freq_sq\"] =tuango.groupby('rec_sq')['frequency'].transform(rsm.xtile,5,rev=True)\n",
    "tuango[\"mon_sq\"] =tuango.groupby(['rec_sq','freq_sq'])['monetary'].transform(rsm.xtile,5,rev=True)"
   ]
  },
  {
   "cell_type": "code",
   "execution_count": 29,
   "metadata": {},
   "outputs": [],
   "source": [
    "# add `rfm_sq` to the tuango dataset\n",
    "tuango[\"rfm_sq\"] = tuango['rec_sq'].astype('str') + tuango['freq_sq'].astype('str') + tuango['mon_sq'].astype('str')"
   ]
  },
  {
   "cell_type": "code",
   "execution_count": 30,
   "metadata": {},
   "outputs": [],
   "source": [
    "# determine which customers to sms based on sequential quintiles RFM\n",
    "tuango['rfm_sq_resp'] = tuango.groupby(\"rfm_sq\")['buyer_num'].transform(np.nanmean)\n",
    "tuango[\"smsto_sq\"] = tuango['rfm_sq_resp'] > breakeven\n",
    "# tuango"
   ]
  },
  {
   "cell_type": "code",
   "execution_count": 31,
   "metadata": {},
   "outputs": [
    {
     "data": {
      "text/html": [
       "<div>\n",
       "<style scoped>\n",
       "    .dataframe tbody tr th:only-of-type {\n",
       "        vertical-align: middle;\n",
       "    }\n",
       "\n",
       "    .dataframe tbody tr th {\n",
       "        vertical-align: top;\n",
       "    }\n",
       "\n",
       "    .dataframe thead th {\n",
       "        text-align: right;\n",
       "    }\n",
       "</style>\n",
       "<table border=\"1\" class=\"dataframe\">\n",
       "  <thead>\n",
       "    <tr style=\"text-align: right;\">\n",
       "      <th></th>\n",
       "      <th>smsto_iq</th>\n",
       "      <th>smsto_sq</th>\n",
       "    </tr>\n",
       "    <tr>\n",
       "      <th>training</th>\n",
       "      <th></th>\n",
       "      <th></th>\n",
       "    </tr>\n",
       "  </thead>\n",
       "  <tbody>\n",
       "    <tr>\n",
       "      <th>0</th>\n",
       "      <td>0.445018</td>\n",
       "      <td>0.403827</td>\n",
       "    </tr>\n",
       "    <tr>\n",
       "      <th>1</th>\n",
       "      <td>0.445441</td>\n",
       "      <td>0.405338</td>\n",
       "    </tr>\n",
       "  </tbody>\n",
       "</table>\n",
       "</div>"
      ],
      "text/plain": [
       "          smsto_iq  smsto_sq\n",
       "training                    \n",
       "0         0.445018  0.403827\n",
       "1         0.445441  0.405338"
      ]
     },
     "execution_count": 31,
     "metadata": {},
     "output_type": "execute_result"
    }
   ],
   "source": [
    "tuango.groupby('training')[['smsto_iq','smsto_sq']].agg(np.nanmean)"
   ]
  },
  {
   "cell_type": "code",
   "execution_count": 32,
   "metadata": {},
   "outputs": [],
   "source": [
    "def perf_calc(dat=tuango, smsto=None, intro=\"\", perf=\"buyer\", lev=\"yes\"):\n",
    "    \"\"\"\n",
    "    Calculate projected performance implications from using different \n",
    "    targeting strategies\n",
    "\n",
    "    Parameters\n",
    "    ----------\n",
    "    dat : Pandas DataFrame\n",
    "        Pass the tuango dataset as the default value\n",
    "    smsto : str\n",
    "        A string with the name of the 'smsto' variable to use for calculations\n",
    "    intro : str\n",
    "        A string that provides an introduction to the printed output\n",
    "    perf: str\n",
    "        A string with the name of the performance variable to use ('buyer')\n",
    "    lev: str\n",
    "        A string with the name of the level in the perf variable that signifies success ('yes')\n",
    "\n",
    "    Returns\n",
    "    -------\n",
    "    nr_sms : Total number of SMSs that would be sent out\n",
    "    sms_cost : Total cost of sending sms messages to selected customers (float)\n",
    "    nr_responses : Total number of positive responses\n",
    "    response_rate : Expressed as a proportion (no rounding)\n",
    "    revenue : Total revenue in RMB (no rounding)\n",
    "    ROME : Return on Marketing Expenditures expressed as a proportion (no rounding)\n",
    "    profit : Total profit in RMB (no rounding)\n",
    "    \"\"\"\n",
    "    dat_train = dat.query(\"training == 1\")\n",
    "    dat_test = dat.query(\"training == 0\")\n",
    "    revenue_ep = dat_train[dat_train[perf]==lev]['ordersize'].agg(np.nanmean)  \n",
    "\n",
    "    \n",
    "    ## no targeting\n",
    "    if smsto == None:\n",
    "        nr_sms = len(dat_test)\n",
    "        sms_cost = nr_sms * 2.5\n",
    "        response_rate = (dat_train[perf]==lev).sum()/len(dat_train)\n",
    "\n",
    "\n",
    "        \n",
    "    else:\n",
    "        nr_sms = (dat_test[smsto]).sum()\n",
    "        sms_cost = nr_sms * 2.5\n",
    "        response_rate = ((dat_train[perf]==lev) & (dat_train[smsto])).sum()/(dat_train[smsto]).sum()\n",
    "\n",
    "    \n",
    "    nr_responses = nr_sms * response_rate \n",
    "    revenue = nr_responses * revenue_ep\n",
    "    profit = revenue * 0.5 - sms_cost\n",
    "    ROME = profit/sms_cost\n",
    "    \n",
    "    print(intro)\n",
    "    print( f'Total number of SMSs that would be sent out:{nr_sms:,.0f}' )\n",
    "    print( f'Total cost of sending sms messages to selected customers:{sms_cost:,.0f}' )\n",
    "    print( f'Total number of positive responses:{nr_responses:,.0f}' )\n",
    "    print( f'Total percentage of positive responses:{100 * response_rate:.2f}%' )\n",
    "    print( f'Total revenue in RMB :{revenue:,.0f}' )\n",
    "    print( f'Total profit in RMB:{profit:,.0f}' )\n",
    "    print( f'ROME:{100 * ROME:.2f}%' )\n",
    "\n",
    "    return nr_sms, sms_cost, nr_responses, response_rate, revenue, ROME, profit"
   ]
  },
  {
   "cell_type": "code",
   "execution_count": 33,
   "metadata": {},
   "outputs": [
    {
     "name": "stdout",
     "output_type": "stream",
     "text": [
      "If Tuango does not apply targeting\n",
      "Total number of SMSs that would be sent out:250,902\n",
      "Total cost of sending sms messages to selected customers:627,255\n",
      "Total number of positive responses:7,479\n",
      "Total percentage of positive responses:2.98%\n",
      "Total revenue in RMB :1,511,721\n",
      "Total profit in RMB:128,606\n",
      "ROME:20.50%\n"
     ]
    }
   ],
   "source": [
    "# calculate performance for no targeting\n",
    "# _nt stands for 'no targeting'\n",
    "nr_sms_nt, sms_cost_nt, nr_responses_nt, response_rate_nt, revenue_nt, ROME_nt, profit_nt = perf_calc(intro=\"If Tuango does not apply targeting\")"
   ]
  },
  {
   "cell_type": "code",
   "execution_count": 34,
   "metadata": {},
   "outputs": [
    {
     "name": "stdout",
     "output_type": "stream",
     "text": [
      "If Tuango apply independent RFM\n",
      "Total number of SMSs that would be sent out:111,656\n",
      "Total cost of sending sms messages to selected customers:279,140\n",
      "Total number of positive responses:6,042\n",
      "Total percentage of positive responses:5.41%\n",
      "Total revenue in RMB :1,221,315\n",
      "Total profit in RMB:331,518\n",
      "ROME:118.76%\n"
     ]
    }
   ],
   "source": [
    "# calculate performance for independent RFM\n",
    "# _iq stands for 'independent quintiles'\n",
    "\n",
    "nr_sms_iq, sms_cost_iq, nr_responses_iq, response_rate_iq, revenue_iq, ROME_iq, profit_iq = perf_calc(smsto = 'smsto_iq', intro=\"If Tuango apply independent RFM\")"
   ]
  },
  {
   "cell_type": "code",
   "execution_count": 35,
   "metadata": {},
   "outputs": [
    {
     "name": "stdout",
     "output_type": "stream",
     "text": [
      "If Tuango apply sequential RFM\n",
      "Total number of SMSs that would be sent out:101,321\n",
      "Total cost of sending sms messages to selected customers:253,302\n",
      "Total number of positive responses:5,837\n",
      "Total percentage of positive responses:5.76%\n",
      "Total revenue in RMB :1,179,859\n",
      "Total profit in RMB:336,627\n",
      "ROME:132.90%\n"
     ]
    }
   ],
   "source": [
    "# calculate performance for sequential RFM\n",
    "# _sq stands for 'sequential quintiles'\n",
    "\n",
    "nr_sms_sq, sms_cost_sq, nr_responses_sq, response_rate_sq, revenue_sq, ROME_sq, profit_sq = perf_calc(smsto = 'smsto_sq', intro=\"If Tuango apply sequential RFM\")"
   ]
  },
  {
   "cell_type": "markdown",
   "metadata": {},
   "source": [
    "### 9.Compare Independent and Sequential RFM method"
   ]
  },
  {
   "cell_type": "code",
   "execution_count": 36,
   "metadata": {},
   "outputs": [
    {
     "data": {
      "text/html": [
       "<div>\n",
       "<style scoped>\n",
       "    .dataframe tbody tr th:only-of-type {\n",
       "        vertical-align: middle;\n",
       "    }\n",
       "\n",
       "    .dataframe tbody tr th {\n",
       "        vertical-align: top;\n",
       "    }\n",
       "\n",
       "    .dataframe thead th {\n",
       "        text-align: right;\n",
       "    }\n",
       "</style>\n",
       "<table border=\"1\" class=\"dataframe\">\n",
       "  <thead>\n",
       "    <tr style=\"text-align: right;\">\n",
       "      <th></th>\n",
       "      <th>count</th>\n",
       "      <th>sum</th>\n",
       "      <th>perc</th>\n",
       "    </tr>\n",
       "  </thead>\n",
       "  <tbody>\n",
       "    <tr>\n",
       "      <th>0</th>\n",
       "      <td>278780</td>\n",
       "      <td>175927</td>\n",
       "      <td>0.63106</td>\n",
       "    </tr>\n",
       "  </tbody>\n",
       "</table>\n",
       "</div>"
      ],
      "text/plain": [
       "    count     sum     perc\n",
       "0  278780  175927  0.63106"
      ]
     },
     "execution_count": 36,
     "metadata": {},
     "output_type": "execute_result"
    }
   ],
   "source": [
    "# insert any calculation or plotting code here\n",
    "\n",
    "## overlap\n",
    "compare_overall = (tuango['rfm_iq']==tuango['rfm_sq']).agg(['count','sum']).to_frame().transpose()\n",
    "compare_overall['perc'] = compare_overall['sum']/compare_overall['count']\n",
    "compare_overall"
   ]
  },
  {
   "cell_type": "markdown",
   "metadata": {},
   "source": [
    "1. Two approaches don't yield same RFM index for any given customers. There are about 63% overlap index between two methods, the rest 37% are different.\n",
    "2. For independent method, same index is comparable in terms of each feature. For example, for customers with index 123 and 321, their frequency index means the same. However, as for the sequential method, only the recency score is comparable.\n",
    "3. From a targeting perspective, sequential often perform (slightly) better on ROME (132.9% > 118.76%)"
   ]
  },
  {
   "cell_type": "markdown",
   "metadata": {},
   "source": [
    "### 10.\t One step further: Use different breakeven for different RFM groups (Sequential as an example)\n"
   ]
  },
  {
   "cell_type": "code",
   "execution_count": 37,
   "metadata": {},
   "outputs": [
    {
     "name": "stderr",
     "output_type": "stream",
     "text": [
      "/var/folders/t0/j235c8cd1kd0zm54j879h0t80000gn/T/ipykernel_6733/1690881786.py:4: RuntimeWarning: invalid value encountered in double_scalars\n",
      "  .apply(lambda x: x.ordersize/x.buyer_num,axis=1)\n"
     ]
    }
   ],
   "source": [
    "# calculate the average ordersize per sq code\n",
    "tuango[\"avg_ordersize_sq\"] = (tuango.groupby('rfm_sq')[['ordersize','buyer_num']]\n",
    "                              .transform(np.nansum)\n",
    "                              .apply(lambda x: x.ordersize/x.buyer_num,axis=1)\n",
    "                              .fillna(0))\n",
    "\n",
    "# calculate a breakeven value per sq code\n",
    "tuango[\"breakeven_pc\"] = (2.5/ (tuango[\"avg_ordersize_sq\"] * 0.5)).replace(np.inf,breakeven)\n",
    "\n",
    "# calculate the smsto variable based on breakeven value per sq code\n",
    "# _pcsq stands for 'per cell sequential quintiles'\n",
    "\n",
    "tuango[\"smsto_pcsq\"] = tuango['rfm_sq_resp']>tuango['breakeven_pc']"
   ]
  },
  {
   "cell_type": "code",
   "execution_count": 38,
   "metadata": {},
   "outputs": [
    {
     "name": "stdout",
     "output_type": "stream",
     "text": [
      "Based on sequential RFM with breakeven per cell\n",
      "Total number of SMSs that would be sent out:110,617\n",
      "Total cost of sending sms messages to selected customers:276,542\n",
      "Total number of positive responses:6,053\n",
      "Total percentage of positive responses:5.47%\n",
      "Total revenue in RMB :1,223,431\n",
      "Total profit in RMB:335,173\n",
      "ROME:121.20%\n"
     ]
    }
   ],
   "source": [
    "# calculate performance for break-even-per-cell sequential RFM\n",
    "# note that your perf_calc function should return values for each of the variables\n",
    "# listed below\n",
    "# all variables should be numeric (integer or float) and of length 1\n",
    "# _pcsq stands for 'per cell sequential quintiles'\n",
    "\n",
    "nr_sms_pcsq, sms_cost_pcsq, nr_responses_pcsq, response_rate_pcsq, revenue_pcsq, ROME_pcsq, profit_pcsq = perf_calc(\n",
    "    dat=tuango,smsto=\"smsto_pcsq\", intro=\"Based on sequential RFM with breakeven per cell\"\n",
    ")"
   ]
  },
  {
   "cell_type": "markdown",
   "metadata": {},
   "source": [
    "### 11.\tOne step further: One-side 95% confidence interval of the response rate for each RFM cell."
   ]
  },
  {
   "cell_type": "markdown",
   "metadata": {},
   "source": [
    "This could help us to limit risks in the long run, assuming each RFM cell use the same breakeven"
   ]
  },
  {
   "cell_type": "code",
   "execution_count": 39,
   "metadata": {},
   "outputs": [],
   "source": [
    "# calculate the performance for lower bound with sequential quintiles\n",
    "# note that your perf_calc function should return values for each of the variables\n",
    "# listed below\n",
    "# all variables should be numeric (integer or float) and of length 1\n",
    "# _lbsq stands for 'lower bound with sequential quintiles'\n",
    "\n",
    "def prop_lb(x):\n",
    "    prop = np.nanmean(x) - 1.64 *rsm.seprop(x)\n",
    "    return rsm.ifelse(prop<0,0,prop)\n",
    "\n",
    "tuango['smsto_lbsq'] = tuango.groupby('rfm_sq').buyer_num.transform(prop_lb) > breakeven"
   ]
  },
  {
   "cell_type": "code",
   "execution_count": 40,
   "metadata": {},
   "outputs": [
    {
     "name": "stdout",
     "output_type": "stream",
     "text": [
      "Based on sequential RFM adjusted for response rate prediction accuracy\n",
      "Total number of SMSs that would be sent out:54,974\n",
      "Total cost of sending sms messages to selected customers:137,435\n",
      "Total number of positive responses:4,083\n",
      "Total percentage of positive responses:7.43%\n",
      "Total revenue in RMB :825,378\n",
      "Total profit in RMB:275,254\n",
      "ROME:200.28%\n"
     ]
    }
   ],
   "source": [
    "nr_sms_lbsq, sms_cost_lbsq, nr_responses_lbsq, response_rate_lbsq, revenue_lbsq, ROME_lbsq, profit_lbsq = perf_calc(\n",
    "    dat=tuango,\n",
    "    smsto=\"smsto_lbsq\",\n",
    "    intro=\"Based on sequential RFM adjusted for response rate prediction accuracy\"\n",
    ")"
   ]
  },
  {
   "cell_type": "code",
   "execution_count": 41,
   "metadata": {},
   "outputs": [],
   "source": [
    "# insert calculation code here - you do not need to do this 'per cell'\n",
    "# _lbiq stands for 'lower bound independent quintiles'\n",
    "\n",
    "def prop_lb(x):\n",
    "    prop = np.nanmean(x) - 1.64 *rsm.seprop(x)\n",
    "    return rsm.ifelse(prop<0,0,prop)\n",
    "\n",
    "tuango['smsto_lbiq'] = tuango.groupby('rfm_iq').buyer_num.transform(prop_lb) > breakeven"
   ]
  },
  {
   "cell_type": "code",
   "execution_count": 42,
   "metadata": {},
   "outputs": [
    {
     "name": "stdout",
     "output_type": "stream",
     "text": [
      "Based on independent RFM adjusted for response rate prediction accuracy\n",
      "Total number of SMSs that would be sent out:54,445\n",
      "Total cost of sending sms messages to selected customers:136,112\n",
      "Total number of positive responses:4,116\n",
      "Total percentage of positive responses:7.56%\n",
      "Total revenue in RMB :831,998\n",
      "Total profit in RMB:279,887\n",
      "ROME:205.63%\n"
     ]
    }
   ],
   "source": [
    "# calculate the performance for lower bound with independent quintiles\n",
    "# note that your perf_calc function should return values for each of the variables\n",
    "# listed below\n",
    "# all variables should be numeric (integer or float) and of length 1\n",
    "# _lbiq stands for 'lower bound with independent quintiles'\n",
    "\n",
    "nr_sms_lbiq, sms_cost_lbiq, nr_responses_lbiq, response_rate_lbiq, revenue_lbiq, ROME_lbiq, profit_lbiq = perf_calc(\n",
    "    dat=tuango,\n",
    "    smsto=\"smsto_lbiq\",\n",
    "    intro=\"Based on independent RFM adjusted for response rate prediction accuracy\",\n",
    ")"
   ]
  },
  {
   "cell_type": "markdown",
   "metadata": {},
   "source": [
    "### 12.\tCompare the results"
   ]
  },
  {
   "cell_type": "code",
   "execution_count": 43,
   "metadata": {},
   "outputs": [],
   "source": [
    "plot_data_pre = pd.DataFrame(\n",
    "    {\n",
    "        \"name\": [\n",
    "            \"No targeting\",\n",
    "            \"Indep. RFM\",\n",
    "            \"Seq. RFM\",\n",
    "            \"Seq. PC RFM\",\n",
    "            \"Seq. LB RFM\",\n",
    "            \"Indep. LB RFM\",\n",
    "        ],\n",
    "        \"Profit\": [\n",
    "            profit_nt,\n",
    "            profit_iq,\n",
    "            profit_sq,\n",
    "            profit_pcsq,\n",
    "            profit_lbsq,\n",
    "            profit_lbiq,\n",
    "        ],\n",
    "        \"ROME\": [ROME_nt, ROME_iq, ROME_sq, ROME_pcsq, ROME_lbsq, ROME_lbiq],\n",
    "    }\n",
    ")"
   ]
  },
  {
   "cell_type": "code",
   "execution_count": 44,
   "metadata": {},
   "outputs": [],
   "source": [
    "sns.set(rc={'figure.figsize':(8,6)})"
   ]
  },
  {
   "cell_type": "code",
   "execution_count": 45,
   "metadata": {},
   "outputs": [
    {
     "data": {
      "text/plain": [
       "[Text(0, 0, '128606'),\n",
       " Text(0, 0, '331518'),\n",
       " Text(0, 0, '336627'),\n",
       " Text(0, 0, '335173'),\n",
       " Text(0, 0, '275254'),\n",
       " Text(0, 0, '279887')]"
      ]
     },
     "execution_count": 45,
     "metadata": {},
     "output_type": "execute_result"
    },
    {
     "data": {
      "image/png": "[encoded data removed]",
      "text/plain": [
       "<Figure size 576x432 with 1 Axes>"
      ]
     },
     "metadata": {},
     "output_type": "display_data"
    }
   ],
   "source": [
    "# insert code for the profit plot based on the 'plot_data' DataFrame\n",
    "\n",
    "fig = sns.barplot(data = plot_data_pre,x='name',y='Profit',color=\"slateblue\")\n",
    "fig.set(xlabel=\"\", ylabel=\"Profit\", title=\"Campaign profit\")\n",
    "fig.bar_label(fig.containers[0])"
   ]
  },
  {
   "cell_type": "code",
   "execution_count": 46,
   "metadata": {},
   "outputs": [
    {
     "data": {
      "text/plain": [
       "[Text(0, 0, '0.205029'),\n",
       " Text(0, 0, '1.18764'),\n",
       " Text(0, 0, '1.32895'),\n",
       " Text(0, 0, '1.21201'),\n",
       " Text(0, 0, '2.00279'),\n",
       " Text(0, 0, '2.05629')]"
      ]
     },
     "execution_count": 46,
     "metadata": {},
     "output_type": "execute_result"
    },
    {
     "data": {
      "image/png": "[encoded data removed]",
      "text/plain": [
       "<Figure size 576x432 with 1 Axes>"
      ]
     },
     "metadata": {},
     "output_type": "display_data"
    }
   ],
   "source": [
    "# insert code for the ROME plot based on the 'plot_data' DataFrame\n",
    "fig = sns.barplot(data = plot_data_pre,x='name',y='ROME',color=\"slateblue\")\n",
    "fig.set(xlabel=\"\", ylabel=\"ROME\", title=\"Campaign ROME\")\n",
    "fig.bar_label(fig.containers[0])"
   ]
  },
  {
   "cell_type": "markdown",
   "metadata": {},
   "source": [
    "- Based on our analysis, sequential RFM could generate the most profit followed by sequential RFM (using different breakeven) and independent RFM\n",
    "- method considering confidence interval have a higher ROME and is useful when the company doesn't want to take risk."
   ]
  },
  {
   "cell_type": "markdown",
   "metadata": {},
   "source": [
    "## Part III: Post Experiment Validation\n",
    "\n",
    "T company actually has all the response from customers, we could validate the actual performance for each method"
   ]
  },
  {
   "cell_type": "code",
   "execution_count": 47,
   "metadata": {},
   "outputs": [],
   "source": [
    "post = pd.read_pickle(\"data/tuango_post.pkl\")"
   ]
  },
  {
   "cell_type": "code",
   "execution_count": 48,
   "metadata": {},
   "outputs": [],
   "source": [
    "tuango_post = tuango.copy()"
   ]
  },
  {
   "cell_type": "code",
   "execution_count": 49,
   "metadata": {},
   "outputs": [],
   "source": [
    "tuango_post['buyer']=post['buyer']\n",
    "tuango_post['ordersize']=post['ordersize']"
   ]
  },
  {
   "cell_type": "code",
   "execution_count": 50,
   "metadata": {},
   "outputs": [],
   "source": [
    "def perf_calc_actual(dat=tuango_post, smsto=None, intro=\"\", perf=\"buyer\", lev=\"yes\"):\n",
    "    dat = dat[dat['training']==0]\n",
    "    if smsto:\n",
    "        perc_sms = np.mean(dat[smsto])\n",
    "        dat=dat[dat[smsto]]\n",
    "    else:\n",
    "        perc_sms=1\n",
    "    \n",
    "    nr_sms = dat.shape[0]\n",
    "    response_rate = np.mean(dat[perf]==lev)\n",
    "    nr_responses = nr_sms * response_rate\n",
    "    revenue = dat['ordersize'].sum()\n",
    "    sms_cost = 2.5*nr_sms\n",
    "    profit = revenue * 0.5 - sms_cost\n",
    "    ROME = profit/sms_cost\n",
    "    \n",
    "    print(intro)\n",
    "    print( f'The number of customers Tcompany should SMS is:{nr_sms:,.0f}' )\n",
    "    print( f'Total cost of sending sms messages to selected customers:{sms_cost:,.0f}' )\n",
    "    print( f'Total number of positive responses:{nr_responses:,.0f}' )\n",
    "    print( f'Total percentage of positive responses:{100 * response_rate:.2f}%' )\n",
    "    print( f'Total revenue in RMB :{revenue:,.2f}' )\n",
    "    print( f'Total profit in RMB:{profit:,.0f}' )\n",
    "    print( f'ROME:{100 * ROME:.2f}%' )\n",
    "\n",
    "    return nr_sms, sms_cost, nr_responses, response_rate, revenue, ROME, profit\n",
    "    "
   ]
  },
  {
   "cell_type": "code",
   "execution_count": 51,
   "metadata": {},
   "outputs": [
    {
     "name": "stdout",
     "output_type": "stream",
     "text": [
      "If Tuango does not apply targeting\n",
      "The number of customers Tcompany should SMS is:250,902\n",
      "Total cost of sending sms messages to selected customers:627,255\n",
      "Total number of positive responses:7,425\n",
      "Total percentage of positive responses:2.96%\n",
      "Total revenue in RMB :1,503,495.00\n",
      "Total profit in RMB:124,492\n",
      "ROME:19.85%\n"
     ]
    }
   ],
   "source": [
    "nr_sms_nt, sms_cost_nt, nr_responses_nt, response_rate_nt, revenue_nt, ROME_nt, profit_nt = perf_calc_actual(intro=\"If Tuango does not apply targeting\")"
   ]
  },
  {
   "cell_type": "code",
   "execution_count": 52,
   "metadata": {},
   "outputs": [
    {
     "name": "stdout",
     "output_type": "stream",
     "text": [
      "If Tuango apply independent RFM\n",
      "The number of customers Tcompany should SMS is:111,656\n",
      "Total cost of sending sms messages to selected customers:279,140\n",
      "Total number of positive responses:6,018\n",
      "Total percentage of positive responses:5.39%\n",
      "Total revenue in RMB :1,219,552.00\n",
      "Total profit in RMB:330,636\n",
      "ROME:118.45%\n"
     ]
    }
   ],
   "source": [
    "nr_sms_iq, sms_cost_iq, nr_responses_iq, response_rate_iq, revenue_iq, ROME_iq, profit_iq = perf_calc_actual(smsto = 'smsto_iq', intro=\"If Tuango apply independent RFM\")"
   ]
  },
  {
   "cell_type": "code",
   "execution_count": 53,
   "metadata": {},
   "outputs": [
    {
     "name": "stdout",
     "output_type": "stream",
     "text": [
      "If Tuango apply sequential RFM\n",
      "The number of customers Tcompany should SMS is:101,321\n",
      "Total cost of sending sms messages to selected customers:253,302\n",
      "Total number of positive responses:5,821\n",
      "Total percentage of positive responses:5.75%\n",
      "Total revenue in RMB :1,189,499.00\n",
      "Total profit in RMB:341,447\n",
      "ROME:134.80%\n"
     ]
    }
   ],
   "source": [
    "nr_sms_sq, sms_cost_sq, nr_responses_sq, response_rate_sq, revenue_sq, ROME_sq, profit_sq = perf_calc_actual( smsto = 'smsto_sq', intro=\"If Tuango apply sequential RFM\")"
   ]
  },
  {
   "cell_type": "code",
   "execution_count": 54,
   "metadata": {},
   "outputs": [
    {
     "name": "stdout",
     "output_type": "stream",
     "text": [
      "Based on sequential RFM with breakeven per cell\n",
      "The number of customers Tcompany should SMS is:110,617\n",
      "Total cost of sending sms messages to selected customers:276,542\n",
      "Total number of positive responses:6,022\n",
      "Total percentage of positive responses:5.44%\n",
      "Total revenue in RMB :1,234,808.00\n",
      "Total profit in RMB:340,862\n",
      "ROME:123.26%\n"
     ]
    }
   ],
   "source": [
    "nr_sms_pcsq, sms_cost_pcsq, nr_responses_pcsq, response_rate_pcsq, revenue_pcsq, ROME_pcsq, profit_pcsq = perf_calc_actual(\n",
    "    smsto=\"smsto_pcsq\", intro=\"Based on sequential RFM with breakeven per cell\"\n",
    ")"
   ]
  },
  {
   "cell_type": "code",
   "execution_count": 55,
   "metadata": {},
   "outputs": [
    {
     "name": "stdout",
     "output_type": "stream",
     "text": [
      "Based on sequential RFM adjusted for response rate prediction accuracy\n",
      "The number of customers Tcompany should SMS is:54,974\n",
      "Total cost of sending sms messages to selected customers:137,435\n",
      "Total number of positive responses:4,069\n",
      "Total percentage of positive responses:7.40%\n",
      "Total revenue in RMB :838,801.00\n",
      "Total profit in RMB:281,966\n",
      "ROME:205.16%\n"
     ]
    }
   ],
   "source": [
    "nr_sms_lbsq, sms_cost_lbsq, nr_responses_lbsq, response_rate_lbsq, revenue_lbsq, ROME_lbsq, profit_lbsq = perf_calc_actual(\n",
    "    smsto=\"smsto_lbsq\",\n",
    "    intro=\"Based on sequential RFM adjusted for response rate prediction accuracy\",\n",
    ")"
   ]
  },
  {
   "cell_type": "code",
   "execution_count": 56,
   "metadata": {},
   "outputs": [
    {
     "name": "stdout",
     "output_type": "stream",
     "text": [
      "Based on independent RFM adjusted for response rate prediction accuracy\n",
      "The number of customers Tcompany should SMS is:54,445\n",
      "Total cost of sending sms messages to selected customers:136,112\n",
      "Total number of positive responses:4,099\n",
      "Total percentage of positive responses:7.53%\n",
      "Total revenue in RMB :844,111.00\n",
      "Total profit in RMB:285,943\n",
      "ROME:210.08%\n"
     ]
    }
   ],
   "source": [
    "nr_sms_lbiq, sms_cost_lbiq, nr_responses_lbiq, response_rate_lbiq, revenue_lbiq, ROME_lbiq, profit_lbiq = perf_calc_actual(\n",
    "    smsto=\"smsto_lbiq\",\n",
    "    intro=\"Based on independent RFM adjusted for response rate prediction accuracy\",\n",
    ")"
   ]
  },
  {
   "cell_type": "code",
   "execution_count": 57,
   "metadata": {},
   "outputs": [],
   "source": [
    "plot_data_post = pd.DataFrame(\n",
    "    {\n",
    "        \"name\": [\n",
    "            \"No targeting\",\n",
    "            \"Indep. RFM\",\n",
    "            \"Seq. RFM\",\n",
    "            \"Seq. PC RFM\",\n",
    "            \"Seq. LB RFM\",\n",
    "            \"Indep. LB RFM\",\n",
    "        ],\n",
    "        \"Profit\": [\n",
    "            profit_nt,\n",
    "            profit_iq,\n",
    "            profit_sq,\n",
    "            profit_pcsq,\n",
    "            profit_lbsq,\n",
    "            profit_lbiq,\n",
    "        ],\n",
    "        \"ROME\": [ROME_nt, ROME_iq, ROME_sq, ROME_pcsq, ROME_lbsq, ROME_lbiq],\n",
    "    }\n",
    ")"
   ]
  },
  {
   "cell_type": "code",
   "execution_count": 58,
   "metadata": {},
   "outputs": [
    {
     "data": {
      "text/plain": [
       "[Text(0, 0, '124492'),\n",
       " Text(0, 0, '330636'),\n",
       " Text(0, 0, '341447'),\n",
       " Text(0, 0, '340862'),\n",
       " Text(0, 0, '281966'),\n",
       " Text(0, 0, '285943')]"
      ]
     },
     "execution_count": 58,
     "metadata": {},
     "output_type": "execute_result"
    },
    {
     "data": {
      "image/png": "[encoded data removed]",
      "text/plain": [
       "<Figure size 576x432 with 1 Axes>"
      ]
     },
     "metadata": {},
     "output_type": "display_data"
    }
   ],
   "source": [
    "# insert code for the profit plot based on the 'plot_data' DataFrame\n",
    "\n",
    "fig = sns.barplot(data = plot_data_post,x='name',y='Profit',color=\"slateblue\")\n",
    "fig.set(xlabel=\"\", ylabel=\"Profit\", title=\"Campaign profit\")\n",
    "fig.bar_label(fig.containers[0])"
   ]
  },
  {
   "cell_type": "code",
   "execution_count": 59,
   "metadata": {},
   "outputs": [
    {
     "data": {
      "text/plain": [
       "[Text(0, 0, '0.198472'),\n",
       " Text(0, 0, '1.18448'),\n",
       " Text(0, 0, '1.34798'),\n",
       " Text(0, 0, '1.23258'),\n",
       " Text(0, 0, '2.05163'),\n",
       " Text(0, 0, '2.10078')]"
      ]
     },
     "execution_count": 59,
     "metadata": {},
     "output_type": "execute_result"
    },
    {
     "data": {
      "image/png": "[encoded data removed]",
      "text/plain": [
       "<Figure size 576x432 with 1 Axes>"
      ]
     },
     "metadata": {},
     "output_type": "display_data"
    }
   ],
   "source": [
    "# insert code for the ROME plot based on the 'plot_data' DataFrame\n",
    "fig = sns.barplot(data = plot_data_post,x='name',y='ROME',color=\"slateblue\")\n",
    "fig.set(xlabel=\"\", ylabel=\"ROME\", title=\"Campaign ROME\")\n",
    "fig.bar_label(fig.containers[0])"
   ]
  },
  {
   "cell_type": "code",
   "execution_count": 60,
   "metadata": {},
   "outputs": [],
   "source": [
    "plot_data_pre['type']='pre'\n",
    "plot_data_post['type']='post'"
   ]
  },
  {
   "cell_type": "code",
   "execution_count": 61,
   "metadata": {},
   "outputs": [],
   "source": [
    "plot_data_all = pd.concat([plot_data_pre,plot_data_post])"
   ]
  },
  {
   "cell_type": "code",
   "execution_count": 62,
   "metadata": {},
   "outputs": [],
   "source": [
    "sns.set(rc={'figure.figsize':(16,6)})"
   ]
  },
  {
   "cell_type": "code",
   "execution_count": 63,
   "metadata": {},
   "outputs": [
    {
     "data": {
      "image/png": "[encoded data removed]",
      "text/plain": [
       "<Figure size 1152x432 with 1 Axes>"
      ]
     },
     "metadata": {},
     "output_type": "display_data"
    }
   ],
   "source": [
    "fig = sns.barplot(data = plot_data_all,x='name',y='Profit',hue='type')\n",
    "fig.set(xlabel=\"\", ylabel=\"Profit\", title=\"Campaign profit\")\n",
    "for container in fig.containers:\n",
    "    fig.bar_label(container)"
   ]
  },
  {
   "cell_type": "code",
   "execution_count": 64,
   "metadata": {},
   "outputs": [
    {
     "data": {
      "image/png": "[encoded data removed]",
      "text/plain": [
       "<Figure size 1152x432 with 1 Axes>"
      ]
     },
     "metadata": {},
     "output_type": "display_data"
    }
   ],
   "source": [
    "fig = sns.barplot(data = plot_data_all,x='name',y='ROME',hue='type')\n",
    "fig.set(xlabel=\"\", ylabel=\"ROME\", title=\"Campaign ROME\")\n",
    "for container in fig.containers:\n",
    "    fig.bar_label(container)"
   ]
  },
  {
   "cell_type": "markdown",
   "metadata": {},
   "source": [
    "We can see from the comparasion that RFM targeting analysis works well."
   ]
  },
  {
   "cell_type": "code",
   "execution_count": null,
   "metadata": {},
   "outputs": [],
   "source": []
  }
 ],
 "metadata": {
  "kernelspec": {
   "display_name": "Python 3 (ipykernel)",
   "language": "python",
   "name": "python3"
  },
  "language_info": {
   "codemirror_mode": {
    "name": "ipython",
    "version": 3
   },
   "file_extension": ".py",
   "mimetype": "text/x-python",
   "name": "python",
   "nbconvert_exporter": "python",
   "pygments_lexer": "ipython3",
   "version": "3.9.7"
  }
 },
 "nbformat": 4,
 "nbformat_minor": 4
}
