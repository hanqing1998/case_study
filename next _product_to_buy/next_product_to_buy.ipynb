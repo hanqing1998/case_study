{
 "cells": [
  {
   "cell_type": "markdown",
   "metadata": {},
   "source": [
    "# Next Product to Buy Models"
   ]
  },
  {
   "cell_type": "code",
   "execution_count": 1,
   "metadata": {},
   "outputs": [],
   "source": [
    "import matplotlib as mpl\n",
    "import matplotlib.pyplot as plt\n",
    "import numpy as np\n",
    "import pandas as pd\n",
    "import pyrsm as rsm\n",
    "import statsmodels.formula.api as smf\n",
    "from sklearn import preprocessing\n",
    "from statsmodels.genmod.families import Binomial\n",
    "from statsmodels.genmod.families.links import logit\n",
    "import seaborn as sns\n",
    "\n",
    "from sklearn.metrics import accuracy_score,f1_score,precision_score,recall_score,roc_auc_score\n",
    "\n",
    "\n",
    "\n",
    "# increase plot resolution\n",
    "# mpl.rcParams[\"figure.dpi\"] = 150"
   ]
  },
  {
   "cell_type": "code",
   "execution_count": 2,
   "metadata": {},
   "outputs": [],
   "source": [
    "from sklearn.neural_network import MLPRegressor\n",
    "from sklearn import metrics\n",
    "from sklearn.model_selection import GridSearchCV"
   ]
  },
  {
   "cell_type": "code",
   "execution_count": 3,
   "metadata": {},
   "outputs": [
    {
     "data": {
      "text/html": [
       "<div>\n",
       "<style scoped>\n",
       "    .dataframe tbody tr th:only-of-type {\n",
       "        vertical-align: middle;\n",
       "    }\n",
       "\n",
       "    .dataframe tbody tr th {\n",
       "        vertical-align: top;\n",
       "    }\n",
       "\n",
       "    .dataframe thead th {\n",
       "        text-align: right;\n",
       "    }\n",
       "</style>\n",
       "<table border=\"1\" class=\"dataframe\">\n",
       "  <thead>\n",
       "    <tr style=\"text-align: right;\">\n",
       "      <th></th>\n",
       "      <th>custid</th>\n",
       "      <th>buyer</th>\n",
       "      <th>total_os</th>\n",
       "      <th>message</th>\n",
       "      <th>age</th>\n",
       "      <th>gender</th>\n",
       "      <th>income</th>\n",
       "      <th>education</th>\n",
       "      <th>children</th>\n",
       "      <th>freq_endurance</th>\n",
       "      <th>...</th>\n",
       "      <th>endurance_os</th>\n",
       "      <th>strength_os</th>\n",
       "      <th>water_os</th>\n",
       "      <th>team_os</th>\n",
       "      <th>backcountry_os</th>\n",
       "      <th>winter_os</th>\n",
       "      <th>racquet_os</th>\n",
       "      <th>training</th>\n",
       "      <th>representative</th>\n",
       "      <th>buyer_yes</th>\n",
       "    </tr>\n",
       "  </thead>\n",
       "  <tbody>\n",
       "    <tr>\n",
       "      <th>0</th>\n",
       "      <td>U45198803</td>\n",
       "      <td>no</td>\n",
       "      <td>0.0</td>\n",
       "      <td>endurance</td>\n",
       "      <td>30 to 44</td>\n",
       "      <td>M</td>\n",
       "      <td>25000</td>\n",
       "      <td>14</td>\n",
       "      <td>1.3</td>\n",
       "      <td>0</td>\n",
       "      <td>...</td>\n",
       "      <td>0.0</td>\n",
       "      <td>0.0</td>\n",
       "      <td>0.0</td>\n",
       "      <td>0.0</td>\n",
       "      <td>0.0</td>\n",
       "      <td>0.0</td>\n",
       "      <td>0.0</td>\n",
       "      <td>-2147483648</td>\n",
       "      <td>1</td>\n",
       "      <td>0</td>\n",
       "    </tr>\n",
       "    <tr>\n",
       "      <th>1</th>\n",
       "      <td>U22197752</td>\n",
       "      <td>no</td>\n",
       "      <td>0.0</td>\n",
       "      <td>backcountry</td>\n",
       "      <td>45 to 59</td>\n",
       "      <td>F</td>\n",
       "      <td>40000</td>\n",
       "      <td>44</td>\n",
       "      <td>0.4</td>\n",
       "      <td>2</td>\n",
       "      <td>...</td>\n",
       "      <td>0.0</td>\n",
       "      <td>0.0</td>\n",
       "      <td>0.0</td>\n",
       "      <td>0.0</td>\n",
       "      <td>0.0</td>\n",
       "      <td>0.0</td>\n",
       "      <td>0.0</td>\n",
       "      <td>-2147483648</td>\n",
       "      <td>1</td>\n",
       "      <td>0</td>\n",
       "    </tr>\n",
       "    <tr>\n",
       "      <th>2</th>\n",
       "      <td>U83874832</td>\n",
       "      <td>no</td>\n",
       "      <td>0.0</td>\n",
       "      <td>backcountry</td>\n",
       "      <td>45 to 59</td>\n",
       "      <td>M</td>\n",
       "      <td>50000</td>\n",
       "      <td>24</td>\n",
       "      <td>0.8</td>\n",
       "      <td>0</td>\n",
       "      <td>...</td>\n",
       "      <td>0.0</td>\n",
       "      <td>0.0</td>\n",
       "      <td>0.0</td>\n",
       "      <td>0.0</td>\n",
       "      <td>0.0</td>\n",
       "      <td>0.0</td>\n",
       "      <td>0.0</td>\n",
       "      <td>1</td>\n",
       "      <td>0</td>\n",
       "      <td>0</td>\n",
       "    </tr>\n",
       "    <tr>\n",
       "      <th>3</th>\n",
       "      <td>U19423462</td>\n",
       "      <td>no</td>\n",
       "      <td>0.0</td>\n",
       "      <td>winter</td>\n",
       "      <td>45 to 59</td>\n",
       "      <td>F</td>\n",
       "      <td>50000</td>\n",
       "      <td>26</td>\n",
       "      <td>1.1</td>\n",
       "      <td>1</td>\n",
       "      <td>...</td>\n",
       "      <td>0.0</td>\n",
       "      <td>0.0</td>\n",
       "      <td>0.0</td>\n",
       "      <td>0.0</td>\n",
       "      <td>0.0</td>\n",
       "      <td>0.0</td>\n",
       "      <td>0.0</td>\n",
       "      <td>-2147483648</td>\n",
       "      <td>1</td>\n",
       "      <td>0</td>\n",
       "    </tr>\n",
       "    <tr>\n",
       "      <th>4</th>\n",
       "      <td>U23888305</td>\n",
       "      <td>no</td>\n",
       "      <td>0.0</td>\n",
       "      <td>winter</td>\n",
       "      <td>30 to 44</td>\n",
       "      <td>M</td>\n",
       "      <td>40000</td>\n",
       "      <td>22</td>\n",
       "      <td>1.0</td>\n",
       "      <td>1</td>\n",
       "      <td>...</td>\n",
       "      <td>0.0</td>\n",
       "      <td>0.0</td>\n",
       "      <td>0.0</td>\n",
       "      <td>0.0</td>\n",
       "      <td>0.0</td>\n",
       "      <td>0.0</td>\n",
       "      <td>0.0</td>\n",
       "      <td>-2147483648</td>\n",
       "      <td>1</td>\n",
       "      <td>0</td>\n",
       "    </tr>\n",
       "  </tbody>\n",
       "</table>\n",
       "<p>5 rows × 26 columns</p>\n",
       "</div>"
      ],
      "text/plain": [
       "      custid buyer  total_os      message       age gender  income  education  \\\n",
       "0  U45198803    no       0.0    endurance  30 to 44      M   25000         14   \n",
       "1  U22197752    no       0.0  backcountry  45 to 59      F   40000         44   \n",
       "2  U83874832    no       0.0  backcountry  45 to 59      M   50000         24   \n",
       "3  U19423462    no       0.0       winter  45 to 59      F   50000         26   \n",
       "4  U23888305    no       0.0       winter  30 to 44      M   40000         22   \n",
       "\n",
       "   children  freq_endurance  ...  endurance_os  strength_os  water_os  \\\n",
       "0       1.3               0  ...           0.0          0.0       0.0   \n",
       "1       0.4               2  ...           0.0          0.0       0.0   \n",
       "2       0.8               0  ...           0.0          0.0       0.0   \n",
       "3       1.1               1  ...           0.0          0.0       0.0   \n",
       "4       1.0               1  ...           0.0          0.0       0.0   \n",
       "\n",
       "   team_os  backcountry_os  winter_os  racquet_os    training  representative  \\\n",
       "0      0.0             0.0        0.0         0.0 -2147483648               1   \n",
       "1      0.0             0.0        0.0         0.0 -2147483648               1   \n",
       "2      0.0             0.0        0.0         0.0           1               0   \n",
       "3      0.0             0.0        0.0         0.0 -2147483648               1   \n",
       "4      0.0             0.0        0.0         0.0 -2147483648               1   \n",
       "\n",
       "   buyer_yes  \n",
       "0          0  \n",
       "1          0  \n",
       "2          0  \n",
       "3          0  \n",
       "4          0  \n",
       "\n",
       "[5 rows x 26 columns]"
      ]
     },
     "execution_count": 3,
     "metadata": {},
     "output_type": "execute_result"
    }
   ],
   "source": [
    "## loading the data - this dataset must NOT be changed\n",
    "pentathlon_nptb = pd.read_pickle(\"data/pentathlon_nptb.pkl\")\n",
    "pentathlon_nptb[\"buyer_yes\"] = (pentathlon_nptb[\"buyer\"] == \"yes\").astype(int)\n",
    "pentathlon_nptb.head()"
   ]
  },
  {
   "cell_type": "markdown",
   "metadata": {},
   "source": [
    "# 1. Logit"
   ]
  },
  {
   "cell_type": "markdown",
   "metadata": {},
   "source": [
    "## 1.1 Exploratory Data Analysis"
   ]
  },
  {
   "cell_type": "markdown",
   "metadata": {},
   "source": [
    "### Relationship amongst features"
   ]
  },
  {
   "cell_type": "code",
   "execution_count": 4,
   "metadata": {},
   "outputs": [
    {
     "name": "stdout",
     "output_type": "stream",
     "text": [
      "Correlation\n",
      "Variables: income, education, children, freq_endurance, freq_strength, freq_water, freq_team, freq_backcountry, freq_winter, freq_racquet\n",
      "Null hyp.: variables x and y are not correlated\n",
      "Alt. hyp.: variables x and y are correlated\n",
      "\n",
      "Correlation matrix:\n",
      "                 income education children freq_endurance freq_strength  \\\n",
      "education          0.77                                                   \n",
      "children          0.167    -0.143                                         \n",
      "freq_endurance    0.592      0.57    0.132                                \n",
      "freq_strength     0.541     0.501    0.119          0.377                 \n",
      "freq_water        0.481     0.446    0.098          0.356         0.305   \n",
      "freq_team         0.472     0.431    0.108          0.334          0.31   \n",
      "freq_backcountry  0.333     0.336    0.078          0.237         0.205   \n",
      "freq_winter       0.283     0.263    0.058          0.194         0.171   \n",
      "freq_racquet      0.548     0.552    0.118          0.387         0.324   \n",
      "\n",
      "                 freq_water freq_team freq_backcountry freq_winter  \n",
      "education                                                           \n",
      "children                                                            \n",
      "freq_endurance                                                      \n",
      "freq_strength                                                       \n",
      "freq_water                                                          \n",
      "freq_team             0.262                                         \n",
      "freq_backcountry      0.179     0.189                               \n",
      "freq_winter           0.168     0.152             0.11              \n",
      "freq_racquet          0.297     0.295            0.237       0.187  \n",
      "\n",
      "p.values:\n",
      "                 income education children freq_endurance freq_strength  \\\n",
      "education           0.0                                                   \n",
      "children            0.0       0.0                                         \n",
      "freq_endurance      0.0       0.0      0.0                                \n",
      "freq_strength       0.0       0.0      0.0            0.0                 \n",
      "freq_water          0.0       0.0      0.0            0.0           0.0   \n",
      "freq_team           0.0       0.0      0.0            0.0           0.0   \n",
      "freq_backcountry    0.0       0.0      0.0            0.0           0.0   \n",
      "freq_winter         0.0       0.0      0.0            0.0           0.0   \n",
      "freq_racquet        0.0       0.0      0.0            0.0           0.0   \n",
      "\n",
      "                 freq_water freq_team freq_backcountry freq_winter  \n",
      "education                                                           \n",
      "children                                                            \n",
      "freq_endurance                                                      \n",
      "freq_strength                                                       \n",
      "freq_water                                                          \n",
      "freq_team               0.0                                         \n",
      "freq_backcountry        0.0       0.0                               \n",
      "freq_winter             0.0       0.0              0.0              \n",
      "freq_racquet            0.0       0.0              0.0         0.0  \n"
     ]
    },
    {
     "data": {
      "image/png": "[encoded data removed]",
      "text/plain": [
       "<Figure size 720x720 with 100 Axes>"
      ]
     },
     "metadata": {
      "needs_background": "light"
     },
     "output_type": "display_data"
    }
   ],
   "source": [
    "cor = rsm.correlation(pentathlon_nptb[['message', 'age', 'gender', 'income',\n",
    "       'education', 'children', 'freq_endurance', 'freq_strength',\n",
    "       'freq_water', 'freq_team', 'freq_backcountry', 'freq_winter',\n",
    "       'freq_racquet']])\n",
    "cor.summary(dec=3)\n",
    "cor.plot()"
   ]
  },
  {
   "cell_type": "markdown",
   "metadata": {},
   "source": [
    "We notice that education and income have positive high correlation, using both these will lead to multicollinearity"
   ]
  },
  {
   "cell_type": "markdown",
   "metadata": {},
   "source": [
    "### Checking response rate for each message sent to customers"
   ]
  },
  {
   "cell_type": "code",
   "execution_count": 5,
   "metadata": {},
   "outputs": [
    {
     "data": {
      "text/plain": [
       "team           0.145230\n",
       "racquet        0.143610\n",
       "winter         0.143505\n",
       "backcountry    0.142820\n",
       "water          0.142010\n",
       "strength       0.141910\n",
       "endurance      0.140915\n",
       "Name: message, dtype: float64"
      ]
     },
     "execution_count": 5,
     "metadata": {},
     "output_type": "execute_result"
    }
   ],
   "source": [
    "pentathlon_nptb['message'].value_counts(normalize=True)"
   ]
  },
  {
   "cell_type": "markdown",
   "metadata": {},
   "source": [
    "Proportion of messages across 7 department are almost the same."
   ]
  },
  {
   "cell_type": "code",
   "execution_count": 6,
   "metadata": {},
   "outputs": [],
   "source": [
    "plot = pd.crosstab(pentathlon_nptb.message, pentathlon_nptb.buyer_yes,normalize='index')"
   ]
  },
  {
   "cell_type": "markdown",
   "metadata": {},
   "source": [
    "#### We notice response rates for each department is similar"
   ]
  },
  {
   "cell_type": "code",
   "execution_count": 7,
   "metadata": {},
   "outputs": [
    {
     "data": {
      "text/plain": [
       "<AxesSubplot:xlabel='message'>"
      ]
     },
     "execution_count": 7,
     "metadata": {},
     "output_type": "execute_result"
    },
    {
     "data": {
      "image/png": "[encoded data removed]",
      "text/plain": [
       "<Figure size 432x288 with 1 Axes>"
      ]
     },
     "metadata": {
      "needs_background": "light"
     },
     "output_type": "display_data"
    }
   ],
   "source": [
    "#create stacked bar chart\n",
    "plot.plot(kind='bar', stacked=True, color=['steelblue', 'red'])"
   ]
  },
  {
   "cell_type": "markdown",
   "metadata": {},
   "source": [
    "response rate in each department is almost the same"
   ]
  },
  {
   "cell_type": "markdown",
   "metadata": {},
   "source": [
    "### Checking response rate for age categories"
   ]
  },
  {
   "cell_type": "code",
   "execution_count": 8,
   "metadata": {},
   "outputs": [
    {
     "data": {
      "text/plain": [
       "45 to 59    0.340510\n",
       "30 to 44    0.334360\n",
       ">= 60       0.170155\n",
       "< 30        0.154975\n",
       "Name: age, dtype: float64"
      ]
     },
     "execution_count": 8,
     "metadata": {},
     "output_type": "execute_result"
    }
   ],
   "source": [
    "pentathlon_nptb['age'].value_counts(normalize=True)"
   ]
  },
  {
   "cell_type": "markdown",
   "metadata": {},
   "source": [
    "####  we find most customers fall between the ages of 30-59"
   ]
  },
  {
   "cell_type": "code",
   "execution_count": 9,
   "metadata": {},
   "outputs": [],
   "source": [
    "plot = pd.crosstab(pentathlon_nptb.age, pentathlon_nptb.buyer_yes,normalize='index')"
   ]
  },
  {
   "cell_type": "code",
   "execution_count": 10,
   "metadata": {},
   "outputs": [
    {
     "data": {
      "text/plain": [
       "<AxesSubplot:xlabel='age'>"
      ]
     },
     "execution_count": 10,
     "metadata": {},
     "output_type": "execute_result"
    },
    {
     "data": {
      "image/png": "[encoded data removed]",
      "text/plain": [
       "<Figure size 432x288 with 1 Axes>"
      ]
     },
     "metadata": {
      "needs_background": "light"
     },
     "output_type": "display_data"
    }
   ],
   "source": [
    "#create stacked bar chart\n",
    "plot.plot(kind='bar', stacked=True, color=['steelblue', 'red'])"
   ]
  },
  {
   "cell_type": "markdown",
   "metadata": {},
   "source": [
    "In addition, customers between 30-59 have a higher response rate. This also improves that the targeting customers are between 30-59"
   ]
  },
  {
   "cell_type": "markdown",
   "metadata": {},
   "source": [
    "### gender vs response rate"
   ]
  },
  {
   "cell_type": "code",
   "execution_count": 11,
   "metadata": {},
   "outputs": [
    {
     "data": {
      "text/plain": [
       "M    0.61186\n",
       "F    0.38814\n",
       "Name: gender, dtype: float64"
      ]
     },
     "execution_count": 11,
     "metadata": {},
     "output_type": "execute_result"
    }
   ],
   "source": [
    "pentathlon_nptb['gender'].value_counts(normalize=True)"
   ]
  },
  {
   "cell_type": "markdown",
   "metadata": {},
   "source": [
    "#### We find most customers are male"
   ]
  },
  {
   "cell_type": "code",
   "execution_count": 12,
   "metadata": {},
   "outputs": [],
   "source": [
    "plot = pd.crosstab(pentathlon_nptb.gender, pentathlon_nptb.buyer_yes,normalize='index')"
   ]
  },
  {
   "cell_type": "code",
   "execution_count": 13,
   "metadata": {},
   "outputs": [
    {
     "data": {
      "text/plain": [
       "<AxesSubplot:xlabel='gender'>"
      ]
     },
     "execution_count": 13,
     "metadata": {},
     "output_type": "execute_result"
    },
    {
     "data": {
      "image/png": "[encoded data removed]",
      "text/plain": [
       "<Figure size 432x288 with 1 Axes>"
      ]
     },
     "metadata": {
      "needs_background": "light"
     },
     "output_type": "display_data"
    }
   ],
   "source": [
    "#create stacked bar chart\n",
    "plot.plot(kind='bar', stacked=True, color=['steelblue', 'red'])"
   ]
  },
  {
   "cell_type": "markdown",
   "metadata": {},
   "source": [
    "In addition, male customers have a high response rate."
   ]
  },
  {
   "cell_type": "code",
   "execution_count": 14,
   "metadata": {},
   "outputs": [
    {
     "data": {
      "text/html": [
       "<div>\n",
       "<style scoped>\n",
       "    .dataframe tbody tr th:only-of-type {\n",
       "        vertical-align: middle;\n",
       "    }\n",
       "\n",
       "    .dataframe tbody tr th {\n",
       "        vertical-align: top;\n",
       "    }\n",
       "\n",
       "    .dataframe thead th {\n",
       "        text-align: right;\n",
       "    }\n",
       "</style>\n",
       "<table border=\"1\" class=\"dataframe\">\n",
       "  <thead>\n",
       "    <tr style=\"text-align: right;\">\n",
       "      <th></th>\n",
       "      <th>buyer_yes</th>\n",
       "      <th>0</th>\n",
       "      <th>1</th>\n",
       "    </tr>\n",
       "    <tr>\n",
       "      <th>gender</th>\n",
       "      <th>age</th>\n",
       "      <th></th>\n",
       "      <th></th>\n",
       "    </tr>\n",
       "  </thead>\n",
       "  <tbody>\n",
       "    <tr>\n",
       "      <th rowspan=\"4\" valign=\"top\">M</th>\n",
       "      <th>&lt; 30</th>\n",
       "      <td>0.834550</td>\n",
       "      <td>0.165450</td>\n",
       "    </tr>\n",
       "    <tr>\n",
       "      <th>30 to 44</th>\n",
       "      <td>0.651550</td>\n",
       "      <td>0.348450</td>\n",
       "    </tr>\n",
       "    <tr>\n",
       "      <th>45 to 59</th>\n",
       "      <td>0.678643</td>\n",
       "      <td>0.321357</td>\n",
       "    </tr>\n",
       "    <tr>\n",
       "      <th>&gt;= 60</th>\n",
       "      <td>0.812931</td>\n",
       "      <td>0.187069</td>\n",
       "    </tr>\n",
       "    <tr>\n",
       "      <th rowspan=\"4\" valign=\"top\">F</th>\n",
       "      <th>&lt; 30</th>\n",
       "      <td>0.852941</td>\n",
       "      <td>0.147059</td>\n",
       "    </tr>\n",
       "    <tr>\n",
       "      <th>30 to 44</th>\n",
       "      <td>0.753181</td>\n",
       "      <td>0.246819</td>\n",
       "    </tr>\n",
       "    <tr>\n",
       "      <th>45 to 59</th>\n",
       "      <td>0.769249</td>\n",
       "      <td>0.230751</td>\n",
       "    </tr>\n",
       "    <tr>\n",
       "      <th>&gt;= 60</th>\n",
       "      <td>0.850408</td>\n",
       "      <td>0.149592</td>\n",
       "    </tr>\n",
       "  </tbody>\n",
       "</table>\n",
       "</div>"
      ],
      "text/plain": [
       "buyer_yes               0         1\n",
       "gender age                         \n",
       "M      < 30      0.834550  0.165450\n",
       "       30 to 44  0.651550  0.348450\n",
       "       45 to 59  0.678643  0.321357\n",
       "       >= 60     0.812931  0.187069\n",
       "F      < 30      0.852941  0.147059\n",
       "       30 to 44  0.753181  0.246819\n",
       "       45 to 59  0.769249  0.230751\n",
       "       >= 60     0.850408  0.149592"
      ]
     },
     "execution_count": 14,
     "metadata": {},
     "output_type": "execute_result"
    }
   ],
   "source": [
    "pd.crosstab([pentathlon_nptb.gender,pentathlon_nptb.age], pentathlon_nptb.buyer_yes,normalize='index')"
   ]
  },
  {
   "cell_type": "markdown",
   "metadata": {},
   "source": [
    "no matter what gender the customer is, people between 30-59 have a high response rate."
   ]
  },
  {
   "cell_type": "markdown",
   "metadata": {},
   "source": [
    "### income vs response rate"
   ]
  },
  {
   "cell_type": "code",
   "execution_count": 15,
   "metadata": {},
   "outputs": [],
   "source": [
    "# hard to interpret\n",
    "plot = pentathlon_nptb['income'].value_counts(normalize=True).reset_index().sort_values(by='index')\n",
    "plot['index']=(plot['index']/5000).astype('int')"
   ]
  },
  {
   "cell_type": "code",
   "execution_count": 16,
   "metadata": {},
   "outputs": [
    {
     "data": {
      "text/plain": [
       "(array([ 0,  1,  2,  3,  4,  5,  6,  7,  8,  9, 10, 11, 12, 13, 14, 15, 16,\n",
       "        17, 18, 19, 20, 21, 22, 23, 24, 25, 26, 27, 28, 29, 30, 31, 32, 33,\n",
       "        34, 35, 36, 37, 38, 39, 40]),\n",
       " [Text(0, 0, '0'),\n",
       "  Text(1, 0, '1'),\n",
       "  Text(2, 0, '2'),\n",
       "  Text(3, 0, '3'),\n",
       "  Text(4, 0, '4'),\n",
       "  Text(5, 0, '5'),\n",
       "  Text(6, 0, '6'),\n",
       "  Text(7, 0, '7'),\n",
       "  Text(8, 0, '8'),\n",
       "  Text(9, 0, '9'),\n",
       "  Text(10, 0, '10'),\n",
       "  Text(11, 0, '11'),\n",
       "  Text(12, 0, '12'),\n",
       "  Text(13, 0, '13'),\n",
       "  Text(14, 0, '14'),\n",
       "  Text(15, 0, '15'),\n",
       "  Text(16, 0, '16'),\n",
       "  Text(17, 0, '17'),\n",
       "  Text(18, 0, '18'),\n",
       "  Text(19, 0, '19'),\n",
       "  Text(20, 0, '20'),\n",
       "  Text(21, 0, '21'),\n",
       "  Text(22, 0, '22'),\n",
       "  Text(23, 0, '23'),\n",
       "  Text(24, 0, '24'),\n",
       "  Text(25, 0, '25'),\n",
       "  Text(26, 0, '26'),\n",
       "  Text(27, 0, '27'),\n",
       "  Text(28, 0, '28'),\n",
       "  Text(29, 0, '29'),\n",
       "  Text(30, 0, '30'),\n",
       "  Text(31, 0, '31'),\n",
       "  Text(32, 0, '32'),\n",
       "  Text(33, 0, '33'),\n",
       "  Text(34, 0, '34'),\n",
       "  Text(35, 0, '35'),\n",
       "  Text(36, 0, '36'),\n",
       "  Text(37, 0, '37'),\n",
       "  Text(38, 0, '38'),\n",
       "  Text(39, 0, '39'),\n",
       "  Text(40, 0, '40')])"
      ]
     },
     "execution_count": 16,
     "metadata": {},
     "output_type": "execute_result"
    },
    {
     "data": {
      "image/png": "[encoded data removed]",
      "text/plain": [
       "<Figure size 432x288 with 1 Axes>"
      ]
     },
     "metadata": {
      "needs_background": "light"
     },
     "output_type": "display_data"
    }
   ],
   "source": [
    "fig = sns.barplot(x='index', y=\"income\", data=plot, order=plot['index'],color = 'slateblue')\n",
    "plt.xticks(rotation=45)"
   ]
  },
  {
   "cell_type": "markdown",
   "metadata": {},
   "source": [
    "we notice a right-skewed normal distribution"
   ]
  },
  {
   "cell_type": "code",
   "execution_count": 17,
   "metadata": {},
   "outputs": [],
   "source": [
    "plot = pd.crosstab((pentathlon_nptb.income/5000).astype(int), pentathlon_nptb.buyer_yes,normalize='index').reset_index()"
   ]
  },
  {
   "cell_type": "code",
   "execution_count": 18,
   "metadata": {},
   "outputs": [
    {
     "data": {
      "image/png": "[encoded data removed]",
      "text/plain": [
       "<Figure size 432x288 with 1 Axes>"
      ]
     },
     "metadata": {
      "needs_background": "light"
     },
     "output_type": "display_data"
    }
   ],
   "source": [
    "#create stacked bar chart\n",
    "fig= sns.barplot(data = plot, x='income',y=1,color = 'slateblue')"
   ]
  },
  {
   "cell_type": "markdown",
   "metadata": {},
   "source": [
    "We notice that customers with higher income have higher response rate and follows general intuition"
   ]
  },
  {
   "cell_type": "markdown",
   "metadata": {},
   "source": [
    "### education vs response rate"
   ]
  },
  {
   "cell_type": "code",
   "execution_count": 19,
   "metadata": {},
   "outputs": [],
   "source": [
    "# hard to interpret\n",
    "plot = pentathlon_nptb['education'].value_counts(normalize=True).reset_index().sort_values(by='index')"
   ]
  },
  {
   "cell_type": "code",
   "execution_count": 20,
   "metadata": {},
   "outputs": [
    {
     "data": {
      "image/png": "[encoded data removed]",
      "text/plain": [
       "<Figure size 432x288 with 1 Axes>"
      ]
     },
     "metadata": {
      "needs_background": "light"
     },
     "output_type": "display_data"
    }
   ],
   "source": [
    "fig = sns.barplot(x='index', y=\"education\", data=plot, order=plot['index'],color = 'slateblue')\n",
    "\n",
    "for ind, label in enumerate(fig.get_xticklabels()):\n",
    "    if ind % 10 == 0:  # every 10th label is kept\n",
    "        label.set_visible(True)\n",
    "    else:\n",
    "        label.set_visible(False)"
   ]
  },
  {
   "cell_type": "markdown",
   "metadata": {},
   "source": [
    "we notice a right-skewed normal distribution, similar to income"
   ]
  },
  {
   "cell_type": "code",
   "execution_count": 21,
   "metadata": {},
   "outputs": [],
   "source": [
    "plot = pd.crosstab(pentathlon_nptb.education, pentathlon_nptb.buyer_yes,normalize='index').reset_index()"
   ]
  },
  {
   "cell_type": "code",
   "execution_count": 22,
   "metadata": {},
   "outputs": [
    {
     "data": {
      "image/png": "[encoded data removed]",
      "text/plain": [
       "<Figure size 432x288 with 1 Axes>"
      ]
     },
     "metadata": {
      "needs_background": "light"
     },
     "output_type": "display_data"
    }
   ],
   "source": [
    "#create stacked bar chart\n",
    "fig= sns.barplot(data = plot, x='education',y=1,color = 'slateblue')\n",
    "\n",
    "for ind, label in enumerate(fig.get_xticklabels()):\n",
    "    if ind % 10 == 0:  # every 10th label is kept\n",
    "        label.set_visible(True)\n",
    "    else:\n",
    "        label.set_visible(False)"
   ]
  },
  {
   "cell_type": "markdown",
   "metadata": {},
   "source": [
    "### children vs response rate"
   ]
  },
  {
   "cell_type": "code",
   "execution_count": 23,
   "metadata": {},
   "outputs": [],
   "source": [
    "plot = pentathlon_nptb['children'].value_counts(normalize=True).reset_index().sort_values(by='index')"
   ]
  },
  {
   "cell_type": "code",
   "execution_count": 24,
   "metadata": {},
   "outputs": [
    {
     "data": {
      "text/plain": [
       "(array([ 0,  1,  2,  3,  4,  5,  6,  7,  8,  9, 10, 11, 12, 13, 14, 15, 16,\n",
       "        17, 18, 19, 20, 21, 22, 23, 24, 25, 26, 27, 28, 29, 30, 31, 32, 33,\n",
       "        34, 35, 36, 37, 38, 39, 40, 41, 42, 43, 44, 45, 46, 47, 48, 49, 50,\n",
       "        51, 52]),\n",
       " [Text(0, 0, '0.2'),\n",
       "  Text(1, 0, '0.3'),\n",
       "  Text(2, 0, '0.4'),\n",
       "  Text(3, 0, '0.5'),\n",
       "  Text(4, 0, '0.6'),\n",
       "  Text(5, 0, '0.7'),\n",
       "  Text(6, 0, '0.8'),\n",
       "  Text(7, 0, '0.9'),\n",
       "  Text(8, 0, '1.0'),\n",
       "  Text(9, 0, '1.1'),\n",
       "  Text(10, 0, '1.2'),\n",
       "  Text(11, 0, '1.3'),\n",
       "  Text(12, 0, '1.4'),\n",
       "  Text(13, 0, '1.5'),\n",
       "  Text(14, 0, '1.6'),\n",
       "  Text(15, 0, '1.7'),\n",
       "  Text(16, 0, '1.8'),\n",
       "  Text(17, 0, '1.9'),\n",
       "  Text(18, 0, '2.0'),\n",
       "  Text(19, 0, '2.1'),\n",
       "  Text(20, 0, '2.2'),\n",
       "  Text(21, 0, '2.3'),\n",
       "  Text(22, 0, '2.4'),\n",
       "  Text(23, 0, '2.5'),\n",
       "  Text(24, 0, '2.6'),\n",
       "  Text(25, 0, '2.7'),\n",
       "  Text(26, 0, '2.8'),\n",
       "  Text(27, 0, '2.9'),\n",
       "  Text(28, 0, '3.0'),\n",
       "  Text(29, 0, '3.1'),\n",
       "  Text(30, 0, '3.2'),\n",
       "  Text(31, 0, '3.3'),\n",
       "  Text(32, 0, '3.4'),\n",
       "  Text(33, 0, '3.5'),\n",
       "  Text(34, 0, '3.6'),\n",
       "  Text(35, 0, '3.7'),\n",
       "  Text(36, 0, '3.8'),\n",
       "  Text(37, 0, '3.9'),\n",
       "  Text(38, 0, '4.0'),\n",
       "  Text(39, 0, '4.1'),\n",
       "  Text(40, 0, '4.2'),\n",
       "  Text(41, 0, '4.3'),\n",
       "  Text(42, 0, '4.4'),\n",
       "  Text(43, 0, '4.5'),\n",
       "  Text(44, 0, '4.6'),\n",
       "  Text(45, 0, '4.7'),\n",
       "  Text(46, 0, '4.8'),\n",
       "  Text(47, 0, '4.9'),\n",
       "  Text(48, 0, '5.2'),\n",
       "  Text(49, 0, '5.5'),\n",
       "  Text(50, 0, '5.7'),\n",
       "  Text(51, 0, '5.8'),\n",
       "  Text(52, 0, '7.1')])"
      ]
     },
     "execution_count": 24,
     "metadata": {},
     "output_type": "execute_result"
    },
    {
     "data": {
      "image/png": "[encoded data removed]",
      "text/plain": [
       "<Figure size 432x288 with 1 Axes>"
      ]
     },
     "metadata": {
      "needs_background": "light"
     },
     "output_type": "display_data"
    }
   ],
   "source": [
    "fig = sns.barplot(x='index', y=\"children\", data=plot, order=plot['index'],color = 'slateblue')\n",
    "plt.xticks(rotation=45)"
   ]
  },
  {
   "cell_type": "code",
   "execution_count": 25,
   "metadata": {},
   "outputs": [],
   "source": [
    "plot = pd.crosstab(pentathlon_nptb.children, pentathlon_nptb.buyer_yes,normalize='index').reset_index()"
   ]
  },
  {
   "cell_type": "code",
   "execution_count": 26,
   "metadata": {},
   "outputs": [
    {
     "data": {
      "text/plain": [
       "(array([ 0,  1,  2,  3,  4,  5,  6,  7,  8,  9, 10, 11, 12, 13, 14, 15, 16,\n",
       "        17, 18, 19, 20, 21, 22, 23, 24, 25, 26, 27, 28, 29, 30, 31, 32, 33,\n",
       "        34, 35, 36, 37, 38, 39, 40, 41, 42, 43, 44, 45, 46, 47, 48, 49, 50,\n",
       "        51, 52]),\n",
       " [Text(0, 0, '0.2'),\n",
       "  Text(1, 0, '0.3'),\n",
       "  Text(2, 0, '0.4'),\n",
       "  Text(3, 0, '0.5'),\n",
       "  Text(4, 0, '0.6'),\n",
       "  Text(5, 0, '0.7'),\n",
       "  Text(6, 0, '0.8'),\n",
       "  Text(7, 0, '0.9'),\n",
       "  Text(8, 0, '1.0'),\n",
       "  Text(9, 0, '1.1'),\n",
       "  Text(10, 0, '1.2'),\n",
       "  Text(11, 0, '1.3'),\n",
       "  Text(12, 0, '1.4'),\n",
       "  Text(13, 0, '1.5'),\n",
       "  Text(14, 0, '1.6'),\n",
       "  Text(15, 0, '1.7'),\n",
       "  Text(16, 0, '1.8'),\n",
       "  Text(17, 0, '1.9'),\n",
       "  Text(18, 0, '2.0'),\n",
       "  Text(19, 0, '2.1'),\n",
       "  Text(20, 0, '2.2'),\n",
       "  Text(21, 0, '2.3'),\n",
       "  Text(22, 0, '2.4'),\n",
       "  Text(23, 0, '2.5'),\n",
       "  Text(24, 0, '2.6'),\n",
       "  Text(25, 0, '2.7'),\n",
       "  Text(26, 0, '2.8'),\n",
       "  Text(27, 0, '2.9'),\n",
       "  Text(28, 0, '3.0'),\n",
       "  Text(29, 0, '3.1'),\n",
       "  Text(30, 0, '3.2'),\n",
       "  Text(31, 0, '3.3'),\n",
       "  Text(32, 0, '3.4'),\n",
       "  Text(33, 0, '3.5'),\n",
       "  Text(34, 0, '3.6'),\n",
       "  Text(35, 0, '3.7'),\n",
       "  Text(36, 0, '3.8'),\n",
       "  Text(37, 0, '3.9'),\n",
       "  Text(38, 0, '4.0'),\n",
       "  Text(39, 0, '4.1'),\n",
       "  Text(40, 0, '4.2'),\n",
       "  Text(41, 0, '4.3'),\n",
       "  Text(42, 0, '4.4'),\n",
       "  Text(43, 0, '4.5'),\n",
       "  Text(44, 0, '4.6'),\n",
       "  Text(45, 0, '4.7'),\n",
       "  Text(46, 0, '4.8'),\n",
       "  Text(47, 0, '4.9'),\n",
       "  Text(48, 0, '5.2'),\n",
       "  Text(49, 0, '5.5'),\n",
       "  Text(50, 0, '5.7'),\n",
       "  Text(51, 0, '5.8'),\n",
       "  Text(52, 0, '7.1')])"
      ]
     },
     "execution_count": 26,
     "metadata": {},
     "output_type": "execute_result"
    },
    {
     "data": {
      "image/png": "[encoded data removed]",
      "text/plain": [
       "<Figure size 432x288 with 1 Axes>"
      ]
     },
     "metadata": {
      "needs_background": "light"
     },
     "output_type": "display_data"
    }
   ],
   "source": [
    "#create stacked bar chart\n",
    "fig= sns.barplot(data = plot, x='children',y=1,color = 'slateblue')\n",
    "plt.xticks(rotation=45)"
   ]
  },
  {
   "cell_type": "markdown",
   "metadata": {},
   "source": [
    "We see that number of children has a direct influence on the response rate. It appears to be a feature of significance."
   ]
  },
  {
   "cell_type": "markdown",
   "metadata": {},
   "source": [
    "### frequency vs response"
   ]
  },
  {
   "cell_type": "code",
   "execution_count": 27,
   "metadata": {},
   "outputs": [
    {
     "data": {
      "text/plain": [
       "Index(['custid', 'buyer', 'total_os', 'message', 'age', 'gender', 'income',\n",
       "       'education', 'children', 'freq_endurance', 'freq_strength',\n",
       "       'freq_water', 'freq_team', 'freq_backcountry', 'freq_winter',\n",
       "       'freq_racquet', 'endurance_os', 'strength_os', 'water_os', 'team_os',\n",
       "       'backcountry_os', 'winter_os', 'racquet_os', 'training',\n",
       "       'representative', 'buyer_yes'],\n",
       "      dtype='object')"
      ]
     },
     "execution_count": 27,
     "metadata": {},
     "output_type": "execute_result"
    }
   ],
   "source": [
    "pentathlon_nptb.columns"
   ]
  },
  {
   "cell_type": "code",
   "execution_count": 28,
   "metadata": {},
   "outputs": [],
   "source": [
    "plot = pd.crosstab(pentathlon_nptb.freq_endurance, pentathlon_nptb.buyer_yes,normalize='index').reset_index()"
   ]
  },
  {
   "cell_type": "code",
   "execution_count": 29,
   "metadata": {},
   "outputs": [
    {
     "data": {
      "text/plain": [
       "[Text(0.5, 1.0, 'freq_endurance')]"
      ]
     },
     "execution_count": 29,
     "metadata": {},
     "output_type": "execute_result"
    },
    {
     "data": {
      "image/png": "[encoded data removed]",
      "text/plain": [
       "<Figure size 432x288 with 1 Axes>"
      ]
     },
     "metadata": {
      "needs_background": "light"
     },
     "output_type": "display_data"
    }
   ],
   "source": [
    "#create stacked bar chart\n",
    "fig= sns.barplot(data = plot, x='freq_endurance',y=1,color = 'slateblue')\n",
    "fig.set(title='freq_endurance')"
   ]
  },
  {
   "cell_type": "code",
   "execution_count": 30,
   "metadata": {},
   "outputs": [],
   "source": [
    "plot = pd.crosstab(pentathlon_nptb.freq_strength, pentathlon_nptb.buyer_yes,normalize='index').reset_index()"
   ]
  },
  {
   "cell_type": "code",
   "execution_count": 31,
   "metadata": {},
   "outputs": [
    {
     "data": {
      "text/plain": [
       "[Text(0.5, 1.0, 'freq_strength')]"
      ]
     },
     "execution_count": 31,
     "metadata": {},
     "output_type": "execute_result"
    },
    {
     "data": {
      "image/png": "[encoded data removed]",
      "text/plain": [
       "<Figure size 432x288 with 1 Axes>"
      ]
     },
     "metadata": {
      "needs_background": "light"
     },
     "output_type": "display_data"
    }
   ],
   "source": [
    "#create stacked bar chart\n",
    "fig= sns.barplot(data = plot, x='freq_strength',y=1,color = 'slateblue')\n",
    "fig.set(title='freq_strength')"
   ]
  },
  {
   "cell_type": "code",
   "execution_count": 32,
   "metadata": {},
   "outputs": [],
   "source": [
    "plot = pd.crosstab(pentathlon_nptb.freq_water, pentathlon_nptb.buyer_yes,normalize='index').reset_index()"
   ]
  },
  {
   "cell_type": "code",
   "execution_count": 33,
   "metadata": {},
   "outputs": [
    {
     "data": {
      "text/plain": [
       "[Text(0.5, 1.0, 'freq_water')]"
      ]
     },
     "execution_count": 33,
     "metadata": {},
     "output_type": "execute_result"
    },
    {
     "data": {
      "image/png": "[encoded data removed]",
      "text/plain": [
       "<Figure size 432x288 with 1 Axes>"
      ]
     },
     "metadata": {
      "needs_background": "light"
     },
     "output_type": "display_data"
    }
   ],
   "source": [
    "#create stacked bar chart\n",
    "fig= sns.barplot(data = plot, x='freq_water',y=1,color = 'slateblue')\n",
    "fig.set(title='freq_water')"
   ]
  },
  {
   "cell_type": "code",
   "execution_count": 34,
   "metadata": {},
   "outputs": [],
   "source": [
    "plot = pd.crosstab(pentathlon_nptb.freq_team, pentathlon_nptb.buyer_yes,normalize='index').reset_index()"
   ]
  },
  {
   "cell_type": "code",
   "execution_count": 35,
   "metadata": {},
   "outputs": [
    {
     "data": {
      "text/plain": [
       "[Text(0.5, 1.0, 'freq_team')]"
      ]
     },
     "execution_count": 35,
     "metadata": {},
     "output_type": "execute_result"
    },
    {
     "data": {
      "image/png": "[encoded data removed]",
      "text/plain": [
       "<Figure size 432x288 with 1 Axes>"
      ]
     },
     "metadata": {
      "needs_background": "light"
     },
     "output_type": "display_data"
    }
   ],
   "source": [
    "#create stacked bar chart\n",
    "fig= sns.barplot(data = plot, x='freq_team',y=1,color = 'slateblue')\n",
    "fig.set(title='freq_team')"
   ]
  },
  {
   "cell_type": "code",
   "execution_count": 36,
   "metadata": {},
   "outputs": [],
   "source": [
    "plot = pd.crosstab(pentathlon_nptb.freq_backcountry, pentathlon_nptb.buyer_yes,normalize='index').reset_index()"
   ]
  },
  {
   "cell_type": "code",
   "execution_count": 37,
   "metadata": {},
   "outputs": [
    {
     "data": {
      "text/plain": [
       "[Text(0.5, 1.0, 'freq_backcountry')]"
      ]
     },
     "execution_count": 37,
     "metadata": {},
     "output_type": "execute_result"
    },
    {
     "data": {
      "image/png": "[encoded data removed]",
      "text/plain": [
       "<Figure size 432x288 with 1 Axes>"
      ]
     },
     "metadata": {
      "needs_background": "light"
     },
     "output_type": "display_data"
    }
   ],
   "source": [
    "#create stacked bar chart\n",
    "fig= sns.barplot(data = plot, x='freq_backcountry',y=1,color = 'slateblue')\n",
    "fig.set(title='freq_backcountry')"
   ]
  },
  {
   "cell_type": "code",
   "execution_count": 38,
   "metadata": {},
   "outputs": [],
   "source": [
    "plot = pd.crosstab(pentathlon_nptb.freq_winter, pentathlon_nptb.buyer_yes,normalize='index').reset_index()"
   ]
  },
  {
   "cell_type": "code",
   "execution_count": 39,
   "metadata": {},
   "outputs": [
    {
     "data": {
      "text/plain": [
       "[Text(0.5, 1.0, 'freq_winter')]"
      ]
     },
     "execution_count": 39,
     "metadata": {},
     "output_type": "execute_result"
    },
    {
     "data": {
      "image/png": "[encoded data removed]",
      "text/plain": [
       "<Figure size 432x288 with 1 Axes>"
      ]
     },
     "metadata": {
      "needs_background": "light"
     },
     "output_type": "display_data"
    }
   ],
   "source": [
    "#create stacked bar chart\n",
    "fig= sns.barplot(data = plot, x='freq_winter',y=1,color = 'slateblue')\n",
    "fig.set(title='freq_winter')"
   ]
  },
  {
   "cell_type": "code",
   "execution_count": 40,
   "metadata": {},
   "outputs": [],
   "source": [
    "plot = pd.crosstab(pentathlon_nptb.freq_racquet, pentathlon_nptb.buyer_yes,normalize='index').reset_index()"
   ]
  },
  {
   "cell_type": "code",
   "execution_count": 41,
   "metadata": {},
   "outputs": [
    {
     "data": {
      "text/plain": [
       "[Text(0.5, 1.0, 'freq_racquet')]"
      ]
     },
     "execution_count": 41,
     "metadata": {},
     "output_type": "execute_result"
    },
    {
     "data": {
      "image/png": "[encoded data removed]",
      "text/plain": [
       "<Figure size 432x288 with 1 Axes>"
      ]
     },
     "metadata": {
      "needs_background": "light"
     },
     "output_type": "display_data"
    }
   ],
   "source": [
    "#create stacked bar chart\n",
    "fig= sns.barplot(data = plot, x='freq_racquet',y=1,color = 'slateblue')\n",
    "fig.set(title='freq_racquet')"
   ]
  },
  {
   "cell_type": "markdown",
   "metadata": {},
   "source": [
    "### Possible feature improvements"
   ]
  },
  {
   "cell_type": "markdown",
   "metadata": {},
   "source": [
    "- income and education: account for multicollinearity\n",
    "- children: create bins, transfer into category (should help reduce noise)"
   ]
  },
  {
   "cell_type": "markdown",
   "metadata": {},
   "source": [
    "## 1.2 transform data format"
   ]
  },
  {
   "cell_type": "code",
   "execution_count": 42,
   "metadata": {},
   "outputs": [],
   "source": [
    "pentathlon_nptb['training']= rsm.ifelse(pentathlon_nptb['training']==1,1,rsm.ifelse(pentathlon_nptb['training']==0,0,2))\n",
    "pentathlon_nptb[\"cweight\"] = rsm.ifelse(pentathlon_nptb.buyer == \"yes\", 1, 99)"
   ]
  },
  {
   "cell_type": "code",
   "execution_count": 43,
   "metadata": {},
   "outputs": [],
   "source": [
    "train = pentathlon_nptb.query(\"training==1\")\n",
    "test = pentathlon_nptb.query(\"training==0\")\n",
    "repre = pentathlon_nptb.query(\"training==2\")"
   ]
  },
  {
   "cell_type": "code",
   "execution_count": 44,
   "metadata": {},
   "outputs": [],
   "source": [
    "pentathlon_nptb_std = pentathlon_nptb.copy()"
   ]
  },
  {
   "cell_type": "code",
   "execution_count": 45,
   "metadata": {},
   "outputs": [],
   "source": [
    "to_std = ['income', 'children', 'freq_endurance', 'freq_strength',\n",
    "       'freq_water', 'freq_team', 'freq_backcountry', 'freq_winter',\n",
    "       'freq_racquet']\n",
    "exl = rsm.setdiff(pentathlon_nptb_std.columns,to_std)"
   ]
  },
  {
   "cell_type": "code",
   "execution_count": 46,
   "metadata": {},
   "outputs": [],
   "source": [
    "pentathlon_nptb_std= rsm.scale_df(pentathlon_nptb_std, sf=1, train=pentathlon_nptb_std.training == 1,excl=exl, wt = pentathlon_nptb_std['cweight'])"
   ]
  },
  {
   "cell_type": "code",
   "execution_count": 47,
   "metadata": {},
   "outputs": [],
   "source": [
    "train_std = pentathlon_nptb_std.query(\"training==1\")\n",
    "test_std = pentathlon_nptb_std.query(\"training==0\")\n",
    "repre_std = pentathlon_nptb_std.query(\"training==2\")"
   ]
  },
  {
   "cell_type": "markdown",
   "metadata": {},
   "source": [
    "## 1.3 Model"
   ]
  },
  {
   "cell_type": "markdown",
   "metadata": {},
   "source": [
    "## 1.3.1 Build Model"
   ]
  },
  {
   "cell_type": "code",
   "execution_count": 48,
   "metadata": {
    "scrolled": true
   },
   "outputs": [
    {
     "data": {
      "text/plain": [
       "team           29046\n",
       "racquet        28722\n",
       "winter         28701\n",
       "backcountry    28564\n",
       "water          28402\n",
       "strength       28382\n",
       "endurance      28183\n",
       "Name: message, dtype: int64"
      ]
     },
     "execution_count": 48,
     "metadata": {},
     "output_type": "execute_result"
    }
   ],
   "source": [
    "pentathlon_nptb['message'].value_counts() # current value counts"
   ]
  },
  {
   "cell_type": "markdown",
   "metadata": {},
   "source": [
    "### with weight and standardalize"
   ]
  },
  {
   "cell_type": "code",
   "execution_count": 49,
   "metadata": {},
   "outputs": [],
   "source": [
    "lr_std = smf.glm(\n",
    "    formula=\"buyer_yes ~ message + age + gender + income + education + children + \\\n",
    "             freq_endurance + freq_strength + freq_water + freq_team + freq_backcountry + freq_winter + freq_racquet+ \\\n",
    "             message:age + message:gender + message:income + message:education + message:children +\\\n",
    "             message:freq_endurance + message:freq_strength + message:freq_water + message:freq_team + \\\n",
    "             message:freq_backcountry + message:freq_winter + message:freq_racquet\",\n",
    "    family=Binomial(link=logit()),\n",
    "    data=train_std,\n",
    "    freq_weights=train_std[\"cweight\"],\n",
    ").fit(cov_type=\"HC1\")"
   ]
  },
  {
   "cell_type": "code",
   "execution_count": 50,
   "metadata": {},
   "outputs": [],
   "source": [
    "pred_train = pd.DataFrame().assign(\n",
    "    actual=train_std.buyer_yes, pred=lr_std.predict(train_std) ## drop first column which is useless\n",
    ")\n",
    "pred_test = pd.DataFrame().assign(actual=test_std.buyer_yes, pred=lr_std.predict(test_std))"
   ]
  },
  {
   "cell_type": "code",
   "execution_count": 51,
   "metadata": {},
   "outputs": [
    {
     "data": {
      "image/png": "[encoded data removed]",
      "text/plain": [
       "<Figure size 432x288 with 1 Axes>"
      ]
     },
     "metadata": {
      "needs_background": "light"
     },
     "output_type": "display_data"
    }
   ],
   "source": [
    "dct = {\"train\": pred_train, \"test\": pred_test}\n",
    "fig = rsm.gains_plot(dct, \"actual\", 1, \"pred\").legend(title=None)"
   ]
  },
  {
   "cell_type": "markdown",
   "metadata": {},
   "source": [
    "The training and testing data have a similar gain plot, so the model doesn't face the problem of overfitting"
   ]
  },
  {
   "cell_type": "code",
   "execution_count": 52,
   "metadata": {},
   "outputs": [
    {
     "data": {
      "text/plain": [
       "0.8804006355555556"
      ]
     },
     "execution_count": 52,
     "metadata": {},
     "output_type": "execute_result"
    }
   ],
   "source": [
    "y_score = lr_std.predict(test_std)\n",
    "auc = roc_auc_score(test_std.buyer_yes,y_score)\n",
    "auc"
   ]
  },
  {
   "cell_type": "code",
   "execution_count": 53,
   "metadata": {},
   "outputs": [
    {
     "data": {
      "text/html": [
       "<div>\n",
       "<style scoped>\n",
       "    .dataframe tbody tr th:only-of-type {\n",
       "        vertical-align: middle;\n",
       "    }\n",
       "\n",
       "    .dataframe tbody tr th {\n",
       "        vertical-align: top;\n",
       "    }\n",
       "\n",
       "    .dataframe thead th {\n",
       "        text-align: right;\n",
       "    }\n",
       "</style>\n",
       "<table border=\"1\" class=\"dataframe\">\n",
       "  <thead>\n",
       "    <tr style=\"text-align: right;\">\n",
       "      <th></th>\n",
       "      <th>index</th>\n",
       "      <th>OR</th>\n",
       "      <th>OR%</th>\n",
       "      <th>2.5%</th>\n",
       "      <th>97.5%</th>\n",
       "      <th>p.values</th>\n",
       "      <th></th>\n",
       "    </tr>\n",
       "  </thead>\n",
       "  <tbody>\n",
       "    <tr>\n",
       "      <th>1</th>\n",
       "      <td>message[T.strength]</td>\n",
       "      <td>0.641</td>\n",
       "      <td>-35.9%</td>\n",
       "      <td>0.526</td>\n",
       "      <td>0.782</td>\n",
       "      <td>&lt; .001</td>\n",
       "      <td>***</td>\n",
       "    </tr>\n",
       "    <tr>\n",
       "      <th>2</th>\n",
       "      <td>message[T.water]</td>\n",
       "      <td>0.599</td>\n",
       "      <td>-40.1%</td>\n",
       "      <td>0.492</td>\n",
       "      <td>0.730</td>\n",
       "      <td>&lt; .001</td>\n",
       "      <td>***</td>\n",
       "    </tr>\n",
       "    <tr>\n",
       "      <th>3</th>\n",
       "      <td>message[T.team]</td>\n",
       "      <td>0.605</td>\n",
       "      <td>-39.5%</td>\n",
       "      <td>0.497</td>\n",
       "      <td>0.737</td>\n",
       "      <td>&lt; .001</td>\n",
       "      <td>***</td>\n",
       "    </tr>\n",
       "    <tr>\n",
       "      <th>4</th>\n",
       "      <td>message[T.backcountry]</td>\n",
       "      <td>0.827</td>\n",
       "      <td>-17.3%</td>\n",
       "      <td>0.681</td>\n",
       "      <td>1.004</td>\n",
       "      <td>0.055</td>\n",
       "      <td>.</td>\n",
       "    </tr>\n",
       "    <tr>\n",
       "      <th>5</th>\n",
       "      <td>message[T.winter]</td>\n",
       "      <td>0.632</td>\n",
       "      <td>-36.8%</td>\n",
       "      <td>0.517</td>\n",
       "      <td>0.772</td>\n",
       "      <td>&lt; .001</td>\n",
       "      <td>***</td>\n",
       "    </tr>\n",
       "    <tr>\n",
       "      <th>6</th>\n",
       "      <td>message[T.racquet]</td>\n",
       "      <td>0.847</td>\n",
       "      <td>-15.3%</td>\n",
       "      <td>0.692</td>\n",
       "      <td>1.037</td>\n",
       "      <td>0.108</td>\n",
       "      <td></td>\n",
       "    </tr>\n",
       "    <tr>\n",
       "      <th>7</th>\n",
       "      <td>age[T.30 to 44]</td>\n",
       "      <td>1.972</td>\n",
       "      <td>97.2%</td>\n",
       "      <td>1.782</td>\n",
       "      <td>2.183</td>\n",
       "      <td>&lt; .001</td>\n",
       "      <td>***</td>\n",
       "    </tr>\n",
       "    <tr>\n",
       "      <th>8</th>\n",
       "      <td>age[T.45 to 59]</td>\n",
       "      <td>2.077</td>\n",
       "      <td>107.7%</td>\n",
       "      <td>1.870</td>\n",
       "      <td>2.308</td>\n",
       "      <td>&lt; .001</td>\n",
       "      <td>***</td>\n",
       "    </tr>\n",
       "    <tr>\n",
       "      <th>9</th>\n",
       "      <td>age[T.&gt;= 60]</td>\n",
       "      <td>1.080</td>\n",
       "      <td>8.0%</td>\n",
       "      <td>0.947</td>\n",
       "      <td>1.232</td>\n",
       "      <td>0.248</td>\n",
       "      <td></td>\n",
       "    </tr>\n",
       "    <tr>\n",
       "      <th>10</th>\n",
       "      <td>gender[T.F]</td>\n",
       "      <td>0.690</td>\n",
       "      <td>-31.0%</td>\n",
       "      <td>0.645</td>\n",
       "      <td>0.738</td>\n",
       "      <td>&lt; .001</td>\n",
       "      <td>***</td>\n",
       "    </tr>\n",
       "    <tr>\n",
       "      <th>35</th>\n",
       "      <td>income</td>\n",
       "      <td>1.300</td>\n",
       "      <td>30.0%</td>\n",
       "      <td>1.263</td>\n",
       "      <td>1.337</td>\n",
       "      <td>&lt; .001</td>\n",
       "      <td>***</td>\n",
       "    </tr>\n",
       "    <tr>\n",
       "      <th>42</th>\n",
       "      <td>education</td>\n",
       "      <td>1.032</td>\n",
       "      <td>3.2%</td>\n",
       "      <td>1.029</td>\n",
       "      <td>1.035</td>\n",
       "      <td>&lt; .001</td>\n",
       "      <td>***</td>\n",
       "    </tr>\n",
       "    <tr>\n",
       "      <th>49</th>\n",
       "      <td>children</td>\n",
       "      <td>1.244</td>\n",
       "      <td>24.4%</td>\n",
       "      <td>1.203</td>\n",
       "      <td>1.286</td>\n",
       "      <td>&lt; .001</td>\n",
       "      <td>***</td>\n",
       "    </tr>\n",
       "    <tr>\n",
       "      <th>56</th>\n",
       "      <td>freq_endurance</td>\n",
       "      <td>1.152</td>\n",
       "      <td>15.2%</td>\n",
       "      <td>1.129</td>\n",
       "      <td>1.175</td>\n",
       "      <td>&lt; .001</td>\n",
       "      <td>***</td>\n",
       "    </tr>\n",
       "    <tr>\n",
       "      <th>63</th>\n",
       "      <td>freq_strength</td>\n",
       "      <td>1.152</td>\n",
       "      <td>15.2%</td>\n",
       "      <td>1.130</td>\n",
       "      <td>1.174</td>\n",
       "      <td>&lt; .001</td>\n",
       "      <td>***</td>\n",
       "    </tr>\n",
       "    <tr>\n",
       "      <th>70</th>\n",
       "      <td>freq_water</td>\n",
       "      <td>1.167</td>\n",
       "      <td>16.7%</td>\n",
       "      <td>1.151</td>\n",
       "      <td>1.183</td>\n",
       "      <td>&lt; .001</td>\n",
       "      <td>***</td>\n",
       "    </tr>\n",
       "    <tr>\n",
       "      <th>77</th>\n",
       "      <td>freq_team</td>\n",
       "      <td>1.160</td>\n",
       "      <td>16.0%</td>\n",
       "      <td>1.139</td>\n",
       "      <td>1.181</td>\n",
       "      <td>&lt; .001</td>\n",
       "      <td>***</td>\n",
       "    </tr>\n",
       "    <tr>\n",
       "      <th>84</th>\n",
       "      <td>freq_backcountry</td>\n",
       "      <td>1.086</td>\n",
       "      <td>8.6%</td>\n",
       "      <td>1.062</td>\n",
       "      <td>1.110</td>\n",
       "      <td>&lt; .001</td>\n",
       "      <td>***</td>\n",
       "    </tr>\n",
       "    <tr>\n",
       "      <th>91</th>\n",
       "      <td>freq_winter</td>\n",
       "      <td>1.024</td>\n",
       "      <td>2.4%</td>\n",
       "      <td>1.009</td>\n",
       "      <td>1.040</td>\n",
       "      <td>0.002</td>\n",
       "      <td>**</td>\n",
       "    </tr>\n",
       "  </tbody>\n",
       "</table>\n",
       "</div>"
      ],
      "text/plain": [
       "                     index     OR     OR%   2.5%  97.5% p.values     \n",
       "1      message[T.strength]  0.641  -35.9%  0.526  0.782   < .001  ***\n",
       "2         message[T.water]  0.599  -40.1%  0.492  0.730   < .001  ***\n",
       "3          message[T.team]  0.605  -39.5%  0.497  0.737   < .001  ***\n",
       "4   message[T.backcountry]  0.827  -17.3%  0.681  1.004    0.055    .\n",
       "5        message[T.winter]  0.632  -36.8%  0.517  0.772   < .001  ***\n",
       "6       message[T.racquet]  0.847  -15.3%  0.692  1.037    0.108     \n",
       "7          age[T.30 to 44]  1.972   97.2%  1.782  2.183   < .001  ***\n",
       "8          age[T.45 to 59]  2.077  107.7%  1.870  2.308   < .001  ***\n",
       "9             age[T.>= 60]  1.080    8.0%  0.947  1.232    0.248     \n",
       "10             gender[T.F]  0.690  -31.0%  0.645  0.738   < .001  ***\n",
       "35                  income  1.300   30.0%  1.263  1.337   < .001  ***\n",
       "42               education  1.032    3.2%  1.029  1.035   < .001  ***\n",
       "49                children  1.244   24.4%  1.203  1.286   < .001  ***\n",
       "56          freq_endurance  1.152   15.2%  1.129  1.175   < .001  ***\n",
       "63           freq_strength  1.152   15.2%  1.130  1.174   < .001  ***\n",
       "70              freq_water  1.167   16.7%  1.151  1.183   < .001  ***\n",
       "77               freq_team  1.160   16.0%  1.139  1.181   < .001  ***\n",
       "84        freq_backcountry  1.086    8.6%  1.062  1.110   < .001  ***\n",
       "91             freq_winter  1.024    2.4%  1.009  1.040    0.002   **"
      ]
     },
     "execution_count": 53,
     "metadata": {},
     "output_type": "execute_result"
    }
   ],
   "source": [
    "rsm.or_ci(lr_std).iloc[list(range(10))+[34,41,48,55,62,69,76,83,90]]"
   ]
  },
  {
   "cell_type": "markdown",
   "metadata": {},
   "source": [
    "## 1.3.2 prediction"
   ]
  },
  {
   "cell_type": "code",
   "execution_count": 54,
   "metadata": {},
   "outputs": [],
   "source": [
    "pentathlon_nptb_std[\"p_random\"] = lr_std.predict(pentathlon_nptb_std)\n",
    "pentathlon_nptb_std[\"p_team\"] = lr_std.predict(pentathlon_nptb_std.assign(message=\"team\"))\n",
    "pentathlon_nptb_std[\"p_racquet\"] = lr_std.predict(pentathlon_nptb_std.assign(message=\"racquet\"))\n",
    "pentathlon_nptb_std[\"p_winter\"] = lr_std.predict(pentathlon_nptb_std.assign(message=\"winter\"))\n",
    "pentathlon_nptb_std[\"p_back\"] = lr_std.predict(pentathlon_nptb_std.assign(message=\"backcountry\"))\n",
    "pentathlon_nptb_std[\"p_water\"] = lr_std.predict(pentathlon_nptb_std.assign(message=\"water\"))\n",
    "pentathlon_nptb_std[\"p_strength\"] = lr_std.predict(pentathlon_nptb_std.assign(message=\"strength\"))\n",
    "pentathlon_nptb_std[\"p_endurance\"] = lr_std.predict(pentathlon_nptb_std.assign(message=\"endurance\"))"
   ]
  },
  {
   "cell_type": "code",
   "execution_count": 55,
   "metadata": {},
   "outputs": [
    {
     "data": {
      "text/html": [
       "<div>\n",
       "<style scoped>\n",
       "    .dataframe tbody tr th:only-of-type {\n",
       "        vertical-align: middle;\n",
       "    }\n",
       "\n",
       "    .dataframe tbody tr th {\n",
       "        vertical-align: top;\n",
       "    }\n",
       "\n",
       "    .dataframe thead th {\n",
       "        text-align: right;\n",
       "    }\n",
       "</style>\n",
       "<table border=\"1\" class=\"dataframe\">\n",
       "  <thead>\n",
       "    <tr style=\"text-align: right;\">\n",
       "      <th></th>\n",
       "      <th>custid</th>\n",
       "      <th>buyer</th>\n",
       "      <th>total_os</th>\n",
       "      <th>message</th>\n",
       "      <th>age</th>\n",
       "      <th>gender</th>\n",
       "      <th>income</th>\n",
       "      <th>education</th>\n",
       "      <th>children</th>\n",
       "      <th>freq_endurance</th>\n",
       "      <th>...</th>\n",
       "      <th>cweight</th>\n",
       "      <th>p_random</th>\n",
       "      <th>p_team</th>\n",
       "      <th>p_racquet</th>\n",
       "      <th>p_winter</th>\n",
       "      <th>p_back</th>\n",
       "      <th>p_water</th>\n",
       "      <th>p_strength</th>\n",
       "      <th>p_endurance</th>\n",
       "      <th>to_message</th>\n",
       "    </tr>\n",
       "  </thead>\n",
       "  <tbody>\n",
       "    <tr>\n",
       "      <th>0</th>\n",
       "      <td>U45198803</td>\n",
       "      <td>no</td>\n",
       "      <td>0.0</td>\n",
       "      <td>endurance</td>\n",
       "      <td>30 to 44</td>\n",
       "      <td>M</td>\n",
       "      <td>-1.344562</td>\n",
       "      <td>14</td>\n",
       "      <td>0.809804</td>\n",
       "      <td>-0.636716</td>\n",
       "      <td>...</td>\n",
       "      <td>99</td>\n",
       "      <td>0.002200</td>\n",
       "      <td>0.002404</td>\n",
       "      <td>0.001930</td>\n",
       "      <td>0.001840</td>\n",
       "      <td>0.001525</td>\n",
       "      <td>0.002530</td>\n",
       "      <td>0.002491</td>\n",
       "      <td>0.002200</td>\n",
       "      <td>water</td>\n",
       "    </tr>\n",
       "    <tr>\n",
       "      <th>1</th>\n",
       "      <td>U22197752</td>\n",
       "      <td>no</td>\n",
       "      <td>0.0</td>\n",
       "      <td>backcountry</td>\n",
       "      <td>45 to 59</td>\n",
       "      <td>F</td>\n",
       "      <td>-0.460106</td>\n",
       "      <td>44</td>\n",
       "      <td>-1.109431</td>\n",
       "      <td>0.810590</td>\n",
       "      <td>...</td>\n",
       "      <td>99</td>\n",
       "      <td>0.006291</td>\n",
       "      <td>0.005931</td>\n",
       "      <td>0.004949</td>\n",
       "      <td>0.004404</td>\n",
       "      <td>0.006291</td>\n",
       "      <td>0.006965</td>\n",
       "      <td>0.004228</td>\n",
       "      <td>0.006259</td>\n",
       "      <td>water</td>\n",
       "    </tr>\n",
       "    <tr>\n",
       "      <th>2</th>\n",
       "      <td>U83874832</td>\n",
       "      <td>no</td>\n",
       "      <td>0.0</td>\n",
       "      <td>backcountry</td>\n",
       "      <td>45 to 59</td>\n",
       "      <td>M</td>\n",
       "      <td>0.129531</td>\n",
       "      <td>24</td>\n",
       "      <td>-0.256438</td>\n",
       "      <td>-0.636716</td>\n",
       "      <td>...</td>\n",
       "      <td>99</td>\n",
       "      <td>0.006381</td>\n",
       "      <td>0.006358</td>\n",
       "      <td>0.005794</td>\n",
       "      <td>0.003937</td>\n",
       "      <td>0.006381</td>\n",
       "      <td>0.005057</td>\n",
       "      <td>0.004200</td>\n",
       "      <td>0.006276</td>\n",
       "      <td>backcountry</td>\n",
       "    </tr>\n",
       "    <tr>\n",
       "      <th>3</th>\n",
       "      <td>U19423462</td>\n",
       "      <td>no</td>\n",
       "      <td>0.0</td>\n",
       "      <td>winter</td>\n",
       "      <td>45 to 59</td>\n",
       "      <td>F</td>\n",
       "      <td>0.129531</td>\n",
       "      <td>26</td>\n",
       "      <td>0.383307</td>\n",
       "      <td>0.086937</td>\n",
       "      <td>...</td>\n",
       "      <td>99</td>\n",
       "      <td>0.003548</td>\n",
       "      <td>0.003037</td>\n",
       "      <td>0.002831</td>\n",
       "      <td>0.003548</td>\n",
       "      <td>0.003715</td>\n",
       "      <td>0.004073</td>\n",
       "      <td>0.003333</td>\n",
       "      <td>0.004763</td>\n",
       "      <td>endurance</td>\n",
       "    </tr>\n",
       "    <tr>\n",
       "      <th>4</th>\n",
       "      <td>U23888305</td>\n",
       "      <td>no</td>\n",
       "      <td>0.0</td>\n",
       "      <td>winter</td>\n",
       "      <td>30 to 44</td>\n",
       "      <td>M</td>\n",
       "      <td>-0.460106</td>\n",
       "      <td>22</td>\n",
       "      <td>0.170059</td>\n",
       "      <td>0.086937</td>\n",
       "      <td>...</td>\n",
       "      <td>99</td>\n",
       "      <td>0.004178</td>\n",
       "      <td>0.004534</td>\n",
       "      <td>0.004410</td>\n",
       "      <td>0.004178</td>\n",
       "      <td>0.003614</td>\n",
       "      <td>0.004843</td>\n",
       "      <td>0.005803</td>\n",
       "      <td>0.004756</td>\n",
       "      <td>strength</td>\n",
       "    </tr>\n",
       "    <tr>\n",
       "      <th>...</th>\n",
       "      <td>...</td>\n",
       "      <td>...</td>\n",
       "      <td>...</td>\n",
       "      <td>...</td>\n",
       "      <td>...</td>\n",
       "      <td>...</td>\n",
       "      <td>...</td>\n",
       "      <td>...</td>\n",
       "      <td>...</td>\n",
       "      <td>...</td>\n",
       "      <td>...</td>\n",
       "      <td>...</td>\n",
       "      <td>...</td>\n",
       "      <td>...</td>\n",
       "      <td>...</td>\n",
       "      <td>...</td>\n",
       "      <td>...</td>\n",
       "      <td>...</td>\n",
       "      <td>...</td>\n",
       "      <td>...</td>\n",
       "      <td>...</td>\n",
       "    </tr>\n",
       "    <tr>\n",
       "      <th>199995</th>\n",
       "      <td>U54280824</td>\n",
       "      <td>yes</td>\n",
       "      <td>448.0</td>\n",
       "      <td>backcountry</td>\n",
       "      <td>45 to 59</td>\n",
       "      <td>F</td>\n",
       "      <td>2.193262</td>\n",
       "      <td>55</td>\n",
       "      <td>0.596556</td>\n",
       "      <td>-0.636716</td>\n",
       "      <td>...</td>\n",
       "      <td>1</td>\n",
       "      <td>0.027302</td>\n",
       "      <td>0.045483</td>\n",
       "      <td>0.026445</td>\n",
       "      <td>0.089961</td>\n",
       "      <td>0.027302</td>\n",
       "      <td>0.046097</td>\n",
       "      <td>0.025438</td>\n",
       "      <td>0.040084</td>\n",
       "      <td>winter</td>\n",
       "    </tr>\n",
       "    <tr>\n",
       "      <th>199996</th>\n",
       "      <td>U99229186</td>\n",
       "      <td>yes</td>\n",
       "      <td>52.0</td>\n",
       "      <td>strength</td>\n",
       "      <td>45 to 59</td>\n",
       "      <td>M</td>\n",
       "      <td>0.424350</td>\n",
       "      <td>53</td>\n",
       "      <td>-0.043189</td>\n",
       "      <td>0.086937</td>\n",
       "      <td>...</td>\n",
       "      <td>1</td>\n",
       "      <td>0.025599</td>\n",
       "      <td>0.024537</td>\n",
       "      <td>0.025793</td>\n",
       "      <td>0.019092</td>\n",
       "      <td>0.022117</td>\n",
       "      <td>0.032335</td>\n",
       "      <td>0.025599</td>\n",
       "      <td>0.043939</td>\n",
       "      <td>endurance</td>\n",
       "    </tr>\n",
       "    <tr>\n",
       "      <th>199997</th>\n",
       "      <td>U83335706</td>\n",
       "      <td>no</td>\n",
       "      <td>0.0</td>\n",
       "      <td>racquet</td>\n",
       "      <td>&gt;= 60</td>\n",
       "      <td>F</td>\n",
       "      <td>0.129531</td>\n",
       "      <td>33</td>\n",
       "      <td>2.729039</td>\n",
       "      <td>0.086937</td>\n",
       "      <td>...</td>\n",
       "      <td>99</td>\n",
       "      <td>0.006428</td>\n",
       "      <td>0.010154</td>\n",
       "      <td>0.006428</td>\n",
       "      <td>0.006863</td>\n",
       "      <td>0.004997</td>\n",
       "      <td>0.014491</td>\n",
       "      <td>0.007140</td>\n",
       "      <td>0.009415</td>\n",
       "      <td>water</td>\n",
       "    </tr>\n",
       "    <tr>\n",
       "      <th>199998</th>\n",
       "      <td>U33721691</td>\n",
       "      <td>no</td>\n",
       "      <td>0.0</td>\n",
       "      <td>strength</td>\n",
       "      <td>30 to 44</td>\n",
       "      <td>M</td>\n",
       "      <td>-1.344562</td>\n",
       "      <td>10</td>\n",
       "      <td>0.809804</td>\n",
       "      <td>-0.636716</td>\n",
       "      <td>...</td>\n",
       "      <td>99</td>\n",
       "      <td>0.001861</td>\n",
       "      <td>0.001727</td>\n",
       "      <td>0.001498</td>\n",
       "      <td>0.001442</td>\n",
       "      <td>0.001207</td>\n",
       "      <td>0.001953</td>\n",
       "      <td>0.001861</td>\n",
       "      <td>0.001814</td>\n",
       "      <td>water</td>\n",
       "    </tr>\n",
       "    <tr>\n",
       "      <th>199999</th>\n",
       "      <td>U23361779</td>\n",
       "      <td>yes</td>\n",
       "      <td>25.0</td>\n",
       "      <td>strength</td>\n",
       "      <td>45 to 59</td>\n",
       "      <td>M</td>\n",
       "      <td>5.731087</td>\n",
       "      <td>78</td>\n",
       "      <td>-0.469686</td>\n",
       "      <td>3.705201</td>\n",
       "      <td>...</td>\n",
       "      <td>1</td>\n",
       "      <td>0.731445</td>\n",
       "      <td>0.482509</td>\n",
       "      <td>0.702862</td>\n",
       "      <td>0.690843</td>\n",
       "      <td>0.711790</td>\n",
       "      <td>0.698284</td>\n",
       "      <td>0.731445</td>\n",
       "      <td>0.796667</td>\n",
       "      <td>endurance</td>\n",
       "    </tr>\n",
       "  </tbody>\n",
       "</table>\n",
       "<p>200000 rows × 36 columns</p>\n",
       "</div>"
      ],
      "text/plain": [
       "           custid buyer  total_os      message       age gender    income  \\\n",
       "0       U45198803    no       0.0    endurance  30 to 44      M -1.344562   \n",
       "1       U22197752    no       0.0  backcountry  45 to 59      F -0.460106   \n",
       "2       U83874832    no       0.0  backcountry  45 to 59      M  0.129531   \n",
       "3       U19423462    no       0.0       winter  45 to 59      F  0.129531   \n",
       "4       U23888305    no       0.0       winter  30 to 44      M -0.460106   \n",
       "...           ...   ...       ...          ...       ...    ...       ...   \n",
       "199995  U54280824   yes     448.0  backcountry  45 to 59      F  2.193262   \n",
       "199996  U99229186   yes      52.0     strength  45 to 59      M  0.424350   \n",
       "199997  U83335706    no       0.0      racquet     >= 60      F  0.129531   \n",
       "199998  U33721691    no       0.0     strength  30 to 44      M -1.344562   \n",
       "199999  U23361779   yes      25.0     strength  45 to 59      M  5.731087   \n",
       "\n",
       "        education  children  freq_endurance  ...  cweight  p_random    p_team  \\\n",
       "0              14  0.809804       -0.636716  ...       99  0.002200  0.002404   \n",
       "1              44 -1.109431        0.810590  ...       99  0.006291  0.005931   \n",
       "2              24 -0.256438       -0.636716  ...       99  0.006381  0.006358   \n",
       "3              26  0.383307        0.086937  ...       99  0.003548  0.003037   \n",
       "4              22  0.170059        0.086937  ...       99  0.004178  0.004534   \n",
       "...           ...       ...             ...  ...      ...       ...       ...   \n",
       "199995         55  0.596556       -0.636716  ...        1  0.027302  0.045483   \n",
       "199996         53 -0.043189        0.086937  ...        1  0.025599  0.024537   \n",
       "199997         33  2.729039        0.086937  ...       99  0.006428  0.010154   \n",
       "199998         10  0.809804       -0.636716  ...       99  0.001861  0.001727   \n",
       "199999         78 -0.469686        3.705201  ...        1  0.731445  0.482509   \n",
       "\n",
       "        p_racquet  p_winter    p_back   p_water  p_strength  p_endurance  \\\n",
       "0        0.001930  0.001840  0.001525  0.002530    0.002491     0.002200   \n",
       "1        0.004949  0.004404  0.006291  0.006965    0.004228     0.006259   \n",
       "2        0.005794  0.003937  0.006381  0.005057    0.004200     0.006276   \n",
       "3        0.002831  0.003548  0.003715  0.004073    0.003333     0.004763   \n",
       "4        0.004410  0.004178  0.003614  0.004843    0.005803     0.004756   \n",
       "...           ...       ...       ...       ...         ...          ...   \n",
       "199995   0.026445  0.089961  0.027302  0.046097    0.025438     0.040084   \n",
       "199996   0.025793  0.019092  0.022117  0.032335    0.025599     0.043939   \n",
       "199997   0.006428  0.006863  0.004997  0.014491    0.007140     0.009415   \n",
       "199998   0.001498  0.001442  0.001207  0.001953    0.001861     0.001814   \n",
       "199999   0.702862  0.690843  0.711790  0.698284    0.731445     0.796667   \n",
       "\n",
       "         to_message  \n",
       "0             water  \n",
       "1             water  \n",
       "2       backcountry  \n",
       "3         endurance  \n",
       "4          strength  \n",
       "...             ...  \n",
       "199995       winter  \n",
       "199996    endurance  \n",
       "199997        water  \n",
       "199998        water  \n",
       "199999    endurance  \n",
       "\n",
       "[200000 rows x 36 columns]"
      ]
     },
     "execution_count": 55,
     "metadata": {},
     "output_type": "execute_result"
    }
   ],
   "source": [
    "pentathlon_nptb_std[\"to_message\"] = (\n",
    "    pentathlon_nptb_std[[\"p_team\", \"p_racquet\", \"p_winter\", \"p_back\", \"p_water\", \"p_strength\", \"p_endurance\"]]\n",
    "    .idxmax(axis=1)\n",
    "    .str.replace(\"p_team\", \"team\")\n",
    "    .replace(\"p_racquet\", \"racquet\")\n",
    "    .replace(\"p_winter\", \"winter\")\n",
    "    .replace(\"p_back\", \"backcountry\")\n",
    "    .replace(\"p_water\", \"water\")\n",
    "    .replace(\"p_strength\", \"strength\")\n",
    "    .replace(\"p_endurance\", \"endurance\")\n",
    ")\n",
    "pentathlon_nptb_std\n"
   ]
  },
  {
   "cell_type": "code",
   "execution_count": 56,
   "metadata": {},
   "outputs": [
    {
     "data": {
      "text/html": [
       "<div>\n",
       "<style scoped>\n",
       "    .dataframe tbody tr th:only-of-type {\n",
       "        vertical-align: middle;\n",
       "    }\n",
       "\n",
       "    .dataframe tbody tr th {\n",
       "        vertical-align: top;\n",
       "    }\n",
       "\n",
       "    .dataframe thead th {\n",
       "        text-align: right;\n",
       "    }\n",
       "</style>\n",
       "<table border=\"1\" class=\"dataframe\">\n",
       "  <thead>\n",
       "    <tr style=\"text-align: right;\">\n",
       "      <th>col_0</th>\n",
       "      <th>count</th>\n",
       "    </tr>\n",
       "    <tr>\n",
       "      <th>to_message</th>\n",
       "      <th></th>\n",
       "    </tr>\n",
       "  </thead>\n",
       "  <tbody>\n",
       "    <tr>\n",
       "      <th>backcountry</th>\n",
       "      <td>8,199</td>\n",
       "    </tr>\n",
       "    <tr>\n",
       "      <th>endurance</th>\n",
       "      <td>77,291</td>\n",
       "    </tr>\n",
       "    <tr>\n",
       "      <th>racquet</th>\n",
       "      <td>5,573</td>\n",
       "    </tr>\n",
       "    <tr>\n",
       "      <th>strength</th>\n",
       "      <td>46,464</td>\n",
       "    </tr>\n",
       "    <tr>\n",
       "      <th>team</th>\n",
       "      <td>22,312</td>\n",
       "    </tr>\n",
       "    <tr>\n",
       "      <th>water</th>\n",
       "      <td>32,850</td>\n",
       "    </tr>\n",
       "    <tr>\n",
       "      <th>winter</th>\n",
       "      <td>7,311</td>\n",
       "    </tr>\n",
       "  </tbody>\n",
       "</table>\n",
       "</div>"
      ],
      "text/plain": [
       "col_0         count\n",
       "to_message         \n",
       "backcountry   8,199\n",
       "endurance    77,291\n",
       "racquet       5,573\n",
       "strength     46,464\n",
       "team         22,312\n",
       "water        32,850\n",
       "winter        7,311"
      ]
     },
     "execution_count": 56,
     "metadata": {},
     "output_type": "execute_result"
    }
   ],
   "source": [
    "pd.crosstab(index=pentathlon_nptb_std.to_message, columns=\"count\").apply(rsm.format_nr)"
   ]
  },
  {
   "cell_type": "code",
   "execution_count": 57,
   "metadata": {},
   "outputs": [],
   "source": [
    "pentathlon_nptb_std[\"p_targeti\"] = pentathlon_nptb_std[[\"p_team\", \"p_racquet\", \"p_winter\", \"p_back\", \"p_water\", \"p_strength\", \"p_endurance\"]].max(axis=1)"
   ]
  },
  {
   "cell_type": "code",
   "execution_count": 58,
   "metadata": {},
   "outputs": [
    {
     "data": {
      "text/plain": [
       "p_targeti      4.41%\n",
       "p_strength     3.69%\n",
       "p_endurance    3.62%\n",
       "p_winter       3.28%\n",
       "p_racquet      2.99%\n",
       "p_water        2.94%\n",
       "p_back         2.91%\n",
       "p_team         2.84%\n",
       "dtype: object"
      ]
     },
     "execution_count": 58,
     "metadata": {},
     "output_type": "execute_result"
    }
   ],
   "source": [
    "pentathlon_nptb_std[[\"p_team\", \"p_racquet\", \"p_winter\", \"p_back\", \"p_water\", \"p_strength\", \"p_endurance\", \"p_targeti\"]].agg(np.mean).sort_values(\n",
    "    ascending=False\n",
    ").apply(rsm.format_nr, perc=True)"
   ]
  },
  {
   "cell_type": "code",
   "execution_count": 59,
   "metadata": {},
   "outputs": [
    {
     "data": {
      "text/html": [
       "<div>\n",
       "<style scoped>\n",
       "    .dataframe tbody tr th:only-of-type {\n",
       "        vertical-align: middle;\n",
       "    }\n",
       "\n",
       "    .dataframe tbody tr th {\n",
       "        vertical-align: top;\n",
       "    }\n",
       "\n",
       "    .dataframe thead th {\n",
       "        text-align: right;\n",
       "    }\n",
       "</style>\n",
       "<table border=\"1\" class=\"dataframe\">\n",
       "  <thead>\n",
       "    <tr style=\"text-align: right;\">\n",
       "      <th></th>\n",
       "      <th>to_message</th>\n",
       "    </tr>\n",
       "  </thead>\n",
       "  <tbody>\n",
       "    <tr>\n",
       "      <th>endurance</th>\n",
       "      <td>40.62%</td>\n",
       "    </tr>\n",
       "    <tr>\n",
       "      <th>strength</th>\n",
       "      <td>20.49%</td>\n",
       "    </tr>\n",
       "    <tr>\n",
       "      <th>water</th>\n",
       "      <td>18.55%</td>\n",
       "    </tr>\n",
       "    <tr>\n",
       "      <th>team</th>\n",
       "      <td>10.95%</td>\n",
       "    </tr>\n",
       "    <tr>\n",
       "      <th>backcountry</th>\n",
       "      <td>4.35%</td>\n",
       "    </tr>\n",
       "    <tr>\n",
       "      <th>racquet</th>\n",
       "      <td>3.21%</td>\n",
       "    </tr>\n",
       "    <tr>\n",
       "      <th>winter</th>\n",
       "      <td>1.83%</td>\n",
       "    </tr>\n",
       "  </tbody>\n",
       "</table>\n",
       "</div>"
      ],
      "text/plain": [
       "            to_message\n",
       "endurance       40.62%\n",
       "strength        20.49%\n",
       "water           18.55%\n",
       "team            10.95%\n",
       "backcountry      4.35%\n",
       "racquet          3.21%\n",
       "winter           1.83%"
      ]
     },
     "execution_count": 59,
     "metadata": {},
     "output_type": "execute_result"
    }
   ],
   "source": [
    "pd.DataFrame(\n",
    "    pentathlon_nptb_std.loc[pentathlon_nptb_std.representative==1,'to_message']\n",
    "    .value_counts(normalize=True,ascending=False)\n",
    "    .apply(rsm.format_nr,perc=True)\n",
    ")"
   ]
  },
  {
   "cell_type": "markdown",
   "metadata": {},
   "source": [
    "- Messages focused on Endurance lead to the highest probability of purchase in over 40% of cases.\n",
    "- Predicted purchase probability for Winter and Racquet is seldom highest"
   ]
  },
  {
   "cell_type": "markdown",
   "metadata": {},
   "source": [
    "## 1.3.3 expected profit"
   ]
  },
  {
   "cell_type": "markdown",
   "metadata": {},
   "source": [
    "We have two methods to predict the profit, the first one is to calculate the average ordersize for each category and another one is to use a machine learning models to make a prediction. "
   ]
  },
  {
   "cell_type": "code",
   "execution_count": 60,
   "metadata": {},
   "outputs": [
    {
     "data": {
      "image/png": "[encoded data removed]",
      "text/plain": [
       "<Figure size 432x288 with 1 Axes>"
      ]
     },
     "metadata": {
      "needs_background": "light"
     },
     "output_type": "display_data"
    }
   ],
   "source": [
    "## check order size distribution\n",
    "fig = train_std.query(\"buyer=='yes'\").total_os.plot.hist(bins=30)"
   ]
  },
  {
   "cell_type": "markdown",
   "metadata": {},
   "source": [
    "From the histogram above, we figure out that the toal_os is highly right skewed, therefore, we need to transform the ordersize into log"
   ]
  },
  {
   "cell_type": "code",
   "execution_count": 61,
   "metadata": {},
   "outputs": [
    {
     "data": {
      "image/png": "[encoded data removed]",
      "text/plain": [
       "<Figure size 432x288 with 1 Axes>"
      ]
     },
     "metadata": {
      "needs_background": "light"
     },
     "output_type": "display_data"
    }
   ],
   "source": [
    "fig = np.log(\n",
    "    train_std.query(\"buyer=='yes'\").total_os\n",
    ").plot.hist(bins=30)"
   ]
  },
  {
   "cell_type": "markdown",
   "metadata": {},
   "source": [
    "After transformation, the distribution looks well, therefore we will use log ordersize as the dependent variable"
   ]
  },
  {
   "cell_type": "code",
   "execution_count": 62,
   "metadata": {},
   "outputs": [
    {
     "name": "stderr",
     "output_type": "stream",
     "text": [
      "/Users/hanqingdou/opt/anaconda3/lib/python3.9/site-packages/pandas/core/arraylike.py:364: RuntimeWarning: divide by zero encountered in log\n",
      "  result = getattr(ufunc, method)(*inputs, **kwargs)\n"
     ]
    }
   ],
   "source": [
    "pentathlon_nptb_std['os_log'] = np.log(pentathlon_nptb_std['total_os'])"
   ]
  },
  {
   "cell_type": "code",
   "execution_count": 63,
   "metadata": {},
   "outputs": [],
   "source": [
    "pentathlon_nptb_std['os_log'].replace([np.inf, -np.inf], 0, inplace=True)"
   ]
  },
  {
   "cell_type": "code",
   "execution_count": 64,
   "metadata": {},
   "outputs": [],
   "source": [
    "nn_col = pentathlon_nptb_std.loc[:,'message':'freq_racquet'].columns\n",
    "other = rsm.setdiff(nn_col,['gender','age','message'])"
   ]
  },
  {
   "cell_type": "code",
   "execution_count": 65,
   "metadata": {},
   "outputs": [],
   "source": [
    "dummy = pd.get_dummies(pentathlon_nptb_std[[\"gender\",'age','message']], drop_first=True)"
   ]
  },
  {
   "cell_type": "code",
   "execution_count": 66,
   "metadata": {},
   "outputs": [],
   "source": [
    "new_col = other+list(dummy.columns)"
   ]
  },
  {
   "cell_type": "code",
   "execution_count": 67,
   "metadata": {},
   "outputs": [],
   "source": [
    "pentathlon_nptb_std2 = pd.concat([pentathlon_nptb_std,dummy],axis=1)"
   ]
  },
  {
   "cell_type": "code",
   "execution_count": 68,
   "metadata": {},
   "outputs": [],
   "source": [
    "train = pentathlon_nptb_std2.query(\"training ==1\")\n",
    "test = pentathlon_nptb_std2.query(\"training ==0\")"
   ]
  },
  {
   "cell_type": "code",
   "execution_count": 69,
   "metadata": {},
   "outputs": [],
   "source": [
    "X_train = train[new_col]\n",
    "X_test = test[new_col]\n",
    "\n",
    "y_train = train['os_log']\n",
    "y_test = test['os_log']"
   ]
  },
  {
   "cell_type": "code",
   "execution_count": 70,
   "metadata": {},
   "outputs": [],
   "source": [
    "def nn(X, y, hlsizes=(1,), alpha=0.0001, max_iter=10000):\n",
    "    return MLPRegressor(\n",
    "        activation=\"tanh\",\n",
    "        solver=\"lbfgs\",\n",
    "        hidden_layer_sizes=hlsizes,\n",
    "        alpha=alpha,\n",
    "        random_state=1234,\n",
    "        max_iter=max_iter).fit(X, y)"
   ]
  },
  {
   "cell_type": "code",
   "execution_count": 71,
   "metadata": {},
   "outputs": [],
   "source": [
    "reg = nn(X_train,y_train)"
   ]
  },
  {
   "cell_type": "code",
   "execution_count": null,
   "metadata": {},
   "outputs": [],
   "source": [
    "hls = [(1,), (2,), (3,), (3, 3), (4, 2), (5, 5)]\n",
    "reg_scorer = {\n",
    "    'r2':metrics.make_scorer(metrics.r2_score),\n",
    "    'mse':metrics.make_scorer(metrics.mean_squared_error),\n",
    "}\n",
    "\n",
    "param_grid = {\"hidden_layer_sizes\": hls,\n",
    "             \"alpha\":[0.001,0.01,0.05,0.1,0.5]}\n",
    "\n",
    "reg_cv = GridSearchCV(   \n",
    "    reg,param_grid,scoring=reg_scorer, cv=5, n_jobs=4,refit='r2',verbose=5\n",
    ").fit(X_train,y_train)"
   ]
  },
  {
   "cell_type": "code",
   "execution_count": 175,
   "metadata": {},
   "outputs": [],
   "source": [
    "rsm.save_state({\"reg_cv\":reg_cv},path = 'reg_cv.pkl')"
   ]
  },
  {
   "cell_type": "code",
   "execution_count": 83,
   "metadata": {},
   "outputs": [],
   "source": [
    "reg_cv = pd.read_pickle('reg_cv.pkl')"
   ]
  },
  {
   "cell_type": "code",
   "execution_count": 84,
   "metadata": {},
   "outputs": [],
   "source": [
    "reg_cv = reg_cv['reg_cv']"
   ]
  },
  {
   "cell_type": "markdown",
   "metadata": {},
   "source": [
    "#### Predict order size for 7 messages using NN"
   ]
  },
  {
   "cell_type": "code",
   "execution_count": 78,
   "metadata": {},
   "outputs": [],
   "source": [
    "levels = pentathlon_nptb_std2.message.cat.categories\n",
    "\n",
    "def assigner(df,message):\n",
    "    df=df.copy()\n",
    "    for l in levels[1:]:\n",
    "        df['message_'+l] = rsm.ifelse(l == message,1,0)\n",
    "    return df"
   ]
  },
  {
   "cell_type": "code",
   "execution_count": 79,
   "metadata": {},
   "outputs": [],
   "source": [
    "Xs = pentathlon_nptb_std2[new_col]"
   ]
  },
  {
   "cell_type": "code",
   "execution_count": 85,
   "metadata": {},
   "outputs": [],
   "source": [
    "pentathlon_nptb_std2 = pentathlon_nptb_std2.assign(\n",
    "    os_random = reg_cv.predict(Xs),\n",
    "    os_endurance = reg_cv.predict(assigner(Xs,'endurance')),\n",
    "    os_strength= reg_cv.predict(assigner(Xs,'strength')),\n",
    "    os_water= reg_cv.predict(assigner(Xs,'water')),\n",
    "    os_team= reg_cv.predict(assigner(Xs,'team')),\n",
    "    os_backcountry= reg_cv.predict(assigner(Xs,'backcountry')),\n",
    "    os_winter= reg_cv.predict(assigner(Xs,'winter')),\n",
    "    os_racquet= reg_cv.predict(assigner(Xs,'racquet')),\n",
    ")"
   ]
  },
  {
   "cell_type": "code",
   "execution_count": 86,
   "metadata": {},
   "outputs": [],
   "source": [
    "pentathlon_nptb_std2 = pentathlon_nptb_std2.assign(\n",
    "    ep_random = pentathlon_nptb_std2.p_random * np.exp(pentathlon_nptb_std2.os_random) *0.4,\n",
    "    ep_endurance = pentathlon_nptb_std2.p_endurance * np.exp(pentathlon_nptb_std2.os_endurance) *0.4,\n",
    "    ep_strength = pentathlon_nptb_std2.p_strength * np.exp(pentathlon_nptb_std2.os_strength) *0.4,\n",
    "    ep_water = pentathlon_nptb_std2.p_water * np.exp(pentathlon_nptb_std2.os_water) *0.4,\n",
    "    ep_team = pentathlon_nptb_std2.p_team * np.exp(pentathlon_nptb_std2.os_team) *0.4,\n",
    "    ep_backcountry = pentathlon_nptb_std2.p_back * np.exp(pentathlon_nptb_std2.os_backcountry) *0.4,\n",
    "    ep_winter = pentathlon_nptb_std2.p_winter * np.exp(pentathlon_nptb_std2.os_winter) *0.4,\n",
    "    ep_racquet = pentathlon_nptb_std2.p_racquet * np.exp(pentathlon_nptb_std2.os_racquet) *0.4,\n",
    ")"
   ]
  },
  {
   "cell_type": "code",
   "execution_count": 87,
   "metadata": {},
   "outputs": [],
   "source": [
    "pentathlon_nptb_std2[\"to_message_ep\"] = (\n",
    "    pentathlon_nptb_std2[[\"ep_team\", \"ep_racquet\", \"ep_winter\", \"ep_backcountry\", \"ep_water\", \"ep_strength\", \"ep_endurance\"]]\n",
    "    .idxmax(axis=1)\n",
    "    .str.replace(\"ep_team\", \"team\")\n",
    "    .replace(\"ep_racquet\", \"racquet\")\n",
    "    .replace(\"ep_winter\", \"winter\")\n",
    "    .replace(\"ep_backcountry\", \"backcountry\")\n",
    "    .replace(\"ep_water\", \"water\")\n",
    "    .replace(\"ep_strength\", \"strength\")\n",
    "    .replace(\"ep_endurance\", \"endurance\")\n",
    ")"
   ]
  },
  {
   "cell_type": "code",
   "execution_count": 88,
   "metadata": {},
   "outputs": [],
   "source": [
    "pentathlon_nptb_std2[\"ep_targeti\"] = pentathlon_nptb_std2[[\"ep_team\", \"ep_racquet\", \"ep_winter\", \"ep_backcountry\", \"ep_water\", \"ep_strength\", \"ep_endurance\"]].max(axis=1)"
   ]
  },
  {
   "cell_type": "code",
   "execution_count": 89,
   "metadata": {},
   "outputs": [
    {
     "data": {
      "text/html": [
       "<div>\n",
       "<style scoped>\n",
       "    .dataframe tbody tr th:only-of-type {\n",
       "        vertical-align: middle;\n",
       "    }\n",
       "\n",
       "    .dataframe tbody tr th {\n",
       "        vertical-align: top;\n",
       "    }\n",
       "\n",
       "    .dataframe thead th {\n",
       "        text-align: right;\n",
       "    }\n",
       "</style>\n",
       "<table border=\"1\" class=\"dataframe\">\n",
       "  <thead>\n",
       "    <tr style=\"text-align: right;\">\n",
       "      <th></th>\n",
       "      <th>to_message</th>\n",
       "    </tr>\n",
       "  </thead>\n",
       "  <tbody>\n",
       "    <tr>\n",
       "      <th>endurance</th>\n",
       "      <td>40.62%</td>\n",
       "    </tr>\n",
       "    <tr>\n",
       "      <th>strength</th>\n",
       "      <td>20.49%</td>\n",
       "    </tr>\n",
       "    <tr>\n",
       "      <th>water</th>\n",
       "      <td>18.55%</td>\n",
       "    </tr>\n",
       "    <tr>\n",
       "      <th>team</th>\n",
       "      <td>10.95%</td>\n",
       "    </tr>\n",
       "    <tr>\n",
       "      <th>backcountry</th>\n",
       "      <td>4.35%</td>\n",
       "    </tr>\n",
       "    <tr>\n",
       "      <th>racquet</th>\n",
       "      <td>3.21%</td>\n",
       "    </tr>\n",
       "    <tr>\n",
       "      <th>winter</th>\n",
       "      <td>1.83%</td>\n",
       "    </tr>\n",
       "  </tbody>\n",
       "</table>\n",
       "</div>"
      ],
      "text/plain": [
       "            to_message\n",
       "endurance       40.62%\n",
       "strength        20.49%\n",
       "water           18.55%\n",
       "team            10.95%\n",
       "backcountry      4.35%\n",
       "racquet          3.21%\n",
       "winter           1.83%"
      ]
     },
     "execution_count": 89,
     "metadata": {},
     "output_type": "execute_result"
    }
   ],
   "source": [
    "pd.DataFrame(\n",
    "    pentathlon_nptb_std2.loc[pentathlon_nptb_std2.representative==1,'to_message']\n",
    "    .value_counts(normalize=True,ascending=False)\n",
    "    .apply(rsm.format_nr,perc=True)\n",
    ")"
   ]
  },
  {
   "cell_type": "code",
   "execution_count": 90,
   "metadata": {},
   "outputs": [
    {
     "data": {
      "text/html": [
       "<div>\n",
       "<style scoped>\n",
       "    .dataframe tbody tr th:only-of-type {\n",
       "        vertical-align: middle;\n",
       "    }\n",
       "\n",
       "    .dataframe tbody tr th {\n",
       "        vertical-align: top;\n",
       "    }\n",
       "\n",
       "    .dataframe thead th {\n",
       "        text-align: right;\n",
       "    }\n",
       "</style>\n",
       "<table border=\"1\" class=\"dataframe\">\n",
       "  <thead>\n",
       "    <tr style=\"text-align: right;\">\n",
       "      <th></th>\n",
       "      <th>to_message_ep</th>\n",
       "    </tr>\n",
       "  </thead>\n",
       "  <tbody>\n",
       "    <tr>\n",
       "      <th>endurance</th>\n",
       "      <td>41.79%</td>\n",
       "    </tr>\n",
       "    <tr>\n",
       "      <th>strength</th>\n",
       "      <td>21.75%</td>\n",
       "    </tr>\n",
       "    <tr>\n",
       "      <th>water</th>\n",
       "      <td>19.87%</td>\n",
       "    </tr>\n",
       "    <tr>\n",
       "      <th>team</th>\n",
       "      <td>8.29%</td>\n",
       "    </tr>\n",
       "    <tr>\n",
       "      <th>backcountry</th>\n",
       "      <td>3.6%</td>\n",
       "    </tr>\n",
       "    <tr>\n",
       "      <th>racquet</th>\n",
       "      <td>2.81%</td>\n",
       "    </tr>\n",
       "    <tr>\n",
       "      <th>winter</th>\n",
       "      <td>1.88%</td>\n",
       "    </tr>\n",
       "  </tbody>\n",
       "</table>\n",
       "</div>"
      ],
      "text/plain": [
       "            to_message_ep\n",
       "endurance          41.79%\n",
       "strength           21.75%\n",
       "water              19.87%\n",
       "team                8.29%\n",
       "backcountry          3.6%\n",
       "racquet             2.81%\n",
       "winter              1.88%"
      ]
     },
     "execution_count": 90,
     "metadata": {},
     "output_type": "execute_result"
    }
   ],
   "source": [
    "pd.DataFrame(\n",
    "    pentathlon_nptb_std2.loc[pentathlon_nptb_std2.representative==1,'to_message_ep']\n",
    "    .value_counts(normalize=True,ascending=False)\n",
    "    .apply(rsm.format_nr,perc=True)\n",
    ")"
   ]
  },
  {
   "cell_type": "code",
   "execution_count": null,
   "metadata": {},
   "outputs": [],
   "source": []
  },
  {
   "cell_type": "markdown",
   "metadata": {},
   "source": [
    "### Policy Weakness\n",
    "\n",
    ">The propose allocating messages for the next month based on a customer's response to her two 'best' messages. However, in this proposal, a customer is never sent messages other than her two best messages. Overtime, this makes it difficult to estimate what a customer's response would be to messages other than the two 'best' messages. If thoise customers get tired of their 'best' messages, that will provide even less justification to switch messages, even though that might be the best thing to do."
   ]
  },
  {
   "cell_type": "code",
   "execution_count": null,
   "metadata": {},
   "outputs": [],
   "source": []
  }
 ],
 "metadata": {
  "kernelspec": {
   "display_name": "Python 3 (ipykernel)",
   "language": "python",
   "name": "python3"
  },
  "language_info": {
   "codemirror_mode": {
    "name": "ipython",
    "version": 3
   },
   "file_extension": ".py",
   "mimetype": "text/x-python",
   "name": "python",
   "nbconvert_exporter": "python",
   "pygments_lexer": "ipython3",
   "version": "3.9.7"
  }
 },
 "nbformat": 4,
 "nbformat_minor": 4
}
