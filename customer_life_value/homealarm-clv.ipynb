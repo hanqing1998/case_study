{
 "cells": [
  {
   "cell_type": "markdown",
   "metadata": {},
   "source": [
    "# Home Alarm CLV\n",
    "\n",
    "\n",
    "## Key Assumption\n",
    "1. <b>Churn</b>: Customers renew their contracts only at the end of each year. Therefore, the retention rate during one year will keep stable all 12 months.\n",
    "2. <b>Payment</b>: All customers will be charge at the end of each month regardless of the payment type.\n",
    "3. <b>Cohort</b>: Existing residential customers who are about to start their 2nd year with Home Alarm. Therefore, the retention rate in the actual year 2 ( CLV year 1) will be 100%.\n",
    "\n",
    "\n"
   ]
  },
  {
   "cell_type": "markdown",
   "metadata": {},
   "source": [
    "### Data Preparation"
   ]
  },
  {
   "cell_type": "code",
   "execution_count": 1,
   "metadata": {},
   "outputs": [],
   "source": [
    "import pandas as pd\n",
    "import numpy as np\n",
    "import seaborn as sns\n",
    "import matplotlib.pyplot as plt"
   ]
  },
  {
   "cell_type": "code",
   "execution_count": 2,
   "metadata": {},
   "outputs": [],
   "source": [
    "## Import data\n",
    "churn = pd.DataFrame(\n",
    "    {\n",
    "        \"autopay\": [0.032, 0.070, 0.097, 0.103, 0.095, 0.078, 0.069, 0.059, 0.053],\n",
    "        \"no_autopay\": [0.084, 0.122, 0.162, 0.154, 0.134, 0.120, 0.111, 0.096, 0.086],\n",
    "    }\n",
    ")"
   ]
  },
  {
   "cell_type": "markdown",
   "metadata": {},
   "source": [
    "Now we are at the beginning of the second year which should be our first year to calculate CLV. Therefore the churn rate for the 9th year (8th ClV year) is not necessary and the 1st CLV year's churn rate should be 0"
   ]
  },
  {
   "cell_type": "code",
   "execution_count": 3,
   "metadata": {},
   "outputs": [],
   "source": [
    "churn8 = churn.iloc[:-1,:].copy() ## remove last year\n",
    "# yearly churn rate, since we start from second year, we should delete the information for first year.\n",
    "churn8.iloc[0,]= 0"
   ]
  },
  {
   "cell_type": "code",
   "execution_count": 4,
   "metadata": {},
   "outputs": [
    {
     "data": {
      "text/html": [
       "<div>\n",
       "<style scoped>\n",
       "    .dataframe tbody tr th:only-of-type {\n",
       "        vertical-align: middle;\n",
       "    }\n",
       "\n",
       "    .dataframe tbody tr th {\n",
       "        vertical-align: top;\n",
       "    }\n",
       "\n",
       "    .dataframe thead th {\n",
       "        text-align: right;\n",
       "    }\n",
       "</style>\n",
       "<table border=\"1\" class=\"dataframe\">\n",
       "  <thead>\n",
       "    <tr style=\"text-align: right;\">\n",
       "      <th></th>\n",
       "      <th>autopay</th>\n",
       "      <th>no_autopay</th>\n",
       "    </tr>\n",
       "  </thead>\n",
       "  <tbody>\n",
       "    <tr>\n",
       "      <th>0</th>\n",
       "      <td>0.000</td>\n",
       "      <td>0.000</td>\n",
       "    </tr>\n",
       "    <tr>\n",
       "      <th>1</th>\n",
       "      <td>0.070</td>\n",
       "      <td>0.122</td>\n",
       "    </tr>\n",
       "    <tr>\n",
       "      <th>2</th>\n",
       "      <td>0.097</td>\n",
       "      <td>0.162</td>\n",
       "    </tr>\n",
       "    <tr>\n",
       "      <th>3</th>\n",
       "      <td>0.103</td>\n",
       "      <td>0.154</td>\n",
       "    </tr>\n",
       "    <tr>\n",
       "      <th>4</th>\n",
       "      <td>0.095</td>\n",
       "      <td>0.134</td>\n",
       "    </tr>\n",
       "    <tr>\n",
       "      <th>5</th>\n",
       "      <td>0.078</td>\n",
       "      <td>0.120</td>\n",
       "    </tr>\n",
       "    <tr>\n",
       "      <th>6</th>\n",
       "      <td>0.069</td>\n",
       "      <td>0.111</td>\n",
       "    </tr>\n",
       "    <tr>\n",
       "      <th>7</th>\n",
       "      <td>0.059</td>\n",
       "      <td>0.096</td>\n",
       "    </tr>\n",
       "  </tbody>\n",
       "</table>\n",
       "</div>"
      ],
      "text/plain": [
       "   autopay  no_autopay\n",
       "0    0.000       0.000\n",
       "1    0.070       0.122\n",
       "2    0.097       0.162\n",
       "3    0.103       0.154\n",
       "4    0.095       0.134\n",
       "5    0.078       0.120\n",
       "6    0.069       0.111\n",
       "7    0.059       0.096"
      ]
     },
     "execution_count": 4,
     "metadata": {},
     "output_type": "execute_result"
    }
   ],
   "source": [
    "churn8"
   ]
  },
  {
   "cell_type": "markdown",
   "metadata": {},
   "source": [
    "### List assumptions that apply to both autopay and non-autopay customers"
   ]
  },
  {
   "cell_type": "code",
   "execution_count": 5,
   "metadata": {},
   "outputs": [],
   "source": [
    "# list your assumptions here\n",
    "monthly_revenue = 40\n",
    "annual_growth = 0.03\n",
    "annual_discount_rate = 0.1\n",
    "monthly_discount_rate = (1+annual_discount_rate)**(1/12)-1\n",
    "cost_service = 0.15\n",
    "marketing_cost = 0.05\n",
    "nr_years = 8"
   ]
  },
  {
   "cell_type": "code",
   "execution_count": 6,
   "metadata": {},
   "outputs": [],
   "source": [
    "time = np.arange(1, nr_years * 12+ 1) ## payments occur at the end of each month\n",
    "growth = np.power(1+annual_growth,np.arange(0,nr_years)).repeat(12)"
   ]
  },
  {
   "cell_type": "markdown",
   "metadata": {},
   "source": [
    "### Calculate CLV for non-autopay customers"
   ]
  },
  {
   "cell_type": "code",
   "execution_count": 7,
   "metadata": {},
   "outputs": [
    {
     "data": {
      "text/plain": [
       "array([1.   , 1.   , 1.   , 1.   , 1.   , 1.   , 1.   , 1.   , 1.   ,\n",
       "       1.   , 1.   , 1.   , 0.878, 0.878, 0.878, 0.878, 0.878, 0.878,\n",
       "       0.878, 0.878, 0.878, 0.878, 0.878, 0.878, 0.736, 0.736, 0.736,\n",
       "       0.736, 0.736, 0.736, 0.736, 0.736, 0.736, 0.736, 0.736, 0.736,\n",
       "       0.622, 0.622, 0.622, 0.622, 0.622, 0.622, 0.622, 0.622, 0.622,\n",
       "       0.622, 0.622, 0.622, 0.539, 0.539, 0.539, 0.539, 0.539, 0.539,\n",
       "       0.539, 0.539, 0.539, 0.539, 0.539, 0.539, 0.474, 0.474, 0.474,\n",
       "       0.474, 0.474, 0.474, 0.474, 0.474, 0.474, 0.474, 0.474, 0.474,\n",
       "       0.422, 0.422, 0.422, 0.422, 0.422, 0.422, 0.422, 0.422, 0.422,\n",
       "       0.422, 0.422, 0.422, 0.381, 0.381, 0.381, 0.381, 0.381, 0.381,\n",
       "       0.381, 0.381, 0.381, 0.381, 0.381, 0.381])"
      ]
     },
     "execution_count": 7,
     "metadata": {},
     "output_type": "execute_result"
    }
   ],
   "source": [
    "retention_nap = (1-churn8.no_autopay).cumprod().repeat(12)\n",
    "retention_nap.values.round(3)"
   ]
  },
  {
   "cell_type": "code",
   "execution_count": 8,
   "metadata": {},
   "outputs": [],
   "source": [
    "revenues_nap = monthly_revenue * growth\n",
    "service_nap = revenues_nap * cost_service\n",
    "marketing_nap = revenues_nap * marketing_cost\n",
    "profit_nap = revenues_nap-service_nap-marketing_nap\n",
    "expected_profit_nap = profit_nap * retention_nap\n",
    "\n",
    "pv_expected_profit_nap = expected_profit_nap/np.power(1+monthly_discount_rate,time)\n",
    "clv_nap = np.cumsum(pv_expected_profit_nap)"
   ]
  },
  {
   "cell_type": "code",
   "execution_count": 9,
   "metadata": {},
   "outputs": [
    {
     "data": {
      "text/plain": [
       "0      31.746846\n",
       "0      63.242541\n",
       "0      94.489072\n",
       "0     125.488410\n",
       "0     156.242510\n",
       "        ...     \n",
       "7    1525.389453\n",
       "7    1532.557435\n",
       "7    1539.668710\n",
       "7    1546.723728\n",
       "7    1553.722933\n",
       "Name: no_autopay, Length: 96, dtype: float64"
      ]
     },
     "execution_count": 9,
     "metadata": {},
     "output_type": "execute_result"
    }
   ],
   "source": [
    "clv_nap"
   ]
  },
  {
   "cell_type": "markdown",
   "metadata": {},
   "source": [
    "### Calculate CLV for autopay customers"
   ]
  },
  {
   "cell_type": "code",
   "execution_count": 10,
   "metadata": {},
   "outputs": [
    {
     "data": {
      "text/plain": [
       "array([1.   , 1.   , 1.   , 1.   , 1.   , 1.   , 1.   , 1.   , 1.   ,\n",
       "       1.   , 1.   , 1.   , 0.93 , 0.93 , 0.93 , 0.93 , 0.93 , 0.93 ,\n",
       "       0.93 , 0.93 , 0.93 , 0.93 , 0.93 , 0.93 , 0.84 , 0.84 , 0.84 ,\n",
       "       0.84 , 0.84 , 0.84 , 0.84 , 0.84 , 0.84 , 0.84 , 0.84 , 0.84 ,\n",
       "       0.753, 0.753, 0.753, 0.753, 0.753, 0.753, 0.753, 0.753, 0.753,\n",
       "       0.753, 0.753, 0.753, 0.682, 0.682, 0.682, 0.682, 0.682, 0.682,\n",
       "       0.682, 0.682, 0.682, 0.682, 0.682, 0.682, 0.629, 0.629, 0.629,\n",
       "       0.629, 0.629, 0.629, 0.629, 0.629, 0.629, 0.629, 0.629, 0.629,\n",
       "       0.585, 0.585, 0.585, 0.585, 0.585, 0.585, 0.585, 0.585, 0.585,\n",
       "       0.585, 0.585, 0.585, 0.551, 0.551, 0.551, 0.551, 0.551, 0.551,\n",
       "       0.551, 0.551, 0.551, 0.551, 0.551, 0.551])"
      ]
     },
     "execution_count": 10,
     "metadata": {},
     "output_type": "execute_result"
    }
   ],
   "source": [
    "retention_ap = (1-churn8.autopay).cumprod().repeat(12)\n",
    "retention_ap.values.round(3)"
   ]
  },
  {
   "cell_type": "code",
   "execution_count": 11,
   "metadata": {},
   "outputs": [],
   "source": [
    "revenues_ap = monthly_revenue * growth\n",
    "service_ap = revenues_ap * cost_service\n",
    "marketing_ap = revenues_ap * marketing_cost\n",
    "profit_ap = revenues_ap-service_ap-marketing_ap\n",
    "expected_profit_ap = profit_ap * retention_ap\n",
    "\n",
    "pv_expected_profit_ap = expected_profit_ap/np.power(1+monthly_discount_rate,time)\n",
    "clv_ap = np.cumsum(pv_expected_profit_ap)"
   ]
  },
  {
   "cell_type": "code",
   "execution_count": 12,
   "metadata": {},
   "outputs": [
    {
     "data": {
      "text/plain": [
       "0      31.746846\n",
       "0      63.242541\n",
       "0      94.489072\n",
       "0     125.488410\n",
       "0     156.242510\n",
       "        ...     \n",
       "7    1762.733926\n",
       "7    1773.087712\n",
       "7    1783.359589\n",
       "7    1793.550204\n",
       "7    1803.660201\n",
       "Name: autopay, Length: 96, dtype: float64"
      ]
     },
     "execution_count": 12,
     "metadata": {},
     "output_type": "execute_result"
    }
   ],
   "source": [
    "clv_ap"
   ]
  },
  {
   "cell_type": "markdown",
   "metadata": {},
   "source": [
    "### Create a line graph of CLV for both autopay and non-autopay customers "
   ]
  },
  {
   "cell_type": "code",
   "execution_count": 13,
   "metadata": {},
   "outputs": [
    {
     "data": {
      "text/html": [
       "<div>\n",
       "<style scoped>\n",
       "    .dataframe tbody tr th:only-of-type {\n",
       "        vertical-align: middle;\n",
       "    }\n",
       "\n",
       "    .dataframe tbody tr th {\n",
       "        vertical-align: top;\n",
       "    }\n",
       "\n",
       "    .dataframe thead th {\n",
       "        text-align: right;\n",
       "    }\n",
       "</style>\n",
       "<table border=\"1\" class=\"dataframe\">\n",
       "  <thead>\n",
       "    <tr style=\"text-align: right;\">\n",
       "      <th></th>\n",
       "      <th>Time</th>\n",
       "      <th>autopay</th>\n",
       "      <th>no_autopay</th>\n",
       "    </tr>\n",
       "  </thead>\n",
       "  <tbody>\n",
       "    <tr>\n",
       "      <th>0</th>\n",
       "      <td>1</td>\n",
       "      <td>31.746846</td>\n",
       "      <td>31.746846</td>\n",
       "    </tr>\n",
       "    <tr>\n",
       "      <th>0</th>\n",
       "      <td>2</td>\n",
       "      <td>63.242541</td>\n",
       "      <td>63.242541</td>\n",
       "    </tr>\n",
       "    <tr>\n",
       "      <th>0</th>\n",
       "      <td>3</td>\n",
       "      <td>94.489072</td>\n",
       "      <td>94.489072</td>\n",
       "    </tr>\n",
       "    <tr>\n",
       "      <th>0</th>\n",
       "      <td>4</td>\n",
       "      <td>125.488410</td>\n",
       "      <td>125.488410</td>\n",
       "    </tr>\n",
       "    <tr>\n",
       "      <th>0</th>\n",
       "      <td>5</td>\n",
       "      <td>156.242510</td>\n",
       "      <td>156.242510</td>\n",
       "    </tr>\n",
       "    <tr>\n",
       "      <th>...</th>\n",
       "      <td>...</td>\n",
       "      <td>...</td>\n",
       "      <td>...</td>\n",
       "    </tr>\n",
       "    <tr>\n",
       "      <th>7</th>\n",
       "      <td>92</td>\n",
       "      <td>1762.733926</td>\n",
       "      <td>1525.389453</td>\n",
       "    </tr>\n",
       "    <tr>\n",
       "      <th>7</th>\n",
       "      <td>93</td>\n",
       "      <td>1773.087712</td>\n",
       "      <td>1532.557435</td>\n",
       "    </tr>\n",
       "    <tr>\n",
       "      <th>7</th>\n",
       "      <td>94</td>\n",
       "      <td>1783.359589</td>\n",
       "      <td>1539.668710</td>\n",
       "    </tr>\n",
       "    <tr>\n",
       "      <th>7</th>\n",
       "      <td>95</td>\n",
       "      <td>1793.550204</td>\n",
       "      <td>1546.723728</td>\n",
       "    </tr>\n",
       "    <tr>\n",
       "      <th>7</th>\n",
       "      <td>96</td>\n",
       "      <td>1803.660201</td>\n",
       "      <td>1553.722933</td>\n",
       "    </tr>\n",
       "  </tbody>\n",
       "</table>\n",
       "<p>96 rows × 3 columns</p>\n",
       "</div>"
      ],
      "text/plain": [
       "    Time      autopay   no_autopay\n",
       "0      1    31.746846    31.746846\n",
       "0      2    63.242541    63.242541\n",
       "0      3    94.489072    94.489072\n",
       "0      4   125.488410   125.488410\n",
       "0      5   156.242510   156.242510\n",
       "..   ...          ...          ...\n",
       "7     92  1762.733926  1525.389453\n",
       "7     93  1773.087712  1532.557435\n",
       "7     94  1783.359589  1539.668710\n",
       "7     95  1793.550204  1546.723728\n",
       "7     96  1803.660201  1553.722933\n",
       "\n",
       "[96 rows x 3 columns]"
      ]
     },
     "execution_count": 13,
     "metadata": {},
     "output_type": "execute_result"
    }
   ],
   "source": [
    "homealarm = pd.DataFrame(\n",
    "    {\"Time\": time, \"autopay\": clv_ap, \"no_autopay\": clv_nap}\n",
    ")\n",
    "\n",
    "homealarm"
   ]
  },
  {
   "cell_type": "code",
   "execution_count": 14,
   "metadata": {},
   "outputs": [
    {
     "data": {
      "text/plain": [
       "<AxesSubplot:xlabel='Time', ylabel='CLV'>"
      ]
     },
     "execution_count": 14,
     "metadata": {},
     "output_type": "execute_result"
    },
    {
     "data": {
      "image/png": "[encoded data removed]",
      "text/plain": [
       "<Figure size 432x288 with 1 Axes>"
      ]
     },
     "metadata": {
      "needs_background": "light"
     },
     "output_type": "display_data"
    }
   ],
   "source": [
    "# enter your code here to create a single plot with 2-lines\n",
    "homealarm_long= pd.melt(homealarm, id_vars=['Time'], value_vars=['autopay','no_autopay'],\n",
    "        var_name='Payment', value_name='CLV')\n",
    "sns.lineplot(data=homealarm_long, x='Time',y='CLV',hue='Payment')"
   ]
  },
  {
   "cell_type": "markdown",
   "metadata": {},
   "source": [
    "### Create a line graph of the retention rate for both autopay and non-autopay customer "
   ]
  },
  {
   "cell_type": "code",
   "execution_count": 15,
   "metadata": {},
   "outputs": [
    {
     "data": {
      "text/plain": [
       "<AxesSubplot:xlabel='Time', ylabel='Retention'>"
      ]
     },
     "execution_count": 15,
     "metadata": {},
     "output_type": "execute_result"
    },
    {
     "data": {
      "image/png": "[encoded data removed]",
      "text/plain": [
       "<Figure size 432x288 with 1 Axes>"
      ]
     },
     "metadata": {
      "needs_background": "light"
     },
     "output_type": "display_data"
    }
   ],
   "source": [
    "# enter your code here to create a single plot with 2-lines\n",
    "retention_rate = pd.DataFrame(\n",
    "    {\"Time\": time, \"autopay\": retention_ap, \"no_autopay\": retention_nap}\n",
    ")\n",
    "retention_long= pd.melt(retention_rate, id_vars=['Time'], value_vars=['autopay','no_autopay'],\n",
    "        var_name='Payment', value_name='Retention')\n",
    "sns.lineplot(data=retention_long, x='Time',y='Retention',hue='Payment')"
   ]
  },
  {
   "cell_type": "markdown",
   "metadata": {},
   "source": [
    "### Summary"
   ]
  },
  {
   "cell_type": "code",
   "execution_count": 16,
   "metadata": {},
   "outputs": [
    {
     "name": "stdout",
     "output_type": "stream",
     "text": [
      "CLV w/o Autopay: $ 1553.72 \n",
      "CLV with Autopay: $ 1803.66 \n",
      "Therefore, we should never spend more than $ 249.94 based on 8-year CLV calculation\n"
     ]
    }
   ],
   "source": [
    "print(\n",
    "\"CLV w/o Autopay: $\", round(homealarm['no_autopay'].iloc[-1],2),\n",
    "\"\\nCLV with Autopay: $\", round(homealarm['autopay'].iloc[-1],2),\n",
    "\"\\nTherefore, we should never spend more than $\",round(homealarm['autopay'].iloc[-1] - homealarm['no_autopay'].iloc[-1] ,2),\"based on 8-year CLV calculation\"\n",
    ")"
   ]
  },
  {
   "cell_type": "code",
   "execution_count": 17,
   "metadata": {},
   "outputs": [],
   "source": [
    "y3 = homealarm[homealarm['Time']==36]\n",
    "clv_nap_yr3 = round(float(y3['no_autopay']),2)\n",
    "clv_ap_yr3 = round(float(y3['autopay']),2)"
   ]
  },
  {
   "cell_type": "code",
   "execution_count": 18,
   "metadata": {},
   "outputs": [
    {
     "name": "stdout",
     "output_type": "stream",
     "text": [
      "However, 8-year is a long time, we may reduce the risk use a shorter time frame,e.g., 3-year CLV.\n",
      "Then the maximum homealarm would spend is $951.12 - $900.08 = $51.04\n"
     ]
    }
   ],
   "source": [
    "print(f\"However, 8-year is a long time, we may reduce the risk use a shorter time frame,e.g., 3-year CLV.\\nThen the maximum homealarm would spend is ${clv_ap_yr3} - ${clv_nap_yr3} = ${round(clv_ap_yr3-clv_nap_yr3,2)}\")"
   ]
  }
 ],
 "metadata": {
  "jupytext": {
   "formats": "ipynb,py:percent"
  },
  "kernelspec": {
   "display_name": "Python 3 (ipykernel)",
   "language": "python",
   "name": "python3"
  },
  "language_info": {
   "codemirror_mode": {
    "name": "ipython",
    "version": 3
   },
   "file_extension": ".py",
   "mimetype": "text/x-python",
   "name": "python",
   "nbconvert_exporter": "python",
   "pygments_lexer": "ipython3",
   "version": "3.9.7"
  }
 },
 "nbformat": 4,
 "nbformat_minor": 4
}
