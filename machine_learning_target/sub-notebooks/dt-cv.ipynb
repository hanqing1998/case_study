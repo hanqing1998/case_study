{
 "cells": [
  {
   "cell_type": "code",
   "execution_count": null,
   "id": "50b3e549",
   "metadata": {},
   "outputs": [],
   "source": [
    "md = [1,2,3,4,5,6,7,8,9,10]\n",
    "dt = dt_classify(X_train, y_train,1)\n",
    "\n",
    "param_grid = {\"max_depth\": md}\n",
    "scoring = {\"AUC\": \"roc_auc\"}\n",
    "\n",
    "dt_cv = GridSearchCV(\n",
    "    dt, param_grid, scoring=scoring, cv=5, n_jobs=4, refit=\"AUC\", verbose=5\n",
    ")\n",
    "dt_cv.fit(X_train, y_train)"
   ]
  },
  {
   "cell_type": "code",
   "execution_count": 56,
   "id": "fcad7dc4",
   "metadata": {},
   "outputs": [
    {
     "data": {
      "text/plain": [
       "{'max_depth': 6}"
      ]
     },
     "execution_count": 56,
     "metadata": {},
     "output_type": "execute_result"
    }
   ],
   "source": [
    "dt_cv.best_params_"
   ]
  }
 ],
 "metadata": {
  "kernelspec": {
   "display_name": "Python 3",
   "language": "python",
   "name": "python3"
  },
  "language_info": {
   "codemirror_mode": {
    "name": "ipython",
    "version": 3
   },
   "file_extension": ".py",
   "mimetype": "text/x-python",
   "name": "python",
   "nbconvert_exporter": "python",
   "pygments_lexer": "ipython3",
   "version": "3.8.5"
  }
 },
 "nbformat": 4,
 "nbformat_minor": 5
}
