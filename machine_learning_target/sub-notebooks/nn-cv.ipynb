{
 "cells": [
  {
   "cell_type": "markdown",
   "id": "b194188a",
   "metadata": {},
   "source": [
    "### 2.4 Tune the nn model"
   ]
  },
  {
   "cell_type": "code",
   "execution_count": null,
   "id": "ddaaf90a",
   "metadata": {},
   "outputs": [],
   "source": [
    "hls = [(1,),(2,),(3,),(1,1),(2,1),(3,1)]\n",
    "clf = nn_big(X_train, y_train, (1,))\n",
    "\n",
    "param_grid = {\"hidden_layer_sizes\": hls}\n",
    "scoring = {\"AUC\": \"roc_auc\"}\n",
    "\n",
    "clf_cv = GridSearchCV(\n",
    "    clf, param_grid, scoring=scoring, cv=5, n_jobs=4, refit=\"AUC\", verbose=5\n",
    ")\n",
    "clf_cv.fit(X_train, y_train)"
   ]
  },
  {
   "cell_type": "code",
   "execution_count": null,
   "id": "befb1a96",
   "metadata": {},
   "outputs": [],
   "source": [
    "clf_cv.best_params_ # (3, 1)"
   ]
  }
 ],
 "metadata": {
  "kernelspec": {
   "display_name": "Python 3",
   "language": "python",
   "name": "python3"
  },
  "language_info": {
   "codemirror_mode": {
    "name": "ipython",
    "version": 3
   },
   "file_extension": ".py",
   "mimetype": "text/x-python",
   "name": "python",
   "nbconvert_exporter": "python",
   "pygments_lexer": "ipython3",
   "version": "3.8.5"
  }
 },
 "nbformat": 4,
 "nbformat_minor": 5
}
