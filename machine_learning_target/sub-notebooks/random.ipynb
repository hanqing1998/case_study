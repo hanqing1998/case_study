{
 "cells": [
  {
   "cell_type": "code",
   "execution_count": 1,
   "id": "d754de8c",
   "metadata": {},
   "outputs": [
    {
     "ename": "NameError",
     "evalue": "name 'intuit75k_std' is not defined",
     "output_type": "error",
     "traceback": [
      "\u001b[0;31m---------------------------------------------------------------------------\u001b[0m",
      "\u001b[0;31mNameError\u001b[0m                                 Traceback (most recent call last)",
      "\u001b[0;32m<ipython-input-1-3a0928ddaa60>\u001b[0m in \u001b[0;36m<module>\u001b[0;34m\u001b[0m\n\u001b[0;32m----> 1\u001b[0;31m \u001b[0mtrain_rd\u001b[0m \u001b[0;34m=\u001b[0m \u001b[0mintuit75k_std\u001b[0m\u001b[0;34m.\u001b[0m\u001b[0mquery\u001b[0m\u001b[0;34m(\u001b[0m\u001b[0;34m\"training ==1\"\u001b[0m\u001b[0;34m)\u001b[0m\u001b[0;34m\u001b[0m\u001b[0;34m\u001b[0m\u001b[0m\n\u001b[0m\u001b[1;32m      2\u001b[0m \u001b[0mtest_rd\u001b[0m \u001b[0;34m=\u001b[0m \u001b[0mintuit75k_std\u001b[0m\u001b[0;34m.\u001b[0m\u001b[0mquery\u001b[0m\u001b[0;34m(\u001b[0m\u001b[0;34m\"training ==0\"\u001b[0m\u001b[0;34m)\u001b[0m\u001b[0;34m\u001b[0m\u001b[0;34m\u001b[0m\u001b[0m\n\u001b[1;32m      3\u001b[0m \u001b[0;34m\u001b[0m\u001b[0m\n\u001b[1;32m      4\u001b[0m \u001b[0mX_rd\u001b[0m \u001b[0;34m=\u001b[0m \u001b[0mintuit75k_std\u001b[0m\u001b[0;34m[\u001b[0m\u001b[0mx_col\u001b[0m\u001b[0;34m]\u001b[0m\u001b[0;34m\u001b[0m\u001b[0;34m\u001b[0m\u001b[0m\n\u001b[1;32m      5\u001b[0m \u001b[0my_rd\u001b[0m \u001b[0;34m=\u001b[0m \u001b[0mintuit75k_std\u001b[0m\u001b[0;34m[\u001b[0m\u001b[0;34m'res1_yes'\u001b[0m\u001b[0;34m]\u001b[0m\u001b[0;34m\u001b[0m\u001b[0;34m\u001b[0m\u001b[0m\n",
      "\u001b[0;31mNameError\u001b[0m: name 'intuit75k_std' is not defined"
     ]
    }
   ],
   "source": [
    "train_rd = intuit75k_std.query(\"training ==1\")\n",
    "test_rd = intuit75k_std.query(\"training ==0\")\n",
    "\n",
    "X_rd = intuit75k_std[x_col]\n",
    "y_rd = intuit75k_std['res1_yes']\n",
    "\n",
    "X_train_rd, X_test_rd, y_train_rd, y_test_rd = train_test_split(\n",
    "    X_rd, y_rd, test_size=0.20, random_state=1234\n",
    ")\n",
    "\n",
    "clf1_rd = nn(X_train_rd, y_train_rd, (1,))\n",
    "\n",
    "pred['pred_nn1_rand'] = clf1_rd.predict_proba(intuit75k_std[x_col])[:, 1]\n",
    "pred['wave1_mailto_nn1_rand'] = pred['pred_nn1_rand']> 1.41/(60)\n",
    "pred['wave2_mailto_nn1_rand'] = pred['pred_nn1_rand']> 1.41/(60*0.5)\n",
    "act_wave1_prof_nn1_rand = functions.profit_actual(pred,mailto='wave1_mailto_nn1_rand')[-1]\n",
    "exp_wave2_prof_nn1_rand = functions.expected_profit_wave2(pred,mailto='wave2_mailto_nn1_rand')[-1]\n",
    "\n",
    "print(f\"Actual profit in wave1:{act_wave1_prof_nn1_rand}, Expected profit in wave2: {exp_wave2_prof_nn1_rand}\")\n",
    "# perform worse"
   ]
  },
  {
   "cell_type": "code",
   "execution_count": null,
   "id": "160e1e75",
   "metadata": {},
   "outputs": [],
   "source": []
  }
 ],
 "metadata": {
  "kernelspec": {
   "display_name": "Python 3",
   "language": "python",
   "name": "python3"
  },
  "language_info": {
   "codemirror_mode": {
    "name": "ipython",
    "version": 3
   },
   "file_extension": ".py",
   "mimetype": "text/x-python",
   "name": "python",
   "nbconvert_exporter": "python",
   "pygments_lexer": "ipython3",
   "version": "3.8.5"
  }
 },
 "nbformat": 4,
 "nbformat_minor": 5
}
