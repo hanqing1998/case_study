{
 "cells": [
  {
   "cell_type": "code",
   "execution_count": null,
   "id": "82fcd338",
   "metadata": {},
   "outputs": [],
   "source": [
    "md = [1,2,3,4,5,6,7,8,9,10]\n",
    "lrate = [0.01,0.1,1]\n",
    "\n",
    "gb = GradientBoostingClassifier(n_estimators=100, learning_rate=1.0, max_depth=1, random_state=1234).fit(X_train, y_train)\n",
    "\n",
    "param_grid = {\"max_depth\": md, \"learning_rate\": lrate}\n",
    "scoring = {\"AUC\": \"roc_auc\"}\n",
    "\n",
    "gb_cv = GridSearchCV(\n",
    "    gb, param_grid, scoring=scoring, cv=5, n_jobs=4, refit=\"AUC\", verbose=5\n",
    ")\n",
    "gb_cv.fit(X_train, y_train)"
   ]
  },
  {
   "cell_type": "code",
   "execution_count": 78,
   "id": "988d5a19",
   "metadata": {},
   "outputs": [
    {
     "data": {
      "text/plain": [
       "{'learning_rate': 0.1, 'max_depth': 3}"
      ]
     },
     "execution_count": 78,
     "metadata": {},
     "output_type": "execute_result"
    }
   ],
   "source": [
    "gb_cv.best_params_"
   ]
  }
 ],
 "metadata": {
  "kernelspec": {
   "display_name": "Python 3",
   "language": "python",
   "name": "python3"
  },
  "language_info": {
   "codemirror_mode": {
    "name": "ipython",
    "version": 3
   },
   "file_extension": ".py",
   "mimetype": "text/x-python",
   "name": "python",
   "nbconvert_exporter": "python",
   "pygments_lexer": "ipython3",
   "version": "3.8.5"
  }
 },
 "nbformat": 4,
 "nbformat_minor": 5
}
