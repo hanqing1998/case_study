{
 "cells": [
  {
   "cell_type": "code",
   "execution_count": null,
   "id": "e123dd37",
   "metadata": {},
   "outputs": [],
   "source": [
    "lr = smf.glm(\n",
    "    formula = \"\"\" res1_yes ~ zip_bins + numords + dollars + last \n",
    "                + version1 + owntaxprod + upgraded + zip801 + zip804 + numords:version1+last:version1 \"\"\",\n",
    "    family = Binomial(link=logit()),\n",
    "    data = intuit75k.query('training==1')\n",
    ").fit()"
   ]
  },
  {
   "cell_type": "code",
   "execution_count": null,
   "id": "757ce5e2",
   "metadata": {},
   "outputs": [],
   "source": [
    "pred['pred_lr1'] = lr.predict(pred)\n",
    "pred['wave1_mailto_lr1'] = pred['pred_lr1']> 1.41/(60)\n",
    "pred['wave2_mailto_lr1'] = pred['pred_lr1']> 1.41/(60*0.5)\n",
    "act_wave1_prof_lr1 = functions.profit_actual(pred,mailto='wave1_mailto_lr1')[-1]\n",
    "exp_wave2_prof_lr1 = functions.expected_profit_wave2(pred,mailto='wave2_mailto_lr1')[-1]\n",
    "print(f\"Actual profit in wave1:{act_wave1_prof_lr1}, Expected profit in wave2: {exp_wave2_prof_lr1}\")"
   ]
  }
 ],
 "metadata": {
  "kernelspec": {
   "display_name": "Python 3 (ipykernel)",
   "language": "python",
   "name": "python3"
  },
  "language_info": {
   "codemirror_mode": {
    "name": "ipython",
    "version": 3
   },
   "file_extension": ".py",
   "mimetype": "text/x-python",
   "name": "python",
   "nbconvert_exporter": "python",
   "pygments_lexer": "ipython3",
   "version": "3.9.7"
  }
 },
 "nbformat": 4,
 "nbformat_minor": 5
}
