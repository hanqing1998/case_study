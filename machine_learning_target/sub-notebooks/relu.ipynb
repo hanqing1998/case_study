{
 "cells": [
  {
   "cell_type": "markdown",
   "id": "48ab6fda",
   "metadata": {},
   "source": [
    "### 2.5 relu and adam"
   ]
  },
  {
   "cell_type": "code",
   "execution_count": null,
   "id": "ccea8f98",
   "metadata": {},
   "outputs": [],
   "source": [
    "clf1_relu = nn_relu(X_train, y_train, (1,))\n",
    "\n",
    "pred['pred_nn1_relu'] = clf1_relu.predict_proba(intuit75k_std[x_col])[:, 1]\n",
    "pred['wave1_mailto_nn1_relu'] = pred['pred_nn1_relu']> 1.41/(60)\n",
    "pred['wave2_mailto_nn1_relu'] = pred['pred_nn1_relu']> 1.41/(60*0.5)\n",
    "act_wave1_prof_nn1_relu = functions.profit_actual(pred,mailto='wave1_mailto_nn1_relu')[-1]\n",
    "exp_wave2_prof_nn1_relu = functions.expected_profit_wave2(pred,mailto='wave2_mailto_nn1_relu')[-1]\n",
    "\n",
    "print(f\"Actual profit in wave1:{act_wave1_prof_nn1_relu}, Expected profit in wave2: {exp_wave2_prof_nn1_relu}\")"
   ]
  },
  {
   "cell_type": "code",
   "execution_count": null,
   "id": "552fec30",
   "metadata": {},
   "outputs": [],
   "source": [
    "clf2_relu = nn_relu(X_train, y_train, (2,))\n",
    "\n",
    "pred['pred_nn2_relu'] = clf2_relu.predict_proba(intuit75k_std[x_col])[:, 1]\n",
    "pred['wave1_mailto_nn2_relu'] = pred['pred_nn2_relu']> 1.41/(60)\n",
    "pred['wave2_mailto_nn2_relu'] = pred['pred_nn2_relu']> 1.41/(60*0.5)\n",
    "act_wave1_prof_nn2_relu = functions.profit_actual(pred,mailto='wave1_mailto_nn2_relu')[-1]\n",
    "exp_wave2_prof_nn2_relu = functions.expected_profit_wave2(pred,mailto='wave2_mailto_nn2_relu')[-1]\n",
    "\n",
    "print(f\"Actual profit in wave1:{act_wave1_prof_nn2_relu}, Expected profit in wave2: {exp_wave2_prof_nn2_relu}\")"
   ]
  },
  {
   "cell_type": "code",
   "execution_count": null,
   "id": "04436b67",
   "metadata": {},
   "outputs": [],
   "source": [
    "clf31_relu = nn_relu(X_train, y_train, (3,1))\n",
    "\n",
    "pred['pred_nn3_1_relu'] = clf31_relu.predict_proba(intuit75k_std[x_col])[:, 1]\n",
    "pred['wave1_mailto_nn3_1_relu'] = pred['pred_nn3_1_relu']> 1.41/(60)\n",
    "pred['wave2_mailto_nn3_1_relu'] = pred['pred_nn3_1_relu']> 1.41/(60*0.5)\n",
    "act_wave1_prof_nn3_1_relu = functions.profit_actual(pred,mailto='wave1_mailto_nn3_1_relu')[-1]\n",
    "exp_wave2_prof_nn3_1_relu = functions.expected_profit_wave2(pred,mailto='wave2_mailto_nn3_1_relu')[-1]\n",
    "\n",
    "print(f\"Actual profit in wave1:{act_wave1_prof_nn3_1_relu}, Expected profit in wave2: {exp_wave2_prof_nn3_1_relu}\")"
   ]
  }
 ],
 "metadata": {
  "kernelspec": {
   "display_name": "Python 3",
   "language": "python",
   "name": "python3"
  },
  "language_info": {
   "codemirror_mode": {
    "name": "ipython",
    "version": 3
   },
   "file_extension": ".py",
   "mimetype": "text/x-python",
   "name": "python",
   "nbconvert_exporter": "python",
   "pygments_lexer": "ipython3",
   "version": "3.8.5"
  }
 },
 "nbformat": 4,
 "nbformat_minor": 5
}
