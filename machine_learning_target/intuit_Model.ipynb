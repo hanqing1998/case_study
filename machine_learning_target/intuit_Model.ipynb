{
 "cells": [
  {
   "cell_type": "markdown",
   "metadata": {},
   "source": [
    "# Intuit Quickbooks' Mailing Prediction"
   ]
  },
  {
   "cell_type": "code",
   "execution_count": 1,
   "metadata": {},
   "outputs": [],
   "source": [
    "from math import sqrt\n",
    "\n",
    "import matplotlib as mpl\n",
    "import matplotlib.pyplot as plt\n",
    "import numpy as np\n",
    "import pandas as pd\n",
    "import pyrsm as rsm\n",
    "import scipy.stats as stats\n",
    "import seaborn as sns\n",
    "import statsmodels.api as sm\n",
    "import statsmodels.formula.api as smf\n",
    "import statsmodels.stats as sm\n",
    "from sklearn import metrics\n",
    "from sklearn.inspection import permutation_importance\n",
    "from sklearn.model_selection import GridSearchCV, cross_val_score, train_test_split\n",
    "from sklearn.neural_network import MLPClassifier\n",
    "from utils import functions\n",
    "from sklearn import preprocessing\n",
    "from statsmodels.genmod.families import Binomial\n",
    "from statsmodels.genmod.families.links import logit\n",
    "from sklearn.metrics import accuracy_score,f1_score,precision_score,recall_score,roc_auc_score\n",
    "\n",
    "# increase plot resolution\n",
    "# mpl.rcParams[\"figure.dpi\"] = 150"
   ]
  },
  {
   "cell_type": "code",
   "execution_count": 2,
   "metadata": {},
   "outputs": [
    {
     "data": {
      "text/html": [
       "<div>\n",
       "<style scoped>\n",
       "    .dataframe tbody tr th:only-of-type {\n",
       "        vertical-align: middle;\n",
       "    }\n",
       "\n",
       "    .dataframe tbody tr th {\n",
       "        vertical-align: top;\n",
       "    }\n",
       "\n",
       "    .dataframe thead th {\n",
       "        text-align: right;\n",
       "    }\n",
       "</style>\n",
       "<table border=\"1\" class=\"dataframe\">\n",
       "  <thead>\n",
       "    <tr style=\"text-align: right;\">\n",
       "      <th></th>\n",
       "      <th>id</th>\n",
       "      <th>zip</th>\n",
       "      <th>zip_bins</th>\n",
       "      <th>sex</th>\n",
       "      <th>bizflag</th>\n",
       "      <th>numords</th>\n",
       "      <th>dollars</th>\n",
       "      <th>last</th>\n",
       "      <th>sincepurch</th>\n",
       "      <th>version1</th>\n",
       "      <th>owntaxprod</th>\n",
       "      <th>upgraded</th>\n",
       "      <th>res1</th>\n",
       "      <th>training</th>\n",
       "      <th>res1_yes</th>\n",
       "    </tr>\n",
       "  </thead>\n",
       "  <tbody>\n",
       "    <tr>\n",
       "      <th>0</th>\n",
       "      <td>1</td>\n",
       "      <td>94553</td>\n",
       "      <td>18</td>\n",
       "      <td>Male</td>\n",
       "      <td>0</td>\n",
       "      <td>2</td>\n",
       "      <td>109.5</td>\n",
       "      <td>5</td>\n",
       "      <td>12</td>\n",
       "      <td>0</td>\n",
       "      <td>0</td>\n",
       "      <td>0</td>\n",
       "      <td>No</td>\n",
       "      <td>1</td>\n",
       "      <td>0</td>\n",
       "    </tr>\n",
       "    <tr>\n",
       "      <th>1</th>\n",
       "      <td>2</td>\n",
       "      <td>53190</td>\n",
       "      <td>10</td>\n",
       "      <td>Unknown</td>\n",
       "      <td>0</td>\n",
       "      <td>1</td>\n",
       "      <td>69.5</td>\n",
       "      <td>4</td>\n",
       "      <td>3</td>\n",
       "      <td>0</td>\n",
       "      <td>0</td>\n",
       "      <td>0</td>\n",
       "      <td>No</td>\n",
       "      <td>0</td>\n",
       "      <td>0</td>\n",
       "    </tr>\n",
       "    <tr>\n",
       "      <th>2</th>\n",
       "      <td>3</td>\n",
       "      <td>37091</td>\n",
       "      <td>8</td>\n",
       "      <td>Male</td>\n",
       "      <td>0</td>\n",
       "      <td>4</td>\n",
       "      <td>93.0</td>\n",
       "      <td>14</td>\n",
       "      <td>29</td>\n",
       "      <td>0</td>\n",
       "      <td>0</td>\n",
       "      <td>1</td>\n",
       "      <td>No</td>\n",
       "      <td>0</td>\n",
       "      <td>0</td>\n",
       "    </tr>\n",
       "    <tr>\n",
       "      <th>3</th>\n",
       "      <td>4</td>\n",
       "      <td>02125</td>\n",
       "      <td>1</td>\n",
       "      <td>Male</td>\n",
       "      <td>0</td>\n",
       "      <td>1</td>\n",
       "      <td>22.0</td>\n",
       "      <td>17</td>\n",
       "      <td>1</td>\n",
       "      <td>0</td>\n",
       "      <td>0</td>\n",
       "      <td>0</td>\n",
       "      <td>No</td>\n",
       "      <td>1</td>\n",
       "      <td>0</td>\n",
       "    </tr>\n",
       "    <tr>\n",
       "      <th>4</th>\n",
       "      <td>5</td>\n",
       "      <td>60201</td>\n",
       "      <td>11</td>\n",
       "      <td>Male</td>\n",
       "      <td>0</td>\n",
       "      <td>1</td>\n",
       "      <td>24.5</td>\n",
       "      <td>2</td>\n",
       "      <td>3</td>\n",
       "      <td>0</td>\n",
       "      <td>0</td>\n",
       "      <td>0</td>\n",
       "      <td>No</td>\n",
       "      <td>0</td>\n",
       "      <td>0</td>\n",
       "    </tr>\n",
       "  </tbody>\n",
       "</table>\n",
       "</div>"
      ],
      "text/plain": [
       "   id    zip  zip_bins      sex  bizflag  numords  dollars  last  sincepurch  \\\n",
       "0   1  94553        18     Male        0        2    109.5     5          12   \n",
       "1   2  53190        10  Unknown        0        1     69.5     4           3   \n",
       "2   3  37091         8     Male        0        4     93.0    14          29   \n",
       "3   4  02125         1     Male        0        1     22.0    17           1   \n",
       "4   5  60201        11     Male        0        1     24.5     2           3   \n",
       "\n",
       "   version1  owntaxprod  upgraded res1  training  res1_yes  \n",
       "0         0           0         0   No         1         0  \n",
       "1         0           0         0   No         0         0  \n",
       "2         0           0         1   No         0         0  \n",
       "3         0           0         0   No         1         0  \n",
       "4         0           0         0   No         0         0  "
      ]
     },
     "execution_count": 2,
     "metadata": {},
     "output_type": "execute_result"
    }
   ],
   "source": [
    "## loading the data\n",
    "intuit75k = pd.read_pickle(\"data/intuit75k.pkl\")\n",
    "intuit75k[\"res1_yes\"] = (intuit75k[\"res1\"] == \"Yes\").astype(int)\n",
    "intuit75k.head()"
   ]
  },
  {
   "cell_type": "code",
   "execution_count": 3,
   "metadata": {},
   "outputs": [],
   "source": [
    "intuit75k['zip_bins'] = intuit75k.zip_bins.astype('category')\n",
    "intuit75k = intuit75k.assign(\n",
    "    zip801 = (intuit75k.zip =='00801').astype(int),\n",
    "    zip804 = (intuit75k.zip =='00804').astype(int),\n",
    ")\n",
    "pred = intuit75k.copy()"
   ]
  },
  {
   "cell_type": "markdown",
   "metadata": {},
   "source": [
    "## 1. Logistic Regression"
   ]
  },
  {
   "cell_type": "markdown",
   "metadata": {},
   "source": [
    "In this part, we create a logistic regression model and will compare the performance of the model with others.\n",
    "\n",
    "Note: Logistic model will not be used to prediction."
   ]
  },
  {
   "cell_type": "code",
   "execution_count": 4,
   "metadata": {},
   "outputs": [
    {
     "name": "stdout",
     "output_type": "stream",
     "text": [
      "Actual profit in wave1:38322.21000000001, Expected profit in wave2: 441907.05\n"
     ]
    }
   ],
   "source": [
    "%run sub-notebooks/logit.ipynb"
   ]
  },
  {
   "cell_type": "markdown",
   "metadata": {},
   "source": [
    "## 2. Neural Networks"
   ]
  },
  {
   "cell_type": "markdown",
   "metadata": {},
   "source": [
    "In this part, we create a series of neural networking models and will pickup the top models based on their actual profit in wave1 and expected profit in wave2. Accuracy, recall and precision will also be taken into consideration."
   ]
  },
  {
   "cell_type": "markdown",
   "metadata": {},
   "source": [
    "All models will be built on the data after standardization."
   ]
  },
  {
   "cell_type": "code",
   "execution_count": 5,
   "metadata": {},
   "outputs": [],
   "source": [
    "to_std = ['numords','dollars','last','sincepurch']\n",
    "intuit75k_std = intuit75k.copy()\n",
    "intuit75k_std[to_std] = rsm.scale_df(intuit75k_std[to_std], sf=1, train=intuit75k_std.training == 1)\n",
    "intuit75k_std['sex'] = rsm.ifelse(intuit75k_std['sex']=='Male',2,rsm.ifelse(intuit75k_std['sex']=='Female',1,0))"
   ]
  },
  {
   "cell_type": "code",
   "execution_count": 7,
   "metadata": {},
   "outputs": [],
   "source": [
    "## features for predictions\n",
    "x_col = rsm.setdiff(intuit75k_std.columns,['id','zip','res1','training','res1_yes'])"
   ]
  },
  {
   "cell_type": "code",
   "execution_count": 9,
   "metadata": {},
   "outputs": [],
   "source": [
    "# ## follow the original training set\n",
    "train = intuit75k_std.query(\"training ==1\")\n",
    "test = intuit75k_std.query(\"training ==0\")"
   ]
  },
  {
   "cell_type": "code",
   "execution_count": 10,
   "metadata": {},
   "outputs": [],
   "source": [
    "X_train = train[x_col]\n",
    "y_train = train['res1_yes']\n",
    "X_test = test[x_col]\n",
    "y_test = test['res1_yes']"
   ]
  },
  {
   "cell_type": "code",
   "execution_count": 11,
   "metadata": {},
   "outputs": [],
   "source": [
    "## build neutral networking function\n",
    "def nn(X, y, hlsizes=(1,), max_iter=1000):\n",
    "    return MLPClassifier(\n",
    "        activation=\"tanh\",\n",
    "        solver=\"lbfgs\",\n",
    "        hidden_layer_sizes=hlsizes,\n",
    "        random_state=1234,\n",
    "        max_iter=max_iter,\n",
    "    ).fit(X, y)"
   ]
  },
  {
   "cell_type": "markdown",
   "metadata": {},
   "source": [
    "### 2.1 NN1"
   ]
  },
  {
   "cell_type": "markdown",
   "metadata": {},
   "source": [
    "Start from one layer,with one node."
   ]
  },
  {
   "cell_type": "code",
   "execution_count": 12,
   "metadata": {},
   "outputs": [],
   "source": [
    "clf1 = nn(X_train, y_train, (1,))"
   ]
  },
  {
   "cell_type": "code",
   "execution_count": 13,
   "metadata": {},
   "outputs": [],
   "source": [
    "pred_train = pd.DataFrame().assign(\n",
    "    actual=y_train, pred=clf1.predict_proba(X_train)[:, 1] ## drop first column which is useless\n",
    ")\n",
    "pred_test = pd.DataFrame().assign(actual=y_test, pred=clf1.predict_proba(X_test)[:, 1])"
   ]
  },
  {
   "cell_type": "code",
   "execution_count": 14,
   "metadata": {},
   "outputs": [
    {
     "data": {
      "image/png": "[encoded data removed]",
      "text/plain": [
       "<Figure size 432x288 with 1 Axes>"
      ]
     },
     "metadata": {
      "needs_background": "light"
     },
     "output_type": "display_data"
    }
   ],
   "source": [
    "dct = {\"train\": pred_train, \"test\": pred_test}\n",
    "fig = rsm.gains_plot(dct, \"actual\", 1, \"pred\").legend(title=None)"
   ]
  },
  {
   "cell_type": "markdown",
   "metadata": {},
   "source": [
    "Model performs well in both training and testing dataset."
   ]
  },
  {
   "cell_type": "code",
   "execution_count": 15,
   "metadata": {},
   "outputs": [],
   "source": [
    "pred['pred_nn1'] = clf1.predict_proba(intuit75k_std[x_col])[:, 1]\n",
    "pred['wave1_mailto_nn1'] = pred['pred_nn1']> 1.41/(60)\n",
    "pred['wave2_mailto_nn1'] = pred['pred_nn1']> 1.41/(60*0.5)\n",
    "act_wave1_prof_nn1 = functions.profit_actual(pred,mailto='wave1_mailto_nn1')[-1]\n",
    "exp_wave2_prof_nn1 = functions.expected_profit_wave2(pred,mailto='wave2_mailto_nn1')[-1]"
   ]
  },
  {
   "cell_type": "code",
   "execution_count": 16,
   "metadata": {},
   "outputs": [
    {
     "name": "stdout",
     "output_type": "stream",
     "text": [
      "Actual profit in wave1:38106.96000000001, Expected profit in wave2: 447290.34\n"
     ]
    }
   ],
   "source": [
    "print(f\"Actual profit in wave1:{act_wave1_prof_nn1}, Expected profit in wave2: {exp_wave2_prof_nn1}\")"
   ]
  },
  {
   "cell_type": "code",
   "execution_count": 17,
   "metadata": {},
   "outputs": [],
   "source": [
    "y_pred = pred.loc[pred.training==0,'wave1_mailto_nn1'].astype(int)\n",
    "acc_nn1 = accuracy_score(y_test,y_pred)\n",
    "pre_nn1 = precision_score(y_test,y_pred)\n",
    "recall_nn1 = recall_score(y_test,y_pred)\n",
    "auc_nn1 = roc_auc_score(y_test,y_pred)"
   ]
  },
  {
   "cell_type": "code",
   "execution_count": 18,
   "metadata": {},
   "outputs": [
    {
     "name": "stdout",
     "output_type": "stream",
     "text": [
      "Accuracy:0.4507111111111111,\n",
      "Precision: 0.07181984175289105,\n",
      "Recall:0.8558476881233001,\n",
      "AUC:0.6428371496652394\n"
     ]
    }
   ],
   "source": [
    "print(f\"Accuracy:{acc_nn1},\\nPrecision: {pre_nn1},\\nRecall:{recall_nn1},\\nAUC:{auc_nn1}\")"
   ]
  },
  {
   "cell_type": "markdown",
   "metadata": {},
   "source": [
    "### 2.2 NN2"
   ]
  },
  {
   "cell_type": "markdown",
   "metadata": {},
   "source": [
    "1 layer, 2 nodes"
   ]
  },
  {
   "cell_type": "code",
   "execution_count": 19,
   "metadata": {},
   "outputs": [],
   "source": [
    "clf2 = nn(X_train, y_train, (2,))"
   ]
  },
  {
   "cell_type": "code",
   "execution_count": 20,
   "metadata": {},
   "outputs": [],
   "source": [
    "pred_train = pd.DataFrame().assign(\n",
    "    actual=y_train, pred=clf1.predict_proba(X_train)[:, 1] ## drop first column which is useless\n",
    ")\n",
    "pred_test = pd.DataFrame().assign(actual=y_test, pred=clf1.predict_proba(X_test)[:, 1])"
   ]
  },
  {
   "cell_type": "code",
   "execution_count": 21,
   "metadata": {},
   "outputs": [
    {
     "data": {
      "image/png": "[encoded data removed]",
      "text/plain": [
       "<Figure size 432x288 with 1 Axes>"
      ]
     },
     "metadata": {
      "needs_background": "light"
     },
     "output_type": "display_data"
    }
   ],
   "source": [
    "dct = {\"train\": pred_train, \"test\": pred_test}\n",
    "fig = rsm.gains_plot(dct, \"actual\", 1, \"pred\").legend(title=None)"
   ]
  },
  {
   "cell_type": "code",
   "execution_count": 22,
   "metadata": {},
   "outputs": [],
   "source": [
    "pred['pred_nn2'] = clf2.predict_proba(intuit75k_std[x_col])[:, 1]\n",
    "pred['wave1_mailto_nn2'] = pred['pred_nn2']> 1.41/(60)\n",
    "pred['wave2_mailto_nn2'] = pred['pred_nn2']> 1.41/(60*0.5)\n",
    "act_wave1_prof_nn2 = functions.profit_actual(pred,mailto='wave1_mailto_nn2')[-1]\n",
    "exp_wave2_prof_nn2 = functions.expected_profit_wave2(pred,mailto='wave2_mailto_nn2')[-1]"
   ]
  },
  {
   "cell_type": "code",
   "execution_count": 23,
   "metadata": {},
   "outputs": [
    {
     "name": "stdout",
     "output_type": "stream",
     "text": [
      "Actual profit in wave1:38115.9, Expected profit in wave2: 450670.95\n"
     ]
    }
   ],
   "source": [
    "print(f\"Actual profit in wave1:{act_wave1_prof_nn2}, Expected profit in wave2: {exp_wave2_prof_nn2}\")"
   ]
  },
  {
   "cell_type": "code",
   "execution_count": 24,
   "metadata": {},
   "outputs": [],
   "source": [
    "y_pred = pred.loc[pred.training==0,'wave1_mailto_nn2'].astype(int)\n",
    "acc_nn2 = accuracy_score(y_test,y_pred)\n",
    "pre_nn2 = precision_score(y_test,y_pred)\n",
    "recall_nn2 = recall_score(y_test,y_pred)\n",
    "auc_nn2 = roc_auc_score(y_test,y_pred)"
   ]
  },
  {
   "cell_type": "code",
   "execution_count": 25,
   "metadata": {},
   "outputs": [
    {
     "name": "stdout",
     "output_type": "stream",
     "text": [
      "Accuracy:0.4564,\n",
      "Precision: 0.07232897770945426,\n",
      "Recall:0.8531278331822303,\n",
      "AUC:0.6445383989951905\n"
     ]
    }
   ],
   "source": [
    "print(f\"Accuracy:{acc_nn2},\\nPrecision: {pre_nn2},\\nRecall:{recall_nn2},\\nAUC:{auc_nn2}\")"
   ]
  },
  {
   "cell_type": "markdown",
   "metadata": {},
   "source": [
    "### 2.3 NN3"
   ]
  },
  {
   "cell_type": "markdown",
   "metadata": {},
   "source": [
    "2 layered model"
   ]
  },
  {
   "cell_type": "code",
   "execution_count": 26,
   "metadata": {},
   "outputs": [],
   "source": [
    "clf3 = nn(X_train, y_train, (3,))"
   ]
  },
  {
   "cell_type": "code",
   "execution_count": 27,
   "metadata": {},
   "outputs": [],
   "source": [
    "pred['pred_nn3'] = clf3.predict_proba(intuit75k_std[x_col])[:, 1]\n",
    "pred['wave1_mailto_nn3'] = pred['pred_nn3']> 1.41/(60)\n",
    "pred['wave2_mailto_nn3'] = pred['pred_nn3']> 1.41/(60*0.5)\n",
    "act_wave1_prof_nn3 = functions.profit_actual(pred,mailto='wave1_mailto_nn3')[-1]\n",
    "exp_wave2_prof_nn3 = functions.expected_profit_wave2(pred,mailto='wave2_mailto_nn3')[-1]"
   ]
  },
  {
   "cell_type": "code",
   "execution_count": 28,
   "metadata": {},
   "outputs": [
    {
     "name": "stdout",
     "output_type": "stream",
     "text": [
      "Actual profit in wave1:38099.16, Expected profit in wave2: 435620.58\n"
     ]
    }
   ],
   "source": [
    "print(f\"Actual profit in wave1:{act_wave1_prof_nn3}, Expected profit in wave2: {exp_wave2_prof_nn3}\")"
   ]
  },
  {
   "cell_type": "markdown",
   "metadata": {},
   "source": [
    "We see that NN3 has the worst performance compared to previous models"
   ]
  },
  {
   "cell_type": "markdown",
   "metadata": {},
   "source": [
    "### 2.4 Tuning the neural network model"
   ]
  },
  {
   "cell_type": "markdown",
   "metadata": {},
   "source": [
    "Check the tuning process in sub-notebook/nn-cv.ipython.\n",
    "We tried hls = [(1,),(2,),(3,),(1,1),(2,1),(3,1)], and among them (3,1) perform the best"
   ]
  },
  {
   "cell_type": "code",
   "execution_count": 29,
   "metadata": {},
   "outputs": [],
   "source": [
    "# change max_iter\n",
    "def nn_big(X, y, hlsizes=(1,), max_iter=10000):\n",
    "    return MLPClassifier(\n",
    "        activation=\"tanh\",\n",
    "        solver=\"lbfgs\",\n",
    "        hidden_layer_sizes=hlsizes,\n",
    "        random_state=1234,\n",
    "        max_iter=max_iter,\n",
    "    ).fit(X, y)"
   ]
  },
  {
   "cell_type": "code",
   "execution_count": 30,
   "metadata": {},
   "outputs": [],
   "source": [
    "clf3_1 = nn_big(X_train, y_train, (3,1)) # this takes time to run"
   ]
  },
  {
   "cell_type": "code",
   "execution_count": 31,
   "metadata": {},
   "outputs": [],
   "source": [
    "pred_train = pd.DataFrame().assign(\n",
    "    actual=y_train, pred=clf1.predict_proba(X_train)[:, 1] ## drop first column which is useless\n",
    ")\n",
    "pred_test = pd.DataFrame().assign(actual=y_test, pred=clf1.predict_proba(X_test)[:, 1])"
   ]
  },
  {
   "cell_type": "code",
   "execution_count": 32,
   "metadata": {},
   "outputs": [
    {
     "data": {
      "image/png": "[encoded data removed]",
      "text/plain": [
       "<Figure size 432x288 with 1 Axes>"
      ]
     },
     "metadata": {
      "needs_background": "light"
     },
     "output_type": "display_data"
    }
   ],
   "source": [
    "dct = {\"train\": pred_train, \"test\": pred_test}\n",
    "fig = rsm.gains_plot(dct, \"actual\", 1, \"pred\").legend(title=None)"
   ]
  },
  {
   "cell_type": "code",
   "execution_count": 33,
   "metadata": {},
   "outputs": [],
   "source": [
    "pred['pred_nn3_1'] = clf3_1.predict_proba(intuit75k_std[x_col])[:, 1]\n",
    "pred['wave1_mailto_nn3_1'] = pred['pred_nn3_1']> 1.41/(60)\n",
    "pred['wave2_mailto_nn3_1'] = pred['pred_nn3_1']> 1.41/(60*0.5)\n",
    "act_wave1_prof_nn3_1 = functions.profit_actual(pred,mailto='wave1_mailto_nn3_1')[-1]\n",
    "exp_wave2_prof_nn3_1 = functions.expected_profit_wave2(pred,mailto='wave2_mailto_nn3_1')[-1]"
   ]
  },
  {
   "cell_type": "code",
   "execution_count": 34,
   "metadata": {},
   "outputs": [
    {
     "name": "stdout",
     "output_type": "stream",
     "text": [
      "Actual profit in wave1:38477.82, Expected profit in wave2: 447308.64\n"
     ]
    }
   ],
   "source": [
    "print(f\"Actual profit in wave1:{act_wave1_prof_nn3_1}, Expected profit in wave2: {exp_wave2_prof_nn3_1}\")"
   ]
  },
  {
   "cell_type": "code",
   "execution_count": 35,
   "metadata": {},
   "outputs": [],
   "source": [
    "y_pred = pred.loc[pred.training==0,'wave1_mailto_nn3_1'].astype(int)\n",
    "acc_nn3_1 = accuracy_score(y_test,y_pred)\n",
    "pre_nn3_1 = precision_score(y_test,y_pred)\n",
    "recall_nn3_1 = recall_score(y_test,y_pred)\n",
    "auc_nn3_1 = roc_auc_score(y_test,y_pred)"
   ]
  },
  {
   "cell_type": "code",
   "execution_count": 36,
   "metadata": {},
   "outputs": [
    {
     "name": "stdout",
     "output_type": "stream",
     "text": [
      "Accuracy:0.4786222222222222,\n",
      "Precision: 0.07481196991518643,\n",
      "Recall:0.8476881233000907,\n",
      "AUC:0.653642631543021\n"
     ]
    }
   ],
   "source": [
    "print(f\"Accuracy:{acc_nn3_1},\\nPrecision: {pre_nn3_1},\\nRecall:{recall_nn3_1},\\nAUC:{auc_nn3_1}\")"
   ]
  },
  {
   "cell_type": "markdown",
   "metadata": {},
   "source": [
    "### 2.5 Special Topic: different activation and solver"
   ]
  },
  {
   "cell_type": "markdown",
   "metadata": {},
   "source": [
    "Given that nn3-1,nn2,nn1 perform best in the previous analysis, this section will try relu activation and adam solver."
   ]
  },
  {
   "cell_type": "markdown",
   "metadata": {},
   "source": [
    "Check sub-notebooks/relu.ipynb for details. Among them, relu on nn1 perform the best"
   ]
  },
  {
   "cell_type": "code",
   "execution_count": 37,
   "metadata": {},
   "outputs": [],
   "source": [
    "def nn_relu(X, y, hlsizes=(1,), max_iter=10000):\n",
    "    return MLPClassifier(\n",
    "        activation=\"relu\",\n",
    "        solver=\"adam\",\n",
    "        hidden_layer_sizes=hlsizes,\n",
    "        random_state=1234,\n",
    "        max_iter=max_iter,\n",
    "    ).fit(X, y)"
   ]
  },
  {
   "cell_type": "code",
   "execution_count": 38,
   "metadata": {},
   "outputs": [],
   "source": [
    "clf1_relu = nn_relu(X_train, y_train, (1,))"
   ]
  },
  {
   "cell_type": "code",
   "execution_count": 39,
   "metadata": {},
   "outputs": [],
   "source": [
    "pred_train = pd.DataFrame().assign(\n",
    "    actual=y_train, pred=clf1.predict_proba(X_train)[:, 1] ## drop first column which is useless\n",
    ")\n",
    "pred_test = pd.DataFrame().assign(actual=y_test, pred=clf1.predict_proba(X_test)[:, 1])"
   ]
  },
  {
   "cell_type": "code",
   "execution_count": 40,
   "metadata": {},
   "outputs": [
    {
     "data": {
      "image/png": "[encoded data removed]",
      "text/plain": [
       "<Figure size 432x288 with 1 Axes>"
      ]
     },
     "metadata": {
      "needs_background": "light"
     },
     "output_type": "display_data"
    }
   ],
   "source": [
    "dct = {\"train\": pred_train, \"test\": pred_test}\n",
    "fig = rsm.gains_plot(dct, \"actual\", 1, \"pred\").legend(title=None)"
   ]
  },
  {
   "cell_type": "code",
   "execution_count": 41,
   "metadata": {},
   "outputs": [],
   "source": [
    "pred['pred_nn1_relu'] = clf1_relu.predict_proba(intuit75k_std[x_col])[:, 1]\n",
    "pred['wave1_mailto_nn1_relu'] = pred['pred_nn1_relu']> 1.41/(60)\n",
    "pred['wave2_mailto_nn1_relu'] = pred['pred_nn1_relu']> 1.41/(60*0.5)\n",
    "act_wave1_prof_nn1_relu = functions.profit_actual(pred,mailto='wave1_mailto_nn1_relu')[-1]\n",
    "exp_wave2_prof_nn1_relu = functions.expected_profit_wave2(pred,mailto='wave2_mailto_nn1_relu')[-1]"
   ]
  },
  {
   "cell_type": "code",
   "execution_count": 42,
   "metadata": {},
   "outputs": [
    {
     "name": "stdout",
     "output_type": "stream",
     "text": [
      "Actual profit in wave1:38414.25, Expected profit in wave2: 441492.09\n"
     ]
    }
   ],
   "source": [
    "print(f\"Actual profit in wave1:{act_wave1_prof_nn1_relu}, Expected profit in wave2: {exp_wave2_prof_nn1_relu}\")"
   ]
  },
  {
   "cell_type": "code",
   "execution_count": 43,
   "metadata": {},
   "outputs": [],
   "source": [
    "y_pred = pred.loc[pred.training==0,'wave1_mailto_nn1_relu'].astype(int)\n",
    "acc_nn1_relu = accuracy_score(y_test,y_pred)\n",
    "pre_nn1_relu = precision_score(y_test,y_pred)\n",
    "recall_nn1_relu = recall_score(y_test,y_pred)\n",
    "auc_nn1_relu = roc_auc_score(y_test,y_pred)"
   ]
  },
  {
   "cell_type": "code",
   "execution_count": 44,
   "metadata": {},
   "outputs": [
    {
     "name": "stdout",
     "output_type": "stream",
     "text": [
      "Accuracy:0.41173333333333334,\n",
      "Precision: 0.06898756660746004,\n",
      "Recall:0.8803263825929284,\n",
      "AUC:0.6339520402005161\n"
     ]
    }
   ],
   "source": [
    "print(f\"Accuracy:{acc_nn1_relu},\\nPrecision: {pre_nn1_relu},\\nRecall:{recall_nn1_relu},\\nAUC:{auc_nn1_relu}\")"
   ]
  },
  {
   "cell_type": "markdown",
   "metadata": {},
   "source": [
    "## 3.Decision Tree"
   ]
  },
  {
   "cell_type": "code",
   "execution_count": 46,
   "metadata": {},
   "outputs": [],
   "source": [
    "from sklearn.tree import DecisionTreeClassifier"
   ]
  },
  {
   "cell_type": "code",
   "execution_count": 47,
   "metadata": {},
   "outputs": [],
   "source": [
    "def dt_classify(X,y, md=1):\n",
    "    dt = DecisionTreeClassifier(max_depth = md, random_state=1234).fit(X,y)\n",
    "    return dt"
   ]
  },
  {
   "cell_type": "markdown",
   "metadata": {},
   "source": [
    "## 3.1 max-depth 1 Overview"
   ]
  },
  {
   "cell_type": "code",
   "execution_count": 48,
   "metadata": {},
   "outputs": [],
   "source": [
    "dt1= dt_classify(X_train,y_train)"
   ]
  },
  {
   "cell_type": "code",
   "execution_count": 49,
   "metadata": {},
   "outputs": [
    {
     "data": {
      "image/png": "[encoded data removed]",
      "text/plain": [
       "<Figure size 432x288 with 1 Axes>"
      ]
     },
     "metadata": {
      "needs_background": "light"
     },
     "output_type": "display_data"
    }
   ],
   "source": [
    "pred_train = pd.DataFrame().assign(\n",
    "    actual=y_train, pred=dt1.predict_proba(X_train)[:, 1] ## drop first column which is useless\n",
    ")\n",
    "pred_test = pd.DataFrame().assign(actual=y_test, pred=dt1.predict_proba(X_test)[:, 1])\n",
    "\n",
    "dct = {\"train\": pred_train, \"test\": pred_test}\n",
    "fig = rsm.gains_plot(dct, \"actual\", 1, \"pred\").legend(title=None)"
   ]
  },
  {
   "cell_type": "markdown",
   "metadata": {},
   "source": [
    "The graph indicates that max_depth = 1 can't be a good model, then the next step is tuning"
   ]
  },
  {
   "cell_type": "markdown",
   "metadata": {},
   "source": [
    "## 3.2 Decision Tree Tuning"
   ]
  },
  {
   "cell_type": "markdown",
   "metadata": {},
   "source": [
    "Check sub-notebooks/dt-cv.ipynb for details. Among them, when max depth =6 we get the best performance."
   ]
  },
  {
   "cell_type": "code",
   "execution_count": 50,
   "metadata": {},
   "outputs": [
    {
     "name": "stdout",
     "output_type": "stream",
     "text": [
      "Actual profit in wave1:36822.3, Expected profit in wave2: 437476.08\n"
     ]
    }
   ],
   "source": [
    "dt6 = dt_classify(X_train, y_train, 6)\n",
    "pred['pred_dt6'] = dt6.predict_proba(intuit75k_std[x_col])[:, 1]\n",
    "pred['wave1_mailto_dt6'] = pred['pred_dt6']> 1.41/(60)\n",
    "pred['wave2_mailto_dt6'] = pred['pred_dt6']> 1.41/(60*0.5)\n",
    "act_wave1_prof_dt6 = functions.profit_actual(pred,mailto='wave1_mailto_dt6')[-1]\n",
    "exp_wave2_prof_dt6 = functions.expected_profit_wave2(pred,mailto='wave2_mailto_dt6')[-1]\n",
    "print(f\"Actual profit in wave1:{act_wave1_prof_dt6}, Expected profit in wave2: {exp_wave2_prof_dt6}\")"
   ]
  },
  {
   "cell_type": "markdown",
   "metadata": {},
   "source": [
    "### 3.3 Special topic: Use entropy as criterion"
   ]
  },
  {
   "cell_type": "code",
   "execution_count": 51,
   "metadata": {},
   "outputs": [],
   "source": [
    "def dt_classify_rnt(X,y, md=1):\n",
    "    dt = DecisionTreeClassifier(max_depth = md, random_state=1234,criterion ='entropy').fit(X,y)\n",
    "    return dt"
   ]
  },
  {
   "cell_type": "code",
   "execution_count": 52,
   "metadata": {},
   "outputs": [
    {
     "name": "stdout",
     "output_type": "stream",
     "text": [
      "Actual profit in wave1:36278.94, Expected profit in wave2: 403217.82\n"
     ]
    }
   ],
   "source": [
    "dt6_ent = dt_classify_rnt(X_train, y_train, 6)\n",
    "pred['pred_dt6_ent'] = dt6_ent.predict_proba(intuit75k_std[x_col])[:, 1]\n",
    "pred['wave1_mailto_dt6_ent'] = pred['pred_dt6_ent']> 1.41/(60)\n",
    "pred['wave2_mailto_dt6_ent'] = pred['pred_dt6_ent']> 1.41/(60*0.5)\n",
    "act_wave1_prof_dt6_ent = functions.profit_actual(pred,mailto='wave1_mailto_dt6_ent')[-1]\n",
    "exp_wave2_prof_dt6_ent = functions.expected_profit_wave2(pred,mailto='wave2_mailto_dt6_ent')[-1]\n",
    "print(f\"Actual profit in wave1:{act_wave1_prof_dt6_ent}, Expected profit in wave2: {exp_wave2_prof_dt6_ent}\")"
   ]
  },
  {
   "cell_type": "markdown",
   "metadata": {},
   "source": [
    "If we keep max depth = 6, entropy perform worse than gini"
   ]
  },
  {
   "cell_type": "markdown",
   "metadata": {},
   "source": [
    "### 3.4 Bagging of decision tree"
   ]
  },
  {
   "cell_type": "code",
   "execution_count": 53,
   "metadata": {},
   "outputs": [],
   "source": [
    "from sklearn.ensemble import BaggingClassifier\n",
    "\n",
    "dt6 = dt_classify(X_train, y_train, 6)\n",
    "bc = BaggingClassifier(base_estimator=dt6, n_estimators=300, random_state=1234).fit(X_train, y_train)"
   ]
  },
  {
   "cell_type": "code",
   "execution_count": 54,
   "metadata": {},
   "outputs": [
    {
     "name": "stdout",
     "output_type": "stream",
     "text": [
      "Actual profit in wave1:37207.8, Expected profit in wave2: 439399.38\n"
     ]
    }
   ],
   "source": [
    "pred['pred_bc'] = bc.predict_proba(intuit75k_std[x_col])[:, 1]\n",
    "pred['wave1_mailto_bc'] = pred['pred_bc']> 1.41/(60)\n",
    "pred['wave2_mailto_bc'] = pred['pred_bc']> 1.41/(60*0.5)\n",
    "act_wave1_prof_bc = functions.profit_actual(pred,mailto='wave1_mailto_bc')[-1]\n",
    "exp_wave2_prof_bc = functions.expected_profit_wave2(pred,mailto='wave2_mailto_bc')[-1]\n",
    "print(f\"Actual profit in wave1:{act_wave1_prof_bc}, Expected profit in wave2: {exp_wave2_prof_bc}\")"
   ]
  },
  {
   "cell_type": "markdown",
   "metadata": {},
   "source": [
    "Bagging is better than dt6"
   ]
  },
  {
   "cell_type": "markdown",
   "metadata": {},
   "source": [
    "## 4. Random Forest"
   ]
  },
  {
   "cell_type": "code",
   "execution_count": 55,
   "metadata": {},
   "outputs": [],
   "source": [
    "from sklearn.ensemble import RandomForestClassifier\n",
    "\n",
    "rf = RandomForestClassifier(n_estimators=300, random_state=1234).fit(X_train, y_train)"
   ]
  },
  {
   "cell_type": "code",
   "execution_count": 56,
   "metadata": {},
   "outputs": [
    {
     "name": "stdout",
     "output_type": "stream",
     "text": [
      "Actual profit in wave1:34283.94, Expected profit in wave2: 363922.98000000004\n"
     ]
    }
   ],
   "source": [
    "pred['pred_rf'] = rf.predict_proba(intuit75k_std[x_col])[:, 1]\n",
    "pred['wave1_mailto_rf'] = pred['pred_rf']> 1.41/(60)\n",
    "pred['wave2_mailto_rf'] = pred['pred_rf']> 1.41/(60*0.5)\n",
    "act_wave1_prof_rf = functions.profit_actual(pred,mailto='wave1_mailto_rf')[-1]\n",
    "exp_wave2_prof_rf = functions.expected_profit_wave2(pred,mailto='wave2_mailto_rf')[-1]\n",
    "print(f\"Actual profit in wave1:{act_wave1_prof_rf}, Expected profit in wave2: {exp_wave2_prof_rf}\")"
   ]
  },
  {
   "cell_type": "markdown",
   "metadata": {},
   "source": [
    "Random forest performs not as good as other models."
   ]
  },
  {
   "cell_type": "markdown",
   "metadata": {},
   "source": [
    "## 5. Gradient Boosting"
   ]
  },
  {
   "cell_type": "code",
   "execution_count": 57,
   "metadata": {},
   "outputs": [],
   "source": [
    "from sklearn.ensemble import GradientBoostingClassifier\n",
    "\n",
    "gb = GradientBoostingClassifier(n_estimators=100, learning_rate=1.0, max_depth=1, random_state=1234).fit(X_train, y_train)"
   ]
  },
  {
   "cell_type": "code",
   "execution_count": 58,
   "metadata": {},
   "outputs": [
    {
     "data": {
      "image/png": "[encoded data removed]",
      "text/plain": [
       "<Figure size 432x288 with 1 Axes>"
      ]
     },
     "metadata": {
      "needs_background": "light"
     },
     "output_type": "display_data"
    }
   ],
   "source": [
    "pred_train = pd.DataFrame().assign(\n",
    "    actual=y_train, pred=gb.predict_proba(X_train)[:, 1] ## drop first column which is useless\n",
    ")\n",
    "pred_test = pd.DataFrame().assign(actual=y_test, pred=gb.predict_proba(X_test)[:, 1])\n",
    "\n",
    "dct = {\"train\": pred_train, \"test\": pred_test}\n",
    "fig = rsm.gains_plot(dct, \"actual\", 1, \"pred\").legend(title=None)"
   ]
  },
  {
   "cell_type": "markdown",
   "metadata": {},
   "source": [
    "The graph indicates that learning rate = 1 and  max depth =1 can't be a good model, then the next step is tuning"
   ]
  },
  {
   "cell_type": "markdown",
   "metadata": {},
   "source": [
    "### 5.1 Gradient Boosting Tuning"
   ]
  },
  {
   "cell_type": "markdown",
   "metadata": {},
   "source": [
    "Check sub-notebooks/gb-cv.ipynb for details. Among them, when learning_rate = 0.1 and max depth =3 we get the best performance."
   ]
  },
  {
   "cell_type": "code",
   "execution_count": 59,
   "metadata": {},
   "outputs": [],
   "source": [
    "gb_cv = GradientBoostingClassifier(n_estimators=100, learning_rate=0.1, max_depth=3, random_state=1234).fit(X_train, y_train)"
   ]
  },
  {
   "cell_type": "code",
   "execution_count": 60,
   "metadata": {},
   "outputs": [
    {
     "data": {
      "image/png": "[encoded data removed]",
      "text/plain": [
       "<Figure size 432x288 with 1 Axes>"
      ]
     },
     "metadata": {
      "needs_background": "light"
     },
     "output_type": "display_data"
    }
   ],
   "source": [
    "pred_train = pd.DataFrame().assign(\n",
    "    actual=y_train, pred=gb_cv.predict_proba(X_train)[:, 1] ## drop first column which is useless\n",
    ")\n",
    "pred_test = pd.DataFrame().assign(actual=y_test, pred=gb_cv.predict_proba(X_test)[:, 1])\n",
    "\n",
    "dct = {\"train\": pred_train, \"test\": pred_test}\n",
    "fig = rsm.gains_plot(dct, \"actual\", 1, \"pred\").legend(title=None)"
   ]
  },
  {
   "cell_type": "code",
   "execution_count": 61,
   "metadata": {},
   "outputs": [
    {
     "name": "stdout",
     "output_type": "stream",
     "text": [
      "Actual profit in wave1:38363.76, Expected profit in wave2: 452725.62\n"
     ]
    }
   ],
   "source": [
    "pred['pred_gb'] = gb_cv.predict_proba(intuit75k_std[x_col])[:, 1]\n",
    "pred['wave1_mailto_gb'] = pred['pred_gb']> 1.41/(60)\n",
    "pred['wave2_mailto_gb'] = pred['pred_gb']> 1.41/(60*0.5)\n",
    "act_wave1_prof_gb = functions.profit_actual(pred,mailto='wave1_mailto_gb')[-1]\n",
    "exp_wave2_prof_gb = functions.expected_profit_wave2(pred,mailto='wave2_mailto_gb')[-1]\n",
    "print(f\"Actual profit in wave1:{act_wave1_prof_gb}, Expected profit in wave2: {exp_wave2_prof_gb}\")"
   ]
  },
  {
   "cell_type": "code",
   "execution_count": 62,
   "metadata": {},
   "outputs": [],
   "source": [
    "y_pred = pred.loc[pred.training==0,'wave1_mailto_gb'].astype(int)\n",
    "acc_gb = accuracy_score(y_test,y_pred)\n",
    "pre_gb = precision_score(y_test,y_pred)\n",
    "recall_gb = recall_score(y_test,y_pred)\n",
    "auc_gb = roc_auc_score(y_test,y_pred)"
   ]
  },
  {
   "cell_type": "code",
   "execution_count": 63,
   "metadata": {},
   "outputs": [
    {
     "name": "stdout",
     "output_type": "stream",
     "text": [
      "Accuracy:0.47142222222222224,\n",
      "Precision: 0.07398926089703095,\n",
      "Recall:0.8495013599274706,\n",
      "AUC:0.6507169369156444\n"
     ]
    }
   ],
   "source": [
    "print(f\"Accuracy:{acc_gb},\\nPrecision: {pre_gb},\\nRecall:{recall_gb},\\nAUC:{auc_gb}\")"
   ]
  },
  {
   "cell_type": "markdown",
   "metadata": {},
   "source": [
    "## 6.Compare"
   ]
  },
  {
   "cell_type": "markdown",
   "metadata": {},
   "source": [
    "- Logit ( Base, will not be used to prediction)\n",
    "- NN: nn3-1, nn2 ,nn1,nn1_relu\n",
    "- Decision tree: dt6\n",
    "- Bagging: bc ( based on dt6)\n",
    "- Random Forest\n",
    "- Gradient Boosting"
   ]
  },
  {
   "cell_type": "code",
   "execution_count": 64,
   "metadata": {},
   "outputs": [],
   "source": [
    "plot_data  = pd.DataFrame(\n",
    "{ 'Name':['Logit','nn1','nn2','nn3-1','nn1_relu','dTree','Bagging','rf','gb'],\n",
    "'Wave1': [act_wave1_prof_lr1,act_wave1_prof_nn1,act_wave1_prof_nn2,act_wave1_prof_nn3_1,act_wave1_prof_nn1_relu,act_wave1_prof_dt6,act_wave1_prof_bc,act_wave1_prof_rf,act_wave1_prof_gb],\n",
    "'Wave2': [exp_wave2_prof_lr1, exp_wave2_prof_nn1,exp_wave2_prof_nn2,exp_wave2_prof_nn3_1,exp_wave2_prof_nn1_relu,exp_wave2_prof_dt6,exp_wave2_prof_bc,exp_wave2_prof_rf,exp_wave2_prof_gb]\n",
    "})"
   ]
  },
  {
   "cell_type": "code",
   "execution_count": 65,
   "metadata": {},
   "outputs": [
    {
     "data": {
      "text/plain": [
       "(array([0, 1, 2, 3, 4, 5, 6, 7, 8]),\n",
       " [Text(0, 0, 'rf'),\n",
       "  Text(1, 0, 'dTree'),\n",
       "  Text(2, 0, 'Bagging'),\n",
       "  Text(3, 0, 'nn1'),\n",
       "  Text(4, 0, 'nn2'),\n",
       "  Text(5, 0, 'Logit'),\n",
       "  Text(6, 0, 'gb'),\n",
       "  Text(7, 0, 'nn1_relu'),\n",
       "  Text(8, 0, 'nn3-1')])"
      ]
     },
     "execution_count": 65,
     "metadata": {},
     "output_type": "execute_result"
    },
    {
     "data": {
      "image/png": "[encoded data removed]",
      "text/plain": [
       "<Figure size 432x288 with 1 Axes>"
      ]
     },
     "metadata": {
      "needs_background": "light"
     },
     "output_type": "display_data"
    }
   ],
   "source": [
    "fig = sns.barplot(data = plot_data,x='Name',y='Wave1',color =\"slateblue\",order=plot_data.sort_values('Wave1').Name)\n",
    "fig.set(xlabel=\"\", ylabel=\"Wave 1 actual profit\", title=\"Plot 2.1- Actual profit for wave 1\")\n",
    "fig.bar_label(fig.containers[0])\n",
    "plt.xticks(rotation=45)"
   ]
  },
  {
   "cell_type": "code",
   "execution_count": 66,
   "metadata": {},
   "outputs": [
    {
     "data": {
      "text/plain": [
       "(array([0, 1, 2, 3, 4, 5, 6, 7, 8]),\n",
       " [Text(0, 0, 'rf'),\n",
       "  Text(1, 0, 'dTree'),\n",
       "  Text(2, 0, 'Bagging'),\n",
       "  Text(3, 0, 'nn1'),\n",
       "  Text(4, 0, 'nn2'),\n",
       "  Text(5, 0, 'Logit'),\n",
       "  Text(6, 0, 'gb'),\n",
       "  Text(7, 0, 'nn1_relu'),\n",
       "  Text(8, 0, 'nn3-1')])"
      ]
     },
     "execution_count": 66,
     "metadata": {},
     "output_type": "execute_result"
    },
    {
     "data": {
      "image/png": "[encoded data removed]",
      "text/plain": [
       "<Figure size 432x288 with 1 Axes>"
      ]
     },
     "metadata": {
      "needs_background": "light"
     },
     "output_type": "display_data"
    }
   ],
   "source": [
    "fig = sns.barplot(data = plot_data,x='Name',y='Wave2',color =\"slateblue\",order=plot_data.sort_values('Wave1').Name)\n",
    "fig.set(xlabel=\"\", ylabel=\"Wave 2 expected profit\", title=\"Plot 2.2- Expetced profit for wave 2\")\n",
    "fig.bar_label(fig.containers[0])\n",
    "plt.xticks(rotation=45)"
   ]
  },
  {
   "cell_type": "markdown",
   "metadata": {},
   "source": [
    "Given the performance for both actual profit and expected profit, we could compare the prediction results from nn1,nn2,nn3-1 and gb"
   ]
  },
  {
   "cell_type": "markdown",
   "metadata": {},
   "source": [
    "### 6.2 Average probability"
   ]
  },
  {
   "cell_type": "code",
   "execution_count": 67,
   "metadata": {},
   "outputs": [],
   "source": [
    "pred['pred_best4'] = (pred['pred_nn1'] + pred['pred_nn2']+pred['pred_nn3_1']+pred['pred_gb'])/4"
   ]
  },
  {
   "cell_type": "code",
   "execution_count": 68,
   "metadata": {},
   "outputs": [
    {
     "name": "stdout",
     "output_type": "stream",
     "text": [
      "Actual profit in wave1:38147.22, Expected profit in wave2: 459422.01\n"
     ]
    }
   ],
   "source": [
    "pred['wave1_mailto_b4'] = pred['pred_best4']> 1.41/(60)\n",
    "pred['wave2_mailto_b4'] = pred['pred_best4']> 1.41/(60*0.5)\n",
    "act_wave1_prof_b4 = functions.profit_actual(pred,mailto='wave1_mailto_b4')[-1]\n",
    "exp_wave2_prof_b4 = functions.expected_profit_wave2(pred,mailto='wave2_mailto_b4')[-1]\n",
    "print(f\"Actual profit in wave1:{act_wave1_prof_b4}, Expected profit in wave2: {exp_wave2_prof_b4}\")"
   ]
  },
  {
   "cell_type": "code",
   "execution_count": 69,
   "metadata": {},
   "outputs": [],
   "source": [
    "y_pred = pred.loc[pred.training==0,'wave1_mailto_b4'].astype(int)\n",
    "acc_b4 = accuracy_score(y_test,y_pred)\n",
    "pre_b4 = precision_score(y_test,y_pred)\n",
    "recall_b4 = recall_score(y_test,y_pred)\n",
    "auc_b4 = roc_auc_score(y_test,y_pred)"
   ]
  },
  {
   "cell_type": "code",
   "execution_count": 70,
   "metadata": {},
   "outputs": [
    {
     "name": "stdout",
     "output_type": "stream",
     "text": [
      "Accuracy:0.4501777777777778,\n",
      "Precision: 0.07181942544459645,\n",
      "Recall:0.85675430643699,\n",
      "AUC:0.6429866779182193\n"
     ]
    }
   ],
   "source": [
    "print(f\"Accuracy:{acc_b4},\\nPrecision: {pre_b4},\\nRecall:{recall_b4},\\nAUC:{auc_b4}\")"
   ]
  }
 ],
 "metadata": {
  "kernelspec": {
   "display_name": "Python 3 (ipykernel)",
   "language": "python",
   "name": "python3"
  },
  "language_info": {
   "codemirror_mode": {
    "name": "ipython",
    "version": 3
   },
   "file_extension": ".py",
   "mimetype": "text/x-python",
   "name": "python",
   "nbconvert_exporter": "python",
   "pygments_lexer": "ipython3",
   "version": "3.9.7"
  }
 },
 "nbformat": 4,
 "nbformat_minor": 4
}
